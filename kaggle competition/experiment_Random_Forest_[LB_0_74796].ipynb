{
  "nbformat": 4,
  "nbformat_minor": 0,
  "metadata": {
    "colab": {
      "provenance": [],
      "collapsed_sections": [
        "uW_0omXvyCEL",
        "SJXfKgpbyLbR",
        "MEB9zFsfyeKA",
        "ZoMhFzjDysAW"
      ],
      "authorship_tag": "ABX9TyPfxIS02Z4wL/kaeIrzWUNF",
      "include_colab_link": true
    },
    "kernelspec": {
      "name": "python3",
      "display_name": "Python 3"
    },
    "language_info": {
      "name": "python"
    }
  },
  "cells": [
    {
      "cell_type": "markdown",
      "metadata": {
        "id": "view-in-github",
        "colab_type": "text"
      },
      "source": [
        "<a href=\"https://colab.research.google.com/github/diwert-ai/First-step-in-NLP-HSE-bootcamp-/blob/main/kaggle%20competition/experiment_Random_Forest_%5BLB_0_74796%5D.ipynb\" target=\"_parent\"><img src=\"https://colab.research.google.com/assets/colab-badge.svg\" alt=\"Open In Colab\"/></a>"
      ]
    },
    {
      "cell_type": "markdown",
      "source": [
        "# Mount google.drive and copy dataset to colab linux instance"
      ],
      "metadata": {
        "id": "bQDiQxbQugmn"
      }
    },
    {
      "cell_type": "code",
      "execution_count": null,
      "metadata": {
        "colab": {
          "base_uri": "https://localhost:8080/"
        },
        "id": "19EdqtsoH5wu",
        "outputId": "c9c5f122-d7f3-478a-8e76-beb0188bb3eb"
      },
      "outputs": [
        {
          "output_type": "stream",
          "name": "stdout",
          "text": [
            "Mounted at /content/drive\n"
          ]
        }
      ],
      "source": [
        "from google.colab import drive\n",
        "drive.mount('/content/drive')"
      ]
    },
    {
      "cell_type": "code",
      "source": [
        "# DATASET =  {'maindata': 'hse-nlp-bootcamp.zip'}\n",
        "\n",
        "\n",
        "INPUT_DIR ='/content/drive/MyDrive/kaggle/fsnlp_hse/input/'\n",
        "OUTPUT_DIR = '/content/drive/MyDrive/kaggle/fsnlp_hse/output/'\n",
        "\n",
        "WORK_DIR='/content/'\n",
        "EXPERIMENT='randfor'\n",
        "EXPERIMENT_DIR = OUTPUT_DIR + EXPERIMENT+'/'\n",
        "\n",
        "DATASET_DIR = INPUT_DIR\n",
        "METADATA_DIR = INPUT_DIR\n",
        "\n",
        "!mkdir {EXPERIMENT_DIR}"
      ],
      "metadata": {
        "id": "5JGKcfRvIMP-",
        "colab": {
          "base_uri": "https://localhost:8080/"
        },
        "outputId": "c29c4316-a5f9-4072-fb61-d46a4ad3d1b1"
      },
      "execution_count": null,
      "outputs": [
        {
          "output_type": "stream",
          "name": "stdout",
          "text": [
            "mkdir: cannot create directory ‘/content/drive/MyDrive/kaggle/fsnlp_hse/output/randfor/’: File exists\n"
          ]
        }
      ]
    },
    {
      "cell_type": "markdown",
      "source": [
        "# Install and set up Kaggle API"
      ],
      "metadata": {
        "id": "_FRUrySVuxLa"
      }
    },
    {
      "cell_type": "code",
      "source": [
        "from google.colab import files\n",
        "uploaded = files.upload()"
      ],
      "metadata": {
        "colab": {
          "base_uri": "https://localhost:8080/",
          "height": 74
        },
        "id": "IUMCyuwcu2Cb",
        "outputId": "37b2d7ba-c70d-4c6d-adf2-f604655e496c"
      },
      "execution_count": null,
      "outputs": [
        {
          "output_type": "display_data",
          "data": {
            "text/plain": [
              "<IPython.core.display.HTML object>"
            ],
            "text/html": [
              "\n",
              "     <input type=\"file\" id=\"files-78fd55d2-25d2-42ce-bc48-ca533eb01e83\" name=\"files[]\" multiple disabled\n",
              "        style=\"border:none\" />\n",
              "     <output id=\"result-78fd55d2-25d2-42ce-bc48-ca533eb01e83\">\n",
              "      Upload widget is only available when the cell has been executed in the\n",
              "      current browser session. Please rerun this cell to enable.\n",
              "      </output>\n",
              "      <script>// Copyright 2017 Google LLC\n",
              "//\n",
              "// Licensed under the Apache License, Version 2.0 (the \"License\");\n",
              "// you may not use this file except in compliance with the License.\n",
              "// You may obtain a copy of the License at\n",
              "//\n",
              "//      http://www.apache.org/licenses/LICENSE-2.0\n",
              "//\n",
              "// Unless required by applicable law or agreed to in writing, software\n",
              "// distributed under the License is distributed on an \"AS IS\" BASIS,\n",
              "// WITHOUT WARRANTIES OR CONDITIONS OF ANY KIND, either express or implied.\n",
              "// See the License for the specific language governing permissions and\n",
              "// limitations under the License.\n",
              "\n",
              "/**\n",
              " * @fileoverview Helpers for google.colab Python module.\n",
              " */\n",
              "(function(scope) {\n",
              "function span(text, styleAttributes = {}) {\n",
              "  const element = document.createElement('span');\n",
              "  element.textContent = text;\n",
              "  for (const key of Object.keys(styleAttributes)) {\n",
              "    element.style[key] = styleAttributes[key];\n",
              "  }\n",
              "  return element;\n",
              "}\n",
              "\n",
              "// Max number of bytes which will be uploaded at a time.\n",
              "const MAX_PAYLOAD_SIZE = 100 * 1024;\n",
              "\n",
              "function _uploadFiles(inputId, outputId) {\n",
              "  const steps = uploadFilesStep(inputId, outputId);\n",
              "  const outputElement = document.getElementById(outputId);\n",
              "  // Cache steps on the outputElement to make it available for the next call\n",
              "  // to uploadFilesContinue from Python.\n",
              "  outputElement.steps = steps;\n",
              "\n",
              "  return _uploadFilesContinue(outputId);\n",
              "}\n",
              "\n",
              "// This is roughly an async generator (not supported in the browser yet),\n",
              "// where there are multiple asynchronous steps and the Python side is going\n",
              "// to poll for completion of each step.\n",
              "// This uses a Promise to block the python side on completion of each step,\n",
              "// then passes the result of the previous step as the input to the next step.\n",
              "function _uploadFilesContinue(outputId) {\n",
              "  const outputElement = document.getElementById(outputId);\n",
              "  const steps = outputElement.steps;\n",
              "\n",
              "  const next = steps.next(outputElement.lastPromiseValue);\n",
              "  return Promise.resolve(next.value.promise).then((value) => {\n",
              "    // Cache the last promise value to make it available to the next\n",
              "    // step of the generator.\n",
              "    outputElement.lastPromiseValue = value;\n",
              "    return next.value.response;\n",
              "  });\n",
              "}\n",
              "\n",
              "/**\n",
              " * Generator function which is called between each async step of the upload\n",
              " * process.\n",
              " * @param {string} inputId Element ID of the input file picker element.\n",
              " * @param {string} outputId Element ID of the output display.\n",
              " * @return {!Iterable<!Object>} Iterable of next steps.\n",
              " */\n",
              "function* uploadFilesStep(inputId, outputId) {\n",
              "  const inputElement = document.getElementById(inputId);\n",
              "  inputElement.disabled = false;\n",
              "\n",
              "  const outputElement = document.getElementById(outputId);\n",
              "  outputElement.innerHTML = '';\n",
              "\n",
              "  const pickedPromise = new Promise((resolve) => {\n",
              "    inputElement.addEventListener('change', (e) => {\n",
              "      resolve(e.target.files);\n",
              "    });\n",
              "  });\n",
              "\n",
              "  const cancel = document.createElement('button');\n",
              "  inputElement.parentElement.appendChild(cancel);\n",
              "  cancel.textContent = 'Cancel upload';\n",
              "  const cancelPromise = new Promise((resolve) => {\n",
              "    cancel.onclick = () => {\n",
              "      resolve(null);\n",
              "    };\n",
              "  });\n",
              "\n",
              "  // Wait for the user to pick the files.\n",
              "  const files = yield {\n",
              "    promise: Promise.race([pickedPromise, cancelPromise]),\n",
              "    response: {\n",
              "      action: 'starting',\n",
              "    }\n",
              "  };\n",
              "\n",
              "  cancel.remove();\n",
              "\n",
              "  // Disable the input element since further picks are not allowed.\n",
              "  inputElement.disabled = true;\n",
              "\n",
              "  if (!files) {\n",
              "    return {\n",
              "      response: {\n",
              "        action: 'complete',\n",
              "      }\n",
              "    };\n",
              "  }\n",
              "\n",
              "  for (const file of files) {\n",
              "    const li = document.createElement('li');\n",
              "    li.append(span(file.name, {fontWeight: 'bold'}));\n",
              "    li.append(span(\n",
              "        `(${file.type || 'n/a'}) - ${file.size} bytes, ` +\n",
              "        `last modified: ${\n",
              "            file.lastModifiedDate ? file.lastModifiedDate.toLocaleDateString() :\n",
              "                                    'n/a'} - `));\n",
              "    const percent = span('0% done');\n",
              "    li.appendChild(percent);\n",
              "\n",
              "    outputElement.appendChild(li);\n",
              "\n",
              "    const fileDataPromise = new Promise((resolve) => {\n",
              "      const reader = new FileReader();\n",
              "      reader.onload = (e) => {\n",
              "        resolve(e.target.result);\n",
              "      };\n",
              "      reader.readAsArrayBuffer(file);\n",
              "    });\n",
              "    // Wait for the data to be ready.\n",
              "    let fileData = yield {\n",
              "      promise: fileDataPromise,\n",
              "      response: {\n",
              "        action: 'continue',\n",
              "      }\n",
              "    };\n",
              "\n",
              "    // Use a chunked sending to avoid message size limits. See b/62115660.\n",
              "    let position = 0;\n",
              "    do {\n",
              "      const length = Math.min(fileData.byteLength - position, MAX_PAYLOAD_SIZE);\n",
              "      const chunk = new Uint8Array(fileData, position, length);\n",
              "      position += length;\n",
              "\n",
              "      const base64 = btoa(String.fromCharCode.apply(null, chunk));\n",
              "      yield {\n",
              "        response: {\n",
              "          action: 'append',\n",
              "          file: file.name,\n",
              "          data: base64,\n",
              "        },\n",
              "      };\n",
              "\n",
              "      let percentDone = fileData.byteLength === 0 ?\n",
              "          100 :\n",
              "          Math.round((position / fileData.byteLength) * 100);\n",
              "      percent.textContent = `${percentDone}% done`;\n",
              "\n",
              "    } while (position < fileData.byteLength);\n",
              "  }\n",
              "\n",
              "  // All done.\n",
              "  yield {\n",
              "    response: {\n",
              "      action: 'complete',\n",
              "    }\n",
              "  };\n",
              "}\n",
              "\n",
              "scope.google = scope.google || {};\n",
              "scope.google.colab = scope.google.colab || {};\n",
              "scope.google.colab._files = {\n",
              "  _uploadFiles,\n",
              "  _uploadFilesContinue,\n",
              "};\n",
              "})(self);\n",
              "</script> "
            ]
          },
          "metadata": {}
        },
        {
          "output_type": "stream",
          "name": "stdout",
          "text": [
            "Saving kaggle.json to kaggle.json\n"
          ]
        }
      ]
    },
    {
      "cell_type": "code",
      "source": [
        "!pip install -q kaggle --upgrade\n",
        "!mkdir -p ~/.kaggle\n",
        "!cp kaggle.json ~/.kaggle/\n",
        "!ls ~/.kaggle\n",
        "!chmod 600 /root/.kaggle/kaggle.json"
      ],
      "metadata": {
        "colab": {
          "base_uri": "https://localhost:8080/"
        },
        "id": "AUf0QVv_u_c6",
        "outputId": "f465b231-3d85-4363-82b5-25a27811d9c9"
      },
      "execution_count": null,
      "outputs": [
        {
          "output_type": "stream",
          "name": "stdout",
          "text": [
            "kaggle.json\n"
          ]
        }
      ]
    },
    {
      "cell_type": "code",
      "source": [
        "!kaggle competitions download -c hse-nlp-bootcamp"
      ],
      "metadata": {
        "colab": {
          "base_uri": "https://localhost:8080/"
        },
        "id": "ShForPYVg98G",
        "outputId": "ff51a909-b349-496d-fc1b-8dc5754a02aa"
      },
      "execution_count": null,
      "outputs": [
        {
          "output_type": "stream",
          "name": "stdout",
          "text": [
            "Downloading hse-nlp-bootcamp.zip to /content\n",
            " 77% 46.0M/59.8M [00:00<00:00, 149MB/s]\n",
            "100% 59.8M/59.8M [00:00<00:00, 147MB/s]\n"
          ]
        }
      ]
    },
    {
      "cell_type": "code",
      "source": [
        "!unzip hse-nlp-bootcamp.zip"
      ],
      "metadata": {
        "colab": {
          "base_uri": "https://localhost:8080/"
        },
        "id": "xwaEmv-ZhC5r",
        "outputId": "0a0c1d53-b826-495b-b027-8e3ebc9749de"
      },
      "execution_count": null,
      "outputs": [
        {
          "output_type": "stream",
          "name": "stdout",
          "text": [
            "Archive:  hse-nlp-bootcamp.zip\n",
            "  inflating: new_test_ml.csv         \n",
            "  inflating: sample_submission.csv   \n",
            "  inflating: train_ml.csv            \n"
          ]
        }
      ]
    },
    {
      "cell_type": "markdown",
      "source": [
        "# Imports"
      ],
      "metadata": {
        "id": "Gy4WeJMZvFJC"
      }
    },
    {
      "cell_type": "code",
      "source": [
        "import pandas as pd\n",
        "import numpy as np\n",
        "import random\n",
        "import pprint as pp\n",
        "import os\n",
        "\n",
        "\n",
        "# import re\n",
        "# from pymorphy2 import MorphAnalyzer\n",
        "# from functools import lru_cache\n",
        "# from nltk.corpus import stopwords\n",
        "\n",
        "# from multiprocessing import Pool\n",
        "# from tqdm import tqdm\n",
        "\n",
        "import nltk\n",
        "# nltk.download('stopwords')\n",
        "nltk.download('punkt')\n",
        "from nltk.tokenize import word_tokenize\n",
        "\n",
        "from sklearn.feature_extraction.text import TfidfVectorizer\n",
        "from sklearn.linear_model import LogisticRegression\n",
        "from sklearn.model_selection import train_test_split\n",
        "from sklearn.pipeline import Pipeline, FeatureUnion\n",
        "from sklearn.ensemble import RandomForestClassifier\n",
        "from sklearn.preprocessing import FunctionTransformer\n",
        "from sklearn.model_selection import GridSearchCV, StratifiedKFold\n",
        "from sklearn.metrics import classification_report, f1_score\n",
        "from joblib import dump, load"
      ],
      "metadata": {
        "colab": {
          "base_uri": "https://localhost:8080/"
        },
        "id": "kVu8ppjzImBa",
        "outputId": "8a141dfb-e99e-48f4-b537-178d09bdcee7"
      },
      "execution_count": null,
      "outputs": [
        {
          "output_type": "stream",
          "name": "stderr",
          "text": [
            "[nltk_data] Downloading package punkt to /root/nltk_data...\n",
            "[nltk_data]   Unzipping tokenizers/punkt.zip.\n"
          ]
        }
      ]
    },
    {
      "cell_type": "markdown",
      "source": [
        "# Configuration"
      ],
      "metadata": {
        "id": "sthlIvdsxzXZ"
      }
    },
    {
      "cell_type": "code",
      "source": [
        "class Config:\n",
        "  seed = 12536271\n",
        "  samples_num = 51476\n",
        "  experiment = EXPERIMENT"
      ],
      "metadata": {
        "id": "PFbfLh_OzvW5"
      },
      "execution_count": null,
      "outputs": []
    },
    {
      "cell_type": "markdown",
      "source": [
        "# Main pipeline starts here"
      ],
      "metadata": {
        "id": "g76qhWw4z5uO"
      }
    },
    {
      "cell_type": "code",
      "source": [
        "def set_seed(seed=42):\n",
        "    np.random.seed(seed)\n",
        "    random.seed(seed)\n",
        "    os.environ['PYTHONHASHSEED'] = str(seed)\n",
        "\n",
        "\n",
        "set_seed(Config.seed)"
      ],
      "metadata": {
        "id": "7aKmye4OIw8N"
      },
      "execution_count": null,
      "outputs": []
    },
    {
      "cell_type": "markdown",
      "source": [
        "## Load and process train data"
      ],
      "metadata": {
        "id": "nmVoLp6ix3TC"
      }
    },
    {
      "cell_type": "code",
      "source": [
        "df = pd.read_csv('/content/train_ml.csv')\n",
        "banks_list = list(df.bank.unique())\n",
        "df['bank_id'] = df['bank'].apply(lambda x: banks_list.index(x))\n",
        "df['date'] = pd.to_datetime(df['date'], format='%d.%m.%Y %H:%M')\n",
        "df = df.dropna()\n",
        "df = df.astype({'grades': 'int32'})\n",
        "df.head()"
      ],
      "metadata": {
        "colab": {
          "base_uri": "https://localhost:8080/",
          "height": 206
        },
        "id": "kDfkMyFGI1ln",
        "outputId": "cddaff07-c4dc-4e30-a9c0-7d2746614b1a"
      },
      "execution_count": null,
      "outputs": [
        {
          "output_type": "execute_result",
          "data": {
            "text/plain": [
              "             bank                                              feeds  grades  \\\n",
              "0            ubrr  Много лет являюсь клиентом этого банка, но пос...       1   \n",
              "1     fk_otkritie  Г. Ростов-на-Дону, ул. Ленина, 48. Были 10.12....       2   \n",
              "4   promsvyazbank  Имею потребительский кредит, взятый в Связь-ба...       2   \n",
              "7  homecreditbank  Хочу выразить глубокую благодарность всем сотр...       5   \n",
              "8             vtb  6 марта 2019г. В 10:33 при проходе в метро \"Ку...       2   \n",
              "\n",
              "                 date  bank_id  \n",
              "0 2017-02-16 16:10:00        0  \n",
              "1 2016-12-13 01:05:00        1  \n",
              "4 2020-08-04 06:38:00        4  \n",
              "7 2015-04-19 20:11:00        7  \n",
              "8 2019-03-28 18:36:00        3  "
            ],
            "text/html": [
              "\n",
              "  <div id=\"df-db2183ee-5d56-42fc-9956-f4d4d1e0eb53\">\n",
              "    <div class=\"colab-df-container\">\n",
              "      <div>\n",
              "<style scoped>\n",
              "    .dataframe tbody tr th:only-of-type {\n",
              "        vertical-align: middle;\n",
              "    }\n",
              "\n",
              "    .dataframe tbody tr th {\n",
              "        vertical-align: top;\n",
              "    }\n",
              "\n",
              "    .dataframe thead th {\n",
              "        text-align: right;\n",
              "    }\n",
              "</style>\n",
              "<table border=\"1\" class=\"dataframe\">\n",
              "  <thead>\n",
              "    <tr style=\"text-align: right;\">\n",
              "      <th></th>\n",
              "      <th>bank</th>\n",
              "      <th>feeds</th>\n",
              "      <th>grades</th>\n",
              "      <th>date</th>\n",
              "      <th>bank_id</th>\n",
              "    </tr>\n",
              "  </thead>\n",
              "  <tbody>\n",
              "    <tr>\n",
              "      <th>0</th>\n",
              "      <td>ubrr</td>\n",
              "      <td>Много лет являюсь клиентом этого банка, но пос...</td>\n",
              "      <td>1</td>\n",
              "      <td>2017-02-16 16:10:00</td>\n",
              "      <td>0</td>\n",
              "    </tr>\n",
              "    <tr>\n",
              "      <th>1</th>\n",
              "      <td>fk_otkritie</td>\n",
              "      <td>Г. Ростов-на-Дону, ул. Ленина, 48. Были 10.12....</td>\n",
              "      <td>2</td>\n",
              "      <td>2016-12-13 01:05:00</td>\n",
              "      <td>1</td>\n",
              "    </tr>\n",
              "    <tr>\n",
              "      <th>4</th>\n",
              "      <td>promsvyazbank</td>\n",
              "      <td>Имею потребительский кредит, взятый в Связь-ба...</td>\n",
              "      <td>2</td>\n",
              "      <td>2020-08-04 06:38:00</td>\n",
              "      <td>4</td>\n",
              "    </tr>\n",
              "    <tr>\n",
              "      <th>7</th>\n",
              "      <td>homecreditbank</td>\n",
              "      <td>Хочу выразить глубокую благодарность всем сотр...</td>\n",
              "      <td>5</td>\n",
              "      <td>2015-04-19 20:11:00</td>\n",
              "      <td>7</td>\n",
              "    </tr>\n",
              "    <tr>\n",
              "      <th>8</th>\n",
              "      <td>vtb</td>\n",
              "      <td>6 марта 2019г. В 10:33 при проходе в метро \"Ку...</td>\n",
              "      <td>2</td>\n",
              "      <td>2019-03-28 18:36:00</td>\n",
              "      <td>3</td>\n",
              "    </tr>\n",
              "  </tbody>\n",
              "</table>\n",
              "</div>\n",
              "      <button class=\"colab-df-convert\" onclick=\"convertToInteractive('df-db2183ee-5d56-42fc-9956-f4d4d1e0eb53')\"\n",
              "              title=\"Convert this dataframe to an interactive table.\"\n",
              "              style=\"display:none;\">\n",
              "        \n",
              "  <svg xmlns=\"http://www.w3.org/2000/svg\" height=\"24px\"viewBox=\"0 0 24 24\"\n",
              "       width=\"24px\">\n",
              "    <path d=\"M0 0h24v24H0V0z\" fill=\"none\"/>\n",
              "    <path d=\"M18.56 5.44l.94 2.06.94-2.06 2.06-.94-2.06-.94-.94-2.06-.94 2.06-2.06.94zm-11 1L8.5 8.5l.94-2.06 2.06-.94-2.06-.94L8.5 2.5l-.94 2.06-2.06.94zm10 10l.94 2.06.94-2.06 2.06-.94-2.06-.94-.94-2.06-.94 2.06-2.06.94z\"/><path d=\"M17.41 7.96l-1.37-1.37c-.4-.4-.92-.59-1.43-.59-.52 0-1.04.2-1.43.59L10.3 9.45l-7.72 7.72c-.78.78-.78 2.05 0 2.83L4 21.41c.39.39.9.59 1.41.59.51 0 1.02-.2 1.41-.59l7.78-7.78 2.81-2.81c.8-.78.8-2.07 0-2.86zM5.41 20L4 18.59l7.72-7.72 1.47 1.35L5.41 20z\"/>\n",
              "  </svg>\n",
              "      </button>\n",
              "      \n",
              "  <style>\n",
              "    .colab-df-container {\n",
              "      display:flex;\n",
              "      flex-wrap:wrap;\n",
              "      gap: 12px;\n",
              "    }\n",
              "\n",
              "    .colab-df-convert {\n",
              "      background-color: #E8F0FE;\n",
              "      border: none;\n",
              "      border-radius: 50%;\n",
              "      cursor: pointer;\n",
              "      display: none;\n",
              "      fill: #1967D2;\n",
              "      height: 32px;\n",
              "      padding: 0 0 0 0;\n",
              "      width: 32px;\n",
              "    }\n",
              "\n",
              "    .colab-df-convert:hover {\n",
              "      background-color: #E2EBFA;\n",
              "      box-shadow: 0px 1px 2px rgba(60, 64, 67, 0.3), 0px 1px 3px 1px rgba(60, 64, 67, 0.15);\n",
              "      fill: #174EA6;\n",
              "    }\n",
              "\n",
              "    [theme=dark] .colab-df-convert {\n",
              "      background-color: #3B4455;\n",
              "      fill: #D2E3FC;\n",
              "    }\n",
              "\n",
              "    [theme=dark] .colab-df-convert:hover {\n",
              "      background-color: #434B5C;\n",
              "      box-shadow: 0px 1px 3px 1px rgba(0, 0, 0, 0.15);\n",
              "      filter: drop-shadow(0px 1px 2px rgba(0, 0, 0, 0.3));\n",
              "      fill: #FFFFFF;\n",
              "    }\n",
              "  </style>\n",
              "\n",
              "      <script>\n",
              "        const buttonEl =\n",
              "          document.querySelector('#df-db2183ee-5d56-42fc-9956-f4d4d1e0eb53 button.colab-df-convert');\n",
              "        buttonEl.style.display =\n",
              "          google.colab.kernel.accessAllowed ? 'block' : 'none';\n",
              "\n",
              "        async function convertToInteractive(key) {\n",
              "          const element = document.querySelector('#df-db2183ee-5d56-42fc-9956-f4d4d1e0eb53');\n",
              "          const dataTable =\n",
              "            await google.colab.kernel.invokeFunction('convertToInteractive',\n",
              "                                                     [key], {});\n",
              "          if (!dataTable) return;\n",
              "\n",
              "          const docLinkHtml = 'Like what you see? Visit the ' +\n",
              "            '<a target=\"_blank\" href=https://colab.research.google.com/notebooks/data_table.ipynb>data table notebook</a>'\n",
              "            + ' to learn more about interactive tables.';\n",
              "          element.innerHTML = '';\n",
              "          dataTable['output_type'] = 'display_data';\n",
              "          await google.colab.output.renderOutput(dataTable, element);\n",
              "          const docLink = document.createElement('div');\n",
              "          docLink.innerHTML = docLinkHtml;\n",
              "          element.appendChild(docLink);\n",
              "        }\n",
              "      </script>\n",
              "    </div>\n",
              "  </div>\n",
              "  "
            ]
          },
          "metadata": {},
          "execution_count": 12
        }
      ]
    },
    {
      "cell_type": "code",
      "source": [
        "len(df)"
      ],
      "metadata": {
        "colab": {
          "base_uri": "https://localhost:8080/"
        },
        "id": "UW7I6KjBTrvy",
        "outputId": "3875aeb2-f9e8-4717-e5cb-51b8bb6c6233"
      },
      "execution_count": null,
      "outputs": [
        {
          "output_type": "execute_result",
          "data": {
            "text/plain": [
              "51476"
            ]
          },
          "metadata": {},
          "execution_count": 13
        }
      ]
    },
    {
      "cell_type": "code",
      "source": [
        "subset = df.sample(Config.samples_num, random_state=Config.seed)\n",
        "subset['text'] = subset.feeds.apply(lambda x: x.lower())\n",
        "subset.reset_index(drop=True, inplace=True)"
      ],
      "metadata": {
        "id": "88KrQ7DOJBIq"
      },
      "execution_count": null,
      "outputs": []
    },
    {
      "cell_type": "markdown",
      "source": [
        "## Split data on train and test data"
      ],
      "metadata": {
        "id": "uW_0omXvyCEL"
      }
    },
    {
      "cell_type": "code",
      "source": [
        "x_train, x_test, y_train, y_test = train_test_split(subset[['bank_id','text']],\n",
        "                                                    subset['grades'],\n",
        "                                                    test_size=0.1,\n",
        "                                                    random_state=Config.seed)"
      ],
      "metadata": {
        "id": "VwWVfg14JMEO"
      },
      "execution_count": null,
      "outputs": []
    },
    {
      "cell_type": "markdown",
      "source": [
        "## Set up train pipeline"
      ],
      "metadata": {
        "id": "SJXfKgpbyLbR"
      }
    },
    {
      "cell_type": "code",
      "source": [
        "def get_numeric_data(x):\n",
        "    return x[['bank_id']]\n",
        "\n",
        "def get_text_data(x):\n",
        "    return x['text']\n",
        "\n",
        "transfomer_numeric = FunctionTransformer(get_numeric_data)\n",
        "transformer_text = FunctionTransformer(get_text_data)\n",
        "\n",
        "pipeline = Pipeline([\n",
        "    ('features', FeatureUnion([\n",
        "            ('numeric_features', Pipeline([\n",
        "                ('selector', transfomer_numeric)\n",
        "            ])),\n",
        "             ('text_features', Pipeline([\n",
        "                ('selector', transformer_text),\n",
        "                ('vec', TfidfVectorizer(ngram_range=(1, 2), tokenizer=word_tokenize))\n",
        "            ]))\n",
        "         ])),\n",
        "    ('clf', RandomForestClassifier(random_state=Config.seed))\n",
        "])"
      ],
      "metadata": {
        "id": "D5bc7SNQJX7V"
      },
      "execution_count": null,
      "outputs": []
    },
    {
      "cell_type": "code",
      "source": [
        "pp.pprint(sorted(pipeline.get_params().keys()))"
      ],
      "metadata": {
        "id": "557hZTNCK65W"
      },
      "execution_count": null,
      "outputs": []
    },
    {
      "cell_type": "code",
      "source": [
        "param_grid = {'clf__n_estimators': [200],\n",
        "              'clf__min_samples_split': [3],\n",
        "              'clf__min_samples_leaf': [3],\n",
        "              'clf__criterion': ['gini'],\n",
        "              'clf__bootstrap': [False],\n",
        "              'clf__class_weight': [None]}\n",
        "\n",
        "kfold = StratifiedKFold(n_splits=5)\n",
        "scoring = {'F1': 'f1_micro'}\n",
        "refit = 'F1'"
      ],
      "metadata": {
        "id": "Qz5TrwYByU5U"
      },
      "execution_count": null,
      "outputs": []
    },
    {
      "cell_type": "markdown",
      "source": [
        "## Perform GridSearch"
      ],
      "metadata": {
        "id": "MEB9zFsfyeKA"
      }
    },
    {
      "cell_type": "code",
      "source": [
        "print(f'samples: {Config.samples_num}')\n",
        "lr_model = GridSearchCV(pipeline, param_grid=param_grid, cv=kfold, scoring=scoring, \n",
        "                         refit=refit, n_jobs=-1, return_train_score=True, verbose=10)\n",
        "lr_model.fit(x_train, y_train)\n",
        "lr_best = lr_model.best_estimator_"
      ],
      "metadata": {
        "colab": {
          "base_uri": "https://localhost:8080/"
        },
        "id": "1ritivp8JNdK",
        "outputId": "5437a2ed-3b70-4b16-9f2a-ac411f7d1926"
      },
      "execution_count": null,
      "outputs": [
        {
          "output_type": "stream",
          "name": "stdout",
          "text": [
            "samples: 51476\n",
            "Fitting 5 folds for each of 1 candidates, totalling 5 fits\n"
          ]
        },
        {
          "output_type": "stream",
          "name": "stderr",
          "text": [
            "/usr/local/lib/python3.8/dist-packages/joblib/externals/loky/process_executor.py:700: UserWarning: A worker stopped while some jobs were given to the executor. This can be caused by a too short worker timeout or by a memory leak.\n",
            "  warnings.warn(\n"
          ]
        }
      ]
    },
    {
      "cell_type": "markdown",
      "source": [
        "## Test best model"
      ],
      "metadata": {
        "id": "jOqWPVhkym4A"
      }
    },
    {
      "cell_type": "code",
      "source": [
        "pred = lr_best.predict(x_test)\n",
        "print(classification_report(pred, y_test))"
      ],
      "metadata": {
        "colab": {
          "base_uri": "https://localhost:8080/"
        },
        "id": "JVbKeifKMNx1",
        "outputId": "2a8d873b-5084-4360-d6ef-5c1b98c75325"
      },
      "execution_count": null,
      "outputs": [
        {
          "output_type": "stream",
          "name": "stdout",
          "text": [
            "              precision    recall  f1-score   support\n",
            "\n",
            "           1       1.00      0.70      0.82      3994\n",
            "           2       0.00      0.00      0.00         0\n",
            "           3       0.00      0.00      0.00         0\n",
            "           4       0.00      0.00      0.00         0\n",
            "           5       0.78      0.94      0.85      1154\n",
            "\n",
            "    accuracy                           0.75      5148\n",
            "   macro avg       0.35      0.33      0.33      5148\n",
            "weighted avg       0.95      0.75      0.83      5148\n",
            "\n"
          ]
        },
        {
          "output_type": "stream",
          "name": "stderr",
          "text": [
            "/usr/local/lib/python3.8/dist-packages/sklearn/metrics/_classification.py:1318: UndefinedMetricWarning: Recall and F-score are ill-defined and being set to 0.0 in labels with no true samples. Use `zero_division` parameter to control this behavior.\n",
            "  _warn_prf(average, modifier, msg_start, len(result))\n",
            "/usr/local/lib/python3.8/dist-packages/sklearn/metrics/_classification.py:1318: UndefinedMetricWarning: Recall and F-score are ill-defined and being set to 0.0 in labels with no true samples. Use `zero_division` parameter to control this behavior.\n",
            "  _warn_prf(average, modifier, msg_start, len(result))\n",
            "/usr/local/lib/python3.8/dist-packages/sklearn/metrics/_classification.py:1318: UndefinedMetricWarning: Recall and F-score are ill-defined and being set to 0.0 in labels with no true samples. Use `zero_division` parameter to control this behavior.\n",
            "  _warn_prf(average, modifier, msg_start, len(result))\n"
          ]
        }
      ]
    },
    {
      "cell_type": "code",
      "source": [
        "f1_score(y_test, pred, average='micro')"
      ],
      "metadata": {
        "colab": {
          "base_uri": "https://localhost:8080/"
        },
        "id": "sbVENrPymfUh",
        "outputId": "2154159a-4ae9-4fdf-a248-6025e1408140"
      },
      "execution_count": null,
      "outputs": [
        {
          "output_type": "execute_result",
          "data": {
            "text/plain": [
              "0.7492229992229992"
            ]
          },
          "metadata": {},
          "execution_count": 94
        }
      ]
    },
    {
      "cell_type": "code",
      "source": [
        "lr_model.best_params_"
      ],
      "metadata": {
        "colab": {
          "base_uri": "https://localhost:8080/"
        },
        "id": "364aJjyWNz7p",
        "outputId": "4d675708-87ec-4731-f0d7-46e17e223e78"
      },
      "execution_count": null,
      "outputs": [
        {
          "output_type": "execute_result",
          "data": {
            "text/plain": [
              "{'clf__bootstrap': False,\n",
              " 'clf__class_weight': None,\n",
              " 'clf__criterion': 'gini',\n",
              " 'clf__min_samples_leaf': 3,\n",
              " 'clf__min_samples_split': 3,\n",
              " 'clf__n_estimators': 200}"
            ]
          },
          "metadata": {},
          "execution_count": 95
        }
      ]
    },
    {
      "cell_type": "code",
      "source": [
        "lr_model.cv_results_"
      ],
      "metadata": {
        "colab": {
          "base_uri": "https://localhost:8080/"
        },
        "id": "-Uyat1IeMViU",
        "outputId": "f271ad21-bccd-46f7-ae1e-20a9be97aa5f"
      },
      "execution_count": null,
      "outputs": [
        {
          "output_type": "execute_result",
          "data": {
            "text/plain": [
              "{'mean_fit_time': array([742.47269802]),\n",
              " 'std_fit_time': array([82.59241805]),\n",
              " 'mean_score_time': array([55.34464254]),\n",
              " 'std_score_time': array([8.86230532]),\n",
              " 'param_clf__bootstrap': masked_array(data=[False],\n",
              "              mask=[False],\n",
              "        fill_value='?',\n",
              "             dtype=object),\n",
              " 'param_clf__class_weight': masked_array(data=[None],\n",
              "              mask=[False],\n",
              "        fill_value='?',\n",
              "             dtype=object),\n",
              " 'param_clf__criterion': masked_array(data=['gini'],\n",
              "              mask=[False],\n",
              "        fill_value='?',\n",
              "             dtype=object),\n",
              " 'param_clf__min_samples_leaf': masked_array(data=[3],\n",
              "              mask=[False],\n",
              "        fill_value='?',\n",
              "             dtype=object),\n",
              " 'param_clf__min_samples_split': masked_array(data=[3],\n",
              "              mask=[False],\n",
              "        fill_value='?',\n",
              "             dtype=object),\n",
              " 'param_clf__n_estimators': masked_array(data=[200],\n",
              "              mask=[False],\n",
              "        fill_value='?',\n",
              "             dtype=object),\n",
              " 'params': [{'clf__bootstrap': False,\n",
              "   'clf__class_weight': None,\n",
              "   'clf__criterion': 'gini',\n",
              "   'clf__min_samples_leaf': 3,\n",
              "   'clf__min_samples_split': 3,\n",
              "   'clf__n_estimators': 200}],\n",
              " 'split0_test_F1': array([0.75642133]),\n",
              " 'split1_test_F1': array([0.75145694]),\n",
              " 'split2_test_F1': array([0.75534211]),\n",
              " 'split3_test_F1': array([0.75175391]),\n",
              " 'split4_test_F1': array([0.75240151]),\n",
              " 'mean_test_F1': array([0.75347516]),\n",
              " 'std_test_F1': array([0.00201762]),\n",
              " 'rank_test_F1': array([1], dtype=int32),\n",
              " 'split0_train_F1': array([0.79693487]),\n",
              " 'split1_train_F1': array([0.79642221]),\n",
              " 'split2_train_F1': array([0.79558578]),\n",
              " 'split3_train_F1': array([0.79540242]),\n",
              " 'split4_train_F1': array([0.79710223]),\n",
              " 'mean_train_F1': array([0.7962895]),\n",
              " 'std_train_F1': array([0.00068946])}"
            ]
          },
          "metadata": {},
          "execution_count": 96
        }
      ]
    },
    {
      "cell_type": "code",
      "source": [
        "lr_model.best_score_"
      ],
      "metadata": {
        "colab": {
          "base_uri": "https://localhost:8080/"
        },
        "id": "8BYZiHyGMdCx",
        "outputId": "9b8a1785-216e-4a13-9b84-6a2e2331927c"
      },
      "execution_count": null,
      "outputs": [
        {
          "output_type": "execute_result",
          "data": {
            "text/plain": [
              "0.7534751598407865"
            ]
          },
          "metadata": {},
          "execution_count": 97
        }
      ]
    },
    {
      "cell_type": "code",
      "source": [
        "cv_tag = f'[cv_{lr_model.best_score_:0.4f}]'"
      ],
      "metadata": {
        "id": "Aakv1krYsf3K"
      },
      "execution_count": null,
      "outputs": []
    },
    {
      "cell_type": "code",
      "source": [
        "cv_tag"
      ],
      "metadata": {
        "colab": {
          "base_uri": "https://localhost:8080/",
          "height": 36
        },
        "id": "00EZOpXJsz8Y",
        "outputId": "9ca11821-dcce-4d13-9d26-84e10b8a19cf"
      },
      "execution_count": null,
      "outputs": [
        {
          "output_type": "execute_result",
          "data": {
            "text/plain": [
              "'[cv_0.7535]'"
            ],
            "application/vnd.google.colaboratory.intrinsic+json": {
              "type": "string"
            }
          },
          "metadata": {},
          "execution_count": 99
        }
      ]
    },
    {
      "cell_type": "markdown",
      "source": [
        "## Inference (calculating submission) "
      ],
      "metadata": {
        "id": "ZoMhFzjDysAW"
      }
    },
    {
      "cell_type": "code",
      "source": [
        "test = pd.read_csv('/content/new_test_ml.csv', index_col=0)\n",
        "test['text'] = test.feeds.apply(lambda x: x.lower())\n",
        "test['bank_id'] = test['bank'].apply(lambda x: banks_list.index(x))\n",
        "test = test[['bank_id', 'text']]\n",
        "test_pred = lr_best.predict(test)\n",
        "probs = lr_best.predict_proba(test)\n",
        "sub = pd.DataFrame({'inds': test.index,\n",
        "                    'grades': test_pred})\n",
        "sub"
      ],
      "metadata": {
        "colab": {
          "base_uri": "https://localhost:8080/",
          "height": 423
        },
        "id": "leuffYHTOnUX",
        "outputId": "0aef33c4-3df8-4f74-e785-91a2c0af9a8d"
      },
      "execution_count": null,
      "outputs": [
        {
          "output_type": "execute_result",
          "data": {
            "text/plain": [
              "        inds  grades\n",
              "0          0       1\n",
              "1          1       1\n",
              "2          2       1\n",
              "3          3       1\n",
              "4          4       1\n",
              "...      ...     ...\n",
              "17215  17215       1\n",
              "17216  17216       1\n",
              "17217  17217       1\n",
              "17218  17218       1\n",
              "17219  17219       1\n",
              "\n",
              "[17220 rows x 2 columns]"
            ],
            "text/html": [
              "\n",
              "  <div id=\"df-475e7bc8-84b0-4dcd-85fc-72c00417df98\">\n",
              "    <div class=\"colab-df-container\">\n",
              "      <div>\n",
              "<style scoped>\n",
              "    .dataframe tbody tr th:only-of-type {\n",
              "        vertical-align: middle;\n",
              "    }\n",
              "\n",
              "    .dataframe tbody tr th {\n",
              "        vertical-align: top;\n",
              "    }\n",
              "\n",
              "    .dataframe thead th {\n",
              "        text-align: right;\n",
              "    }\n",
              "</style>\n",
              "<table border=\"1\" class=\"dataframe\">\n",
              "  <thead>\n",
              "    <tr style=\"text-align: right;\">\n",
              "      <th></th>\n",
              "      <th>inds</th>\n",
              "      <th>grades</th>\n",
              "    </tr>\n",
              "  </thead>\n",
              "  <tbody>\n",
              "    <tr>\n",
              "      <th>0</th>\n",
              "      <td>0</td>\n",
              "      <td>1</td>\n",
              "    </tr>\n",
              "    <tr>\n",
              "      <th>1</th>\n",
              "      <td>1</td>\n",
              "      <td>1</td>\n",
              "    </tr>\n",
              "    <tr>\n",
              "      <th>2</th>\n",
              "      <td>2</td>\n",
              "      <td>1</td>\n",
              "    </tr>\n",
              "    <tr>\n",
              "      <th>3</th>\n",
              "      <td>3</td>\n",
              "      <td>1</td>\n",
              "    </tr>\n",
              "    <tr>\n",
              "      <th>4</th>\n",
              "      <td>4</td>\n",
              "      <td>1</td>\n",
              "    </tr>\n",
              "    <tr>\n",
              "      <th>...</th>\n",
              "      <td>...</td>\n",
              "      <td>...</td>\n",
              "    </tr>\n",
              "    <tr>\n",
              "      <th>17215</th>\n",
              "      <td>17215</td>\n",
              "      <td>1</td>\n",
              "    </tr>\n",
              "    <tr>\n",
              "      <th>17216</th>\n",
              "      <td>17216</td>\n",
              "      <td>1</td>\n",
              "    </tr>\n",
              "    <tr>\n",
              "      <th>17217</th>\n",
              "      <td>17217</td>\n",
              "      <td>1</td>\n",
              "    </tr>\n",
              "    <tr>\n",
              "      <th>17218</th>\n",
              "      <td>17218</td>\n",
              "      <td>1</td>\n",
              "    </tr>\n",
              "    <tr>\n",
              "      <th>17219</th>\n",
              "      <td>17219</td>\n",
              "      <td>1</td>\n",
              "    </tr>\n",
              "  </tbody>\n",
              "</table>\n",
              "<p>17220 rows × 2 columns</p>\n",
              "</div>\n",
              "      <button class=\"colab-df-convert\" onclick=\"convertToInteractive('df-475e7bc8-84b0-4dcd-85fc-72c00417df98')\"\n",
              "              title=\"Convert this dataframe to an interactive table.\"\n",
              "              style=\"display:none;\">\n",
              "        \n",
              "  <svg xmlns=\"http://www.w3.org/2000/svg\" height=\"24px\"viewBox=\"0 0 24 24\"\n",
              "       width=\"24px\">\n",
              "    <path d=\"M0 0h24v24H0V0z\" fill=\"none\"/>\n",
              "    <path d=\"M18.56 5.44l.94 2.06.94-2.06 2.06-.94-2.06-.94-.94-2.06-.94 2.06-2.06.94zm-11 1L8.5 8.5l.94-2.06 2.06-.94-2.06-.94L8.5 2.5l-.94 2.06-2.06.94zm10 10l.94 2.06.94-2.06 2.06-.94-2.06-.94-.94-2.06-.94 2.06-2.06.94z\"/><path d=\"M17.41 7.96l-1.37-1.37c-.4-.4-.92-.59-1.43-.59-.52 0-1.04.2-1.43.59L10.3 9.45l-7.72 7.72c-.78.78-.78 2.05 0 2.83L4 21.41c.39.39.9.59 1.41.59.51 0 1.02-.2 1.41-.59l7.78-7.78 2.81-2.81c.8-.78.8-2.07 0-2.86zM5.41 20L4 18.59l7.72-7.72 1.47 1.35L5.41 20z\"/>\n",
              "  </svg>\n",
              "      </button>\n",
              "      \n",
              "  <style>\n",
              "    .colab-df-container {\n",
              "      display:flex;\n",
              "      flex-wrap:wrap;\n",
              "      gap: 12px;\n",
              "    }\n",
              "\n",
              "    .colab-df-convert {\n",
              "      background-color: #E8F0FE;\n",
              "      border: none;\n",
              "      border-radius: 50%;\n",
              "      cursor: pointer;\n",
              "      display: none;\n",
              "      fill: #1967D2;\n",
              "      height: 32px;\n",
              "      padding: 0 0 0 0;\n",
              "      width: 32px;\n",
              "    }\n",
              "\n",
              "    .colab-df-convert:hover {\n",
              "      background-color: #E2EBFA;\n",
              "      box-shadow: 0px 1px 2px rgba(60, 64, 67, 0.3), 0px 1px 3px 1px rgba(60, 64, 67, 0.15);\n",
              "      fill: #174EA6;\n",
              "    }\n",
              "\n",
              "    [theme=dark] .colab-df-convert {\n",
              "      background-color: #3B4455;\n",
              "      fill: #D2E3FC;\n",
              "    }\n",
              "\n",
              "    [theme=dark] .colab-df-convert:hover {\n",
              "      background-color: #434B5C;\n",
              "      box-shadow: 0px 1px 3px 1px rgba(0, 0, 0, 0.15);\n",
              "      filter: drop-shadow(0px 1px 2px rgba(0, 0, 0, 0.3));\n",
              "      fill: #FFFFFF;\n",
              "    }\n",
              "  </style>\n",
              "\n",
              "      <script>\n",
              "        const buttonEl =\n",
              "          document.querySelector('#df-475e7bc8-84b0-4dcd-85fc-72c00417df98 button.colab-df-convert');\n",
              "        buttonEl.style.display =\n",
              "          google.colab.kernel.accessAllowed ? 'block' : 'none';\n",
              "\n",
              "        async function convertToInteractive(key) {\n",
              "          const element = document.querySelector('#df-475e7bc8-84b0-4dcd-85fc-72c00417df98');\n",
              "          const dataTable =\n",
              "            await google.colab.kernel.invokeFunction('convertToInteractive',\n",
              "                                                     [key], {});\n",
              "          if (!dataTable) return;\n",
              "\n",
              "          const docLinkHtml = 'Like what you see? Visit the ' +\n",
              "            '<a target=\"_blank\" href=https://colab.research.google.com/notebooks/data_table.ipynb>data table notebook</a>'\n",
              "            + ' to learn more about interactive tables.';\n",
              "          element.innerHTML = '';\n",
              "          dataTable['output_type'] = 'display_data';\n",
              "          await google.colab.output.renderOutput(dataTable, element);\n",
              "          const docLink = document.createElement('div');\n",
              "          docLink.innerHTML = docLinkHtml;\n",
              "          element.appendChild(docLink);\n",
              "        }\n",
              "      </script>\n",
              "    </div>\n",
              "  </div>\n",
              "  "
            ]
          },
          "metadata": {},
          "execution_count": 100
        }
      ]
    },
    {
      "cell_type": "markdown",
      "source": [
        "# Save results to files"
      ],
      "metadata": {
        "id": "leeoza5I8G8S"
      }
    },
    {
      "cell_type": "code",
      "source": [
        "suffix = f'{Config.experiment}_[sn_{Config.samples_num}]_[sd_{Config.seed}]'+cv_tag\n",
        "sub_filename = 'sub_'+suffix+'.csv'\n",
        "probs_filename = 'probs_'+suffix+'.npy'\n",
        "model_filename = 'model_'+suffix+'.joblib'"
      ],
      "metadata": {
        "id": "jMHQQZ8Z4mSo"
      },
      "execution_count": null,
      "outputs": []
    },
    {
      "cell_type": "code",
      "source": [
        "sub.to_csv(sub_filename, index=False)\n",
        "np.save(probs_filename, probs)\n",
        "dump(lr_best, model_filename)"
      ],
      "metadata": {
        "id": "SID2o3ZMQOSV",
        "colab": {
          "base_uri": "https://localhost:8080/"
        },
        "outputId": "2d2bdbb9-471c-4ea8-be73-ab87608638bb"
      },
      "execution_count": null,
      "outputs": [
        {
          "output_type": "execute_result",
          "data": {
            "text/plain": [
              "['model_randfor_[sn_51476]_[sd_12536271][cv_0.7535].joblib']"
            ]
          },
          "metadata": {},
          "execution_count": 102
        }
      ]
    },
    {
      "cell_type": "code",
      "source": [
        "!cp {sub_filename} {EXPERIMENT_DIR}\n",
        "!cp {probs_filename} {EXPERIMENT_DIR}\n",
        "!cp {model_filename} {EXPERIMENT_DIR}"
      ],
      "metadata": {
        "id": "owrvY3Zg7FFW"
      },
      "execution_count": null,
      "outputs": []
    },
    {
      "cell_type": "markdown",
      "source": [
        "# Submit predictions"
      ],
      "metadata": {
        "id": "Z7I8508vzLDB"
      }
    },
    {
      "cell_type": "code",
      "source": [
        "!kaggle competitions submit -c hse-nlp-bootcamp  -f {'/content/'+sub_filename} -m \"Submission via API\""
      ],
      "metadata": {
        "colab": {
          "base_uri": "https://localhost:8080/"
        },
        "id": "zYoB0WZGQ5RV",
        "outputId": "7f648171-cc16-41bb-b777-fd808e638fd7"
      },
      "execution_count": null,
      "outputs": [
        {
          "output_type": "stream",
          "name": "stdout",
          "text": [
            "100% 124k/124k [00:00<00:00, 147kB/s]\n",
            "400 - Bad Request\n"
          ]
        }
      ]
    },
    {
      "cell_type": "markdown",
      "source": [
        "# Submit CV 0.7535 - public LB  0.74796"
      ],
      "metadata": {
        "id": "YuCCFnAQkFed"
      }
    },
    {
      "cell_type": "code",
      "source": [
        "!cp {EXPERIMENT_DIR+'sub_randfor_[sn_51476]_[sd_12536271][cv_0.7535].csv'} /content"
      ],
      "metadata": {
        "id": "G2olsOZGjLTn"
      },
      "execution_count": null,
      "outputs": []
    },
    {
      "cell_type": "code",
      "source": [
        "!kaggle competitions submit -c hse-nlp-bootcamp  -f {EXPERIMENT_DIR+'sub_randfor_[sn_51476]_[sd_12536271][cv_0.7535].csv'} -m \"Submission via API\""
      ],
      "metadata": {
        "colab": {
          "base_uri": "https://localhost:8080/"
        },
        "id": "k_bdHK2YjZs6",
        "outputId": "fa3c7d94-06b6-4f4c-ee31-42c8f3daa185"
      },
      "execution_count": null,
      "outputs": [
        {
          "output_type": "stream",
          "name": "stdout",
          "text": [
            "100% 124k/124k [00:02<00:00, 48.1kB/s] \n",
            "Successfully submitted to HSE | NLP Bootcamp | Sentiment Analysis"
          ]
        }
      ]
    }
  ]
}