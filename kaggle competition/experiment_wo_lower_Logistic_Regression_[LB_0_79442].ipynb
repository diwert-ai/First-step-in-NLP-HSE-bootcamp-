{
  "nbformat": 4,
  "nbformat_minor": 0,
  "metadata": {
    "colab": {
      "provenance": [],
      "authorship_tag": "ABX9TyNbMv+11SyFmYH3JxmN0WB9",
      "include_colab_link": true
    },
    "kernelspec": {
      "name": "python3",
      "display_name": "Python 3"
    },
    "language_info": {
      "name": "python"
    }
  },
  "cells": [
    {
      "cell_type": "markdown",
      "metadata": {
        "id": "view-in-github",
        "colab_type": "text"
      },
      "source": [
        "<a href=\"https://colab.research.google.com/github/diwert-ai/First-step-in-NLP-HSE-bootcamp-/blob/main/kaggle%20competition/experiment_wo_lower_Logistic_Regression_%5BLB_0_79442%5D.ipynb\" target=\"_parent\"><img src=\"https://colab.research.google.com/assets/colab-badge.svg\" alt=\"Open In Colab\"/></a>"
      ]
    },
    {
      "cell_type": "markdown",
      "source": [
        "# Mount google.drive and copy dataset to colab linux instance"
      ],
      "metadata": {
        "id": "bQDiQxbQugmn"
      }
    },
    {
      "cell_type": "code",
      "execution_count": null,
      "metadata": {
        "colab": {
          "base_uri": "https://localhost:8080/"
        },
        "id": "19EdqtsoH5wu",
        "outputId": "cf5c1b99-8e4f-4ac8-a43f-3184500d982d"
      },
      "outputs": [
        {
          "output_type": "stream",
          "name": "stdout",
          "text": [
            "Mounted at /content/drive\n"
          ]
        }
      ],
      "source": [
        "from google.colab import drive\n",
        "drive.mount('/content/drive')"
      ]
    },
    {
      "cell_type": "code",
      "source": [
        "INPUT_DIR = '/content/drive/MyDrive/kaggle/fsnlp_hse/input/'\n",
        "OUTPUT_DIR = '/content/drive/MyDrive/kaggle/fsnlp_hse/output/'\n",
        "\n",
        "WORK_DIR = '/content/'\n",
        "EXPERIMENT ='logreg_wo_lower'\n",
        "EXPERIMENT_DIR = OUTPUT_DIR + EXPERIMENT + '/'\n",
        "\n",
        "DATASET_DIR = INPUT_DIR\n",
        "METADATA_DIR = INPUT_DIR\n",
        "\n",
        "!mkdir {EXPERIMENT_DIR}"
      ],
      "metadata": {
        "id": "5JGKcfRvIMP-"
      },
      "execution_count": null,
      "outputs": []
    },
    {
      "cell_type": "markdown",
      "source": [
        "# Install and set up Kaggle API"
      ],
      "metadata": {
        "id": "_FRUrySVuxLa"
      }
    },
    {
      "cell_type": "code",
      "source": [
        "from google.colab import files\n",
        "uploaded = files.upload()"
      ],
      "metadata": {
        "colab": {
          "base_uri": "https://localhost:8080/",
          "height": 74
        },
        "id": "IUMCyuwcu2Cb",
        "outputId": "cb7fbf01-2ef9-4f67-aba2-8405a91ceb5a"
      },
      "execution_count": null,
      "outputs": [
        {
          "output_type": "display_data",
          "data": {
            "text/plain": [
              "<IPython.core.display.HTML object>"
            ],
            "text/html": [
              "\n",
              "     <input type=\"file\" id=\"files-8de8176a-756c-4af2-a330-070cec210ca7\" name=\"files[]\" multiple disabled\n",
              "        style=\"border:none\" />\n",
              "     <output id=\"result-8de8176a-756c-4af2-a330-070cec210ca7\">\n",
              "      Upload widget is only available when the cell has been executed in the\n",
              "      current browser session. Please rerun this cell to enable.\n",
              "      </output>\n",
              "      <script>// Copyright 2017 Google LLC\n",
              "//\n",
              "// Licensed under the Apache License, Version 2.0 (the \"License\");\n",
              "// you may not use this file except in compliance with the License.\n",
              "// You may obtain a copy of the License at\n",
              "//\n",
              "//      http://www.apache.org/licenses/LICENSE-2.0\n",
              "//\n",
              "// Unless required by applicable law or agreed to in writing, software\n",
              "// distributed under the License is distributed on an \"AS IS\" BASIS,\n",
              "// WITHOUT WARRANTIES OR CONDITIONS OF ANY KIND, either express or implied.\n",
              "// See the License for the specific language governing permissions and\n",
              "// limitations under the License.\n",
              "\n",
              "/**\n",
              " * @fileoverview Helpers for google.colab Python module.\n",
              " */\n",
              "(function(scope) {\n",
              "function span(text, styleAttributes = {}) {\n",
              "  const element = document.createElement('span');\n",
              "  element.textContent = text;\n",
              "  for (const key of Object.keys(styleAttributes)) {\n",
              "    element.style[key] = styleAttributes[key];\n",
              "  }\n",
              "  return element;\n",
              "}\n",
              "\n",
              "// Max number of bytes which will be uploaded at a time.\n",
              "const MAX_PAYLOAD_SIZE = 100 * 1024;\n",
              "\n",
              "function _uploadFiles(inputId, outputId) {\n",
              "  const steps = uploadFilesStep(inputId, outputId);\n",
              "  const outputElement = document.getElementById(outputId);\n",
              "  // Cache steps on the outputElement to make it available for the next call\n",
              "  // to uploadFilesContinue from Python.\n",
              "  outputElement.steps = steps;\n",
              "\n",
              "  return _uploadFilesContinue(outputId);\n",
              "}\n",
              "\n",
              "// This is roughly an async generator (not supported in the browser yet),\n",
              "// where there are multiple asynchronous steps and the Python side is going\n",
              "// to poll for completion of each step.\n",
              "// This uses a Promise to block the python side on completion of each step,\n",
              "// then passes the result of the previous step as the input to the next step.\n",
              "function _uploadFilesContinue(outputId) {\n",
              "  const outputElement = document.getElementById(outputId);\n",
              "  const steps = outputElement.steps;\n",
              "\n",
              "  const next = steps.next(outputElement.lastPromiseValue);\n",
              "  return Promise.resolve(next.value.promise).then((value) => {\n",
              "    // Cache the last promise value to make it available to the next\n",
              "    // step of the generator.\n",
              "    outputElement.lastPromiseValue = value;\n",
              "    return next.value.response;\n",
              "  });\n",
              "}\n",
              "\n",
              "/**\n",
              " * Generator function which is called between each async step of the upload\n",
              " * process.\n",
              " * @param {string} inputId Element ID of the input file picker element.\n",
              " * @param {string} outputId Element ID of the output display.\n",
              " * @return {!Iterable<!Object>} Iterable of next steps.\n",
              " */\n",
              "function* uploadFilesStep(inputId, outputId) {\n",
              "  const inputElement = document.getElementById(inputId);\n",
              "  inputElement.disabled = false;\n",
              "\n",
              "  const outputElement = document.getElementById(outputId);\n",
              "  outputElement.innerHTML = '';\n",
              "\n",
              "  const pickedPromise = new Promise((resolve) => {\n",
              "    inputElement.addEventListener('change', (e) => {\n",
              "      resolve(e.target.files);\n",
              "    });\n",
              "  });\n",
              "\n",
              "  const cancel = document.createElement('button');\n",
              "  inputElement.parentElement.appendChild(cancel);\n",
              "  cancel.textContent = 'Cancel upload';\n",
              "  const cancelPromise = new Promise((resolve) => {\n",
              "    cancel.onclick = () => {\n",
              "      resolve(null);\n",
              "    };\n",
              "  });\n",
              "\n",
              "  // Wait for the user to pick the files.\n",
              "  const files = yield {\n",
              "    promise: Promise.race([pickedPromise, cancelPromise]),\n",
              "    response: {\n",
              "      action: 'starting',\n",
              "    }\n",
              "  };\n",
              "\n",
              "  cancel.remove();\n",
              "\n",
              "  // Disable the input element since further picks are not allowed.\n",
              "  inputElement.disabled = true;\n",
              "\n",
              "  if (!files) {\n",
              "    return {\n",
              "      response: {\n",
              "        action: 'complete',\n",
              "      }\n",
              "    };\n",
              "  }\n",
              "\n",
              "  for (const file of files) {\n",
              "    const li = document.createElement('li');\n",
              "    li.append(span(file.name, {fontWeight: 'bold'}));\n",
              "    li.append(span(\n",
              "        `(${file.type || 'n/a'}) - ${file.size} bytes, ` +\n",
              "        `last modified: ${\n",
              "            file.lastModifiedDate ? file.lastModifiedDate.toLocaleDateString() :\n",
              "                                    'n/a'} - `));\n",
              "    const percent = span('0% done');\n",
              "    li.appendChild(percent);\n",
              "\n",
              "    outputElement.appendChild(li);\n",
              "\n",
              "    const fileDataPromise = new Promise((resolve) => {\n",
              "      const reader = new FileReader();\n",
              "      reader.onload = (e) => {\n",
              "        resolve(e.target.result);\n",
              "      };\n",
              "      reader.readAsArrayBuffer(file);\n",
              "    });\n",
              "    // Wait for the data to be ready.\n",
              "    let fileData = yield {\n",
              "      promise: fileDataPromise,\n",
              "      response: {\n",
              "        action: 'continue',\n",
              "      }\n",
              "    };\n",
              "\n",
              "    // Use a chunked sending to avoid message size limits. See b/62115660.\n",
              "    let position = 0;\n",
              "    do {\n",
              "      const length = Math.min(fileData.byteLength - position, MAX_PAYLOAD_SIZE);\n",
              "      const chunk = new Uint8Array(fileData, position, length);\n",
              "      position += length;\n",
              "\n",
              "      const base64 = btoa(String.fromCharCode.apply(null, chunk));\n",
              "      yield {\n",
              "        response: {\n",
              "          action: 'append',\n",
              "          file: file.name,\n",
              "          data: base64,\n",
              "        },\n",
              "      };\n",
              "\n",
              "      let percentDone = fileData.byteLength === 0 ?\n",
              "          100 :\n",
              "          Math.round((position / fileData.byteLength) * 100);\n",
              "      percent.textContent = `${percentDone}% done`;\n",
              "\n",
              "    } while (position < fileData.byteLength);\n",
              "  }\n",
              "\n",
              "  // All done.\n",
              "  yield {\n",
              "    response: {\n",
              "      action: 'complete',\n",
              "    }\n",
              "  };\n",
              "}\n",
              "\n",
              "scope.google = scope.google || {};\n",
              "scope.google.colab = scope.google.colab || {};\n",
              "scope.google.colab._files = {\n",
              "  _uploadFiles,\n",
              "  _uploadFilesContinue,\n",
              "};\n",
              "})(self);\n",
              "</script> "
            ]
          },
          "metadata": {}
        },
        {
          "output_type": "stream",
          "name": "stdout",
          "text": [
            "Saving kaggle.json to kaggle.json\n"
          ]
        }
      ]
    },
    {
      "cell_type": "code",
      "source": [
        "! pip install -q kaggle --upgrade\n",
        "! mkdir -p ~/.kaggle\n",
        "! cp kaggle.json ~/.kaggle/\n",
        "! ls ~/.kaggle\n",
        "! chmod 600 /root/.kaggle/kaggle.json"
      ],
      "metadata": {
        "colab": {
          "base_uri": "https://localhost:8080/"
        },
        "id": "AUf0QVv_u_c6",
        "outputId": "f12a8727-c38c-436a-e739-6d4bdb7f0675"
      },
      "execution_count": null,
      "outputs": [
        {
          "output_type": "stream",
          "name": "stdout",
          "text": [
            "kaggle.json\n"
          ]
        }
      ]
    },
    {
      "cell_type": "code",
      "source": [
        "! kaggle competitions download -c hse-nlp-bootcamp\n",
        "! unzip hse-nlp-bootcamp.zip"
      ],
      "metadata": {
        "id": "c8_pgi6Ye-YO",
        "colab": {
          "base_uri": "https://localhost:8080/"
        },
        "outputId": "9b38e550-42fb-4a04-fa7f-bb6ae380f93c"
      },
      "execution_count": null,
      "outputs": [
        {
          "output_type": "stream",
          "name": "stdout",
          "text": [
            "Downloading hse-nlp-bootcamp.zip to /content\n",
            " 84% 50.0M/59.8M [00:00<00:00, 179MB/s]\n",
            "100% 59.8M/59.8M [00:00<00:00, 180MB/s]\n",
            "Archive:  hse-nlp-bootcamp.zip\n",
            "  inflating: new_test_ml.csv         \n",
            "  inflating: sample_submission.csv   \n",
            "  inflating: train_ml.csv            \n"
          ]
        }
      ]
    },
    {
      "cell_type": "markdown",
      "source": [
        "# Imports"
      ],
      "metadata": {
        "id": "Gy4WeJMZvFJC"
      }
    },
    {
      "cell_type": "code",
      "source": [
        "import pandas as pd\n",
        "import numpy as np\n",
        "import random\n",
        "import pprint as pp\n",
        "import os\n",
        "\n",
        "\n",
        "# import re\n",
        "# from pymorphy2 import MorphAnalyzer\n",
        "# from functools import lru_cache\n",
        "# from nltk.corpus import stopwords\n",
        "\n",
        "# from multiprocessing import Pool\n",
        "# from tqdm import tqdm\n",
        "\n",
        "import nltk\n",
        "# nltk.download('stopwords')\n",
        "nltk.download('punkt')\n",
        "from nltk.tokenize import word_tokenize\n",
        "\n",
        "from sklearn.feature_extraction.text import TfidfVectorizer\n",
        "from sklearn.linear_model import LogisticRegression\n",
        "from sklearn.model_selection import train_test_split\n",
        "from sklearn.pipeline import Pipeline, FeatureUnion\n",
        "from sklearn.ensemble import RandomForestClassifier\n",
        "from sklearn.preprocessing import FunctionTransformer\n",
        "from sklearn.model_selection import GridSearchCV, StratifiedKFold\n",
        "from sklearn.metrics import classification_report, f1_score\n",
        "from joblib import dump, load"
      ],
      "metadata": {
        "colab": {
          "base_uri": "https://localhost:8080/"
        },
        "id": "kVu8ppjzImBa",
        "outputId": "ab87eda8-7ab8-4d33-e14c-6e2629c15a25"
      },
      "execution_count": null,
      "outputs": [
        {
          "output_type": "stream",
          "name": "stderr",
          "text": [
            "[nltk_data] Downloading package punkt to /root/nltk_data...\n",
            "[nltk_data]   Unzipping tokenizers/punkt.zip.\n"
          ]
        }
      ]
    },
    {
      "cell_type": "markdown",
      "source": [
        "# Configuration"
      ],
      "metadata": {
        "id": "sthlIvdsxzXZ"
      }
    },
    {
      "cell_type": "code",
      "source": [
        "class Config:\n",
        "  seed = 12536271\n",
        "  samples_num = 51476\n",
        "  experiment = EXPERIMENT\n",
        "  test_size = 0.1"
      ],
      "metadata": {
        "id": "PFbfLh_OzvW5"
      },
      "execution_count": null,
      "outputs": []
    },
    {
      "cell_type": "markdown",
      "source": [
        "# Main pipeline starts here"
      ],
      "metadata": {
        "id": "g76qhWw4z5uO"
      }
    },
    {
      "cell_type": "code",
      "source": [
        "def set_seed(seed=42):\n",
        "    np.random.seed(seed)\n",
        "    random.seed(seed)\n",
        "    os.environ['PYTHONHASHSEED'] = str(seed)\n",
        "\n",
        "\n",
        "set_seed(Config.seed)"
      ],
      "metadata": {
        "id": "7aKmye4OIw8N"
      },
      "execution_count": null,
      "outputs": []
    },
    {
      "cell_type": "markdown",
      "source": [
        "## Load and process train data"
      ],
      "metadata": {
        "id": "nmVoLp6ix3TC"
      }
    },
    {
      "cell_type": "code",
      "source": [
        "df = pd.read_csv('/content/train_ml.csv')\n",
        "banks_list = list(df.bank.unique())\n",
        "df['bank_id'] = df['bank'].apply(lambda x: banks_list.index(x))\n",
        "df['date'] = pd.to_datetime(df['date'], format='%d.%m.%Y %H:%M')\n",
        "df = df.dropna()\n",
        "df = df.astype({'grades': 'int32'})\n",
        "df.head()"
      ],
      "metadata": {
        "colab": {
          "base_uri": "https://localhost:8080/",
          "height": 206
        },
        "id": "kDfkMyFGI1ln",
        "outputId": "27e659f6-0223-458c-e884-37ec59fa61b2"
      },
      "execution_count": null,
      "outputs": [
        {
          "output_type": "execute_result",
          "data": {
            "text/plain": [
              "             bank                                              feeds  grades  \\\n",
              "0            ubrr  Много лет являюсь клиентом этого банка, но пос...       1   \n",
              "1     fk_otkritie  Г. Ростов-на-Дону, ул. Ленина, 48. Были 10.12....       2   \n",
              "4   promsvyazbank  Имею потребительский кредит, взятый в Связь-ба...       2   \n",
              "7  homecreditbank  Хочу выразить глубокую благодарность всем сотр...       5   \n",
              "8             vtb  6 марта 2019г. В 10:33 при проходе в метро \"Ку...       2   \n",
              "\n",
              "                 date  bank_id  \n",
              "0 2017-02-16 16:10:00        0  \n",
              "1 2016-12-13 01:05:00        1  \n",
              "4 2020-08-04 06:38:00        4  \n",
              "7 2015-04-19 20:11:00        7  \n",
              "8 2019-03-28 18:36:00        3  "
            ],
            "text/html": [
              "\n",
              "  <div id=\"df-748393ff-84b5-463b-9032-493425dbef8f\">\n",
              "    <div class=\"colab-df-container\">\n",
              "      <div>\n",
              "<style scoped>\n",
              "    .dataframe tbody tr th:only-of-type {\n",
              "        vertical-align: middle;\n",
              "    }\n",
              "\n",
              "    .dataframe tbody tr th {\n",
              "        vertical-align: top;\n",
              "    }\n",
              "\n",
              "    .dataframe thead th {\n",
              "        text-align: right;\n",
              "    }\n",
              "</style>\n",
              "<table border=\"1\" class=\"dataframe\">\n",
              "  <thead>\n",
              "    <tr style=\"text-align: right;\">\n",
              "      <th></th>\n",
              "      <th>bank</th>\n",
              "      <th>feeds</th>\n",
              "      <th>grades</th>\n",
              "      <th>date</th>\n",
              "      <th>bank_id</th>\n",
              "    </tr>\n",
              "  </thead>\n",
              "  <tbody>\n",
              "    <tr>\n",
              "      <th>0</th>\n",
              "      <td>ubrr</td>\n",
              "      <td>Много лет являюсь клиентом этого банка, но пос...</td>\n",
              "      <td>1</td>\n",
              "      <td>2017-02-16 16:10:00</td>\n",
              "      <td>0</td>\n",
              "    </tr>\n",
              "    <tr>\n",
              "      <th>1</th>\n",
              "      <td>fk_otkritie</td>\n",
              "      <td>Г. Ростов-на-Дону, ул. Ленина, 48. Были 10.12....</td>\n",
              "      <td>2</td>\n",
              "      <td>2016-12-13 01:05:00</td>\n",
              "      <td>1</td>\n",
              "    </tr>\n",
              "    <tr>\n",
              "      <th>4</th>\n",
              "      <td>promsvyazbank</td>\n",
              "      <td>Имею потребительский кредит, взятый в Связь-ба...</td>\n",
              "      <td>2</td>\n",
              "      <td>2020-08-04 06:38:00</td>\n",
              "      <td>4</td>\n",
              "    </tr>\n",
              "    <tr>\n",
              "      <th>7</th>\n",
              "      <td>homecreditbank</td>\n",
              "      <td>Хочу выразить глубокую благодарность всем сотр...</td>\n",
              "      <td>5</td>\n",
              "      <td>2015-04-19 20:11:00</td>\n",
              "      <td>7</td>\n",
              "    </tr>\n",
              "    <tr>\n",
              "      <th>8</th>\n",
              "      <td>vtb</td>\n",
              "      <td>6 марта 2019г. В 10:33 при проходе в метро \"Ку...</td>\n",
              "      <td>2</td>\n",
              "      <td>2019-03-28 18:36:00</td>\n",
              "      <td>3</td>\n",
              "    </tr>\n",
              "  </tbody>\n",
              "</table>\n",
              "</div>\n",
              "      <button class=\"colab-df-convert\" onclick=\"convertToInteractive('df-748393ff-84b5-463b-9032-493425dbef8f')\"\n",
              "              title=\"Convert this dataframe to an interactive table.\"\n",
              "              style=\"display:none;\">\n",
              "        \n",
              "  <svg xmlns=\"http://www.w3.org/2000/svg\" height=\"24px\"viewBox=\"0 0 24 24\"\n",
              "       width=\"24px\">\n",
              "    <path d=\"M0 0h24v24H0V0z\" fill=\"none\"/>\n",
              "    <path d=\"M18.56 5.44l.94 2.06.94-2.06 2.06-.94-2.06-.94-.94-2.06-.94 2.06-2.06.94zm-11 1L8.5 8.5l.94-2.06 2.06-.94-2.06-.94L8.5 2.5l-.94 2.06-2.06.94zm10 10l.94 2.06.94-2.06 2.06-.94-2.06-.94-.94-2.06-.94 2.06-2.06.94z\"/><path d=\"M17.41 7.96l-1.37-1.37c-.4-.4-.92-.59-1.43-.59-.52 0-1.04.2-1.43.59L10.3 9.45l-7.72 7.72c-.78.78-.78 2.05 0 2.83L4 21.41c.39.39.9.59 1.41.59.51 0 1.02-.2 1.41-.59l7.78-7.78 2.81-2.81c.8-.78.8-2.07 0-2.86zM5.41 20L4 18.59l7.72-7.72 1.47 1.35L5.41 20z\"/>\n",
              "  </svg>\n",
              "      </button>\n",
              "      \n",
              "  <style>\n",
              "    .colab-df-container {\n",
              "      display:flex;\n",
              "      flex-wrap:wrap;\n",
              "      gap: 12px;\n",
              "    }\n",
              "\n",
              "    .colab-df-convert {\n",
              "      background-color: #E8F0FE;\n",
              "      border: none;\n",
              "      border-radius: 50%;\n",
              "      cursor: pointer;\n",
              "      display: none;\n",
              "      fill: #1967D2;\n",
              "      height: 32px;\n",
              "      padding: 0 0 0 0;\n",
              "      width: 32px;\n",
              "    }\n",
              "\n",
              "    .colab-df-convert:hover {\n",
              "      background-color: #E2EBFA;\n",
              "      box-shadow: 0px 1px 2px rgba(60, 64, 67, 0.3), 0px 1px 3px 1px rgba(60, 64, 67, 0.15);\n",
              "      fill: #174EA6;\n",
              "    }\n",
              "\n",
              "    [theme=dark] .colab-df-convert {\n",
              "      background-color: #3B4455;\n",
              "      fill: #D2E3FC;\n",
              "    }\n",
              "\n",
              "    [theme=dark] .colab-df-convert:hover {\n",
              "      background-color: #434B5C;\n",
              "      box-shadow: 0px 1px 3px 1px rgba(0, 0, 0, 0.15);\n",
              "      filter: drop-shadow(0px 1px 2px rgba(0, 0, 0, 0.3));\n",
              "      fill: #FFFFFF;\n",
              "    }\n",
              "  </style>\n",
              "\n",
              "      <script>\n",
              "        const buttonEl =\n",
              "          document.querySelector('#df-748393ff-84b5-463b-9032-493425dbef8f button.colab-df-convert');\n",
              "        buttonEl.style.display =\n",
              "          google.colab.kernel.accessAllowed ? 'block' : 'none';\n",
              "\n",
              "        async function convertToInteractive(key) {\n",
              "          const element = document.querySelector('#df-748393ff-84b5-463b-9032-493425dbef8f');\n",
              "          const dataTable =\n",
              "            await google.colab.kernel.invokeFunction('convertToInteractive',\n",
              "                                                     [key], {});\n",
              "          if (!dataTable) return;\n",
              "\n",
              "          const docLinkHtml = 'Like what you see? Visit the ' +\n",
              "            '<a target=\"_blank\" href=https://colab.research.google.com/notebooks/data_table.ipynb>data table notebook</a>'\n",
              "            + ' to learn more about interactive tables.';\n",
              "          element.innerHTML = '';\n",
              "          dataTable['output_type'] = 'display_data';\n",
              "          await google.colab.output.renderOutput(dataTable, element);\n",
              "          const docLink = document.createElement('div');\n",
              "          docLink.innerHTML = docLinkHtml;\n",
              "          element.appendChild(docLink);\n",
              "        }\n",
              "      </script>\n",
              "    </div>\n",
              "  </div>\n",
              "  "
            ]
          },
          "metadata": {},
          "execution_count": 37
        }
      ]
    },
    {
      "cell_type": "code",
      "source": [
        "len(df)"
      ],
      "metadata": {
        "colab": {
          "base_uri": "https://localhost:8080/"
        },
        "id": "UW7I6KjBTrvy",
        "outputId": "cea67329-df05-4a98-b304-b139f7b12d92"
      },
      "execution_count": null,
      "outputs": [
        {
          "output_type": "execute_result",
          "data": {
            "text/plain": [
              "51476"
            ]
          },
          "metadata": {},
          "execution_count": 11
        }
      ]
    },
    {
      "cell_type": "code",
      "source": [
        "subset = df.sample(Config.samples_num, random_state=Config.seed)\n",
        "subset.reset_index(drop=True, inplace=True)"
      ],
      "metadata": {
        "id": "88KrQ7DOJBIq"
      },
      "execution_count": null,
      "outputs": []
    },
    {
      "cell_type": "markdown",
      "source": [
        "## Split data on train and test data"
      ],
      "metadata": {
        "id": "uW_0omXvyCEL"
      }
    },
    {
      "cell_type": "code",
      "source": [
        "if Config.test_size > 0.0:\n",
        "  x_train, x_test, y_train, y_test = train_test_split(subset[['bank_id','feeds']], subset['grades'], test_size=Config.test_size, random_state=Config.seed)\n",
        "else:\n",
        "  x_train = subset[['bank_id','feeds']]\n",
        "  y_train = subset['grades']\n",
        "  x_test = None\n",
        "  y_test = None"
      ],
      "metadata": {
        "id": "VwWVfg14JMEO"
      },
      "execution_count": null,
      "outputs": []
    },
    {
      "cell_type": "code",
      "source": [
        "len(x_train)"
      ],
      "metadata": {
        "colab": {
          "base_uri": "https://localhost:8080/"
        },
        "id": "C7KsXbMz6uJU",
        "outputId": "9e548f84-435f-472c-d1b0-0e672e412f72"
      },
      "execution_count": null,
      "outputs": [
        {
          "output_type": "execute_result",
          "data": {
            "text/plain": [
              "46328"
            ]
          },
          "metadata": {},
          "execution_count": 61
        }
      ]
    },
    {
      "cell_type": "markdown",
      "source": [
        "## Set up train pipeline"
      ],
      "metadata": {
        "id": "SJXfKgpbyLbR"
      }
    },
    {
      "cell_type": "code",
      "source": [
        "def get_numeric_data(x):\n",
        "    return x[['bank_id']]\n",
        "\n",
        "def get_text_data(x):\n",
        "    return x['feeds']\n",
        "\n",
        "transfomer_numeric = FunctionTransformer(get_numeric_data)\n",
        "transformer_text = FunctionTransformer(get_text_data)\n",
        "\n",
        "pipeline = Pipeline([\n",
        "    ('features', FeatureUnion([\n",
        "            ('numeric_features', Pipeline([\n",
        "                ('selector', transfomer_numeric)\n",
        "            ])),\n",
        "             ('text_features', Pipeline([\n",
        "                ('selector', transformer_text),\n",
        "                ('vec', TfidfVectorizer(ngram_range=(1, 2), tokenizer=word_tokenize))\n",
        "            ]))\n",
        "         ])),\n",
        "    ('clf', LogisticRegression(random_state=Config.seed,  warm_start=False, max_iter=2000))\n",
        "])"
      ],
      "metadata": {
        "id": "D5bc7SNQJX7V"
      },
      "execution_count": null,
      "outputs": []
    },
    {
      "cell_type": "code",
      "source": [
        "pp.pprint(sorted(pipeline.get_params().keys()))"
      ],
      "metadata": {
        "id": "557hZTNCK65W"
      },
      "execution_count": null,
      "outputs": []
    },
    {
      "cell_type": "code",
      "source": [
        "param_grid = {'features__text_features__vec__max_df': [0.95],\n",
        "              'features__text_features__vec__min_df': [0.001],\n",
        "              'features__text_features__vec__lowercase': [True],\n",
        "              'features__text_features__vec__norm':  ['l2'],\n",
        "              'features__text_features__vec__sublinear_tf': [False]}\n",
        "\n",
        "kfold = StratifiedKFold(n_splits=5)\n",
        "scoring = {'F1': 'f1_micro'}\n",
        "refit = 'F1'"
      ],
      "metadata": {
        "id": "Qz5TrwYByU5U"
      },
      "execution_count": null,
      "outputs": []
    },
    {
      "cell_type": "markdown",
      "source": [
        "## Perform GridSearch"
      ],
      "metadata": {
        "id": "MEB9zFsfyeKA"
      }
    },
    {
      "cell_type": "code",
      "source": [
        "print(f'total samples: {Config.samples_num}\\ntrain samples: {len(x_train)}')\n",
        "lr_model = GridSearchCV(pipeline, param_grid=param_grid, cv=kfold, scoring=scoring, \n",
        "                         refit=refit, n_jobs=None, return_train_score=True, verbose=10)\n",
        "lr_model.fit(x_train, y_train)\n",
        "lr_best = lr_model.best_estimator_"
      ],
      "metadata": {
        "colab": {
          "base_uri": "https://localhost:8080/"
        },
        "id": "1ritivp8JNdK",
        "outputId": "fa350aad-c0d2-45e1-8c0f-9c6fa5189d8c"
      },
      "execution_count": null,
      "outputs": [
        {
          "output_type": "stream",
          "name": "stdout",
          "text": [
            "total samples: 51476\n",
            "train samples: 46328\n",
            "Fitting 5 folds for each of 1 candidates, totalling 5 fits\n",
            "[CV 1/5; 1/1] START features__text_features__vec__lowercase=True, features__text_features__vec__max_df=0.95, features__text_features__vec__min_df=0.001, features__text_features__vec__norm=l2, features__text_features__vec__sublinear_tf=False\n"
          ]
        },
        {
          "output_type": "stream",
          "name": "stderr",
          "text": [
            "/usr/local/lib/python3.8/dist-packages/sklearn/linear_model/_logistic.py:814: ConvergenceWarning: lbfgs failed to converge (status=1):\n",
            "STOP: TOTAL NO. of ITERATIONS REACHED LIMIT.\n",
            "\n",
            "Increase the number of iterations (max_iter) or scale the data as shown in:\n",
            "    https://scikit-learn.org/stable/modules/preprocessing.html\n",
            "Please also refer to the documentation for alternative solver options:\n",
            "    https://scikit-learn.org/stable/modules/linear_model.html#logistic-regression\n",
            "  n_iter_i = _check_optimize_result(\n"
          ]
        },
        {
          "output_type": "stream",
          "name": "stdout",
          "text": [
            "[CV 1/5; 1/1] END features__text_features__vec__lowercase=True, features__text_features__vec__max_df=0.95, features__text_features__vec__min_df=0.001, features__text_features__vec__norm=l2, features__text_features__vec__sublinear_tf=False; F1: (train=0.822, test=0.792) total time=10.6min\n",
            "[CV 2/5; 1/1] START features__text_features__vec__lowercase=True, features__text_features__vec__max_df=0.95, features__text_features__vec__min_df=0.001, features__text_features__vec__norm=l2, features__text_features__vec__sublinear_tf=False\n"
          ]
        },
        {
          "output_type": "stream",
          "name": "stderr",
          "text": [
            "/usr/local/lib/python3.8/dist-packages/sklearn/linear_model/_logistic.py:814: ConvergenceWarning: lbfgs failed to converge (status=1):\n",
            "STOP: TOTAL NO. of ITERATIONS REACHED LIMIT.\n",
            "\n",
            "Increase the number of iterations (max_iter) or scale the data as shown in:\n",
            "    https://scikit-learn.org/stable/modules/preprocessing.html\n",
            "Please also refer to the documentation for alternative solver options:\n",
            "    https://scikit-learn.org/stable/modules/linear_model.html#logistic-regression\n",
            "  n_iter_i = _check_optimize_result(\n"
          ]
        },
        {
          "output_type": "stream",
          "name": "stdout",
          "text": [
            "[CV 2/5; 1/1] END features__text_features__vec__lowercase=True, features__text_features__vec__max_df=0.95, features__text_features__vec__min_df=0.001, features__text_features__vec__norm=l2, features__text_features__vec__sublinear_tf=False; F1: (train=0.822, test=0.790) total time=10.6min\n",
            "[CV 3/5; 1/1] START features__text_features__vec__lowercase=True, features__text_features__vec__max_df=0.95, features__text_features__vec__min_df=0.001, features__text_features__vec__norm=l2, features__text_features__vec__sublinear_tf=False\n"
          ]
        },
        {
          "output_type": "stream",
          "name": "stderr",
          "text": [
            "/usr/local/lib/python3.8/dist-packages/sklearn/linear_model/_logistic.py:814: ConvergenceWarning: lbfgs failed to converge (status=1):\n",
            "STOP: TOTAL NO. of ITERATIONS REACHED LIMIT.\n",
            "\n",
            "Increase the number of iterations (max_iter) or scale the data as shown in:\n",
            "    https://scikit-learn.org/stable/modules/preprocessing.html\n",
            "Please also refer to the documentation for alternative solver options:\n",
            "    https://scikit-learn.org/stable/modules/linear_model.html#logistic-regression\n",
            "  n_iter_i = _check_optimize_result(\n"
          ]
        },
        {
          "output_type": "stream",
          "name": "stdout",
          "text": [
            "[CV 3/5; 1/1] END features__text_features__vec__lowercase=True, features__text_features__vec__max_df=0.95, features__text_features__vec__min_df=0.001, features__text_features__vec__norm=l2, features__text_features__vec__sublinear_tf=False; F1: (train=0.821, test=0.789) total time=10.6min\n",
            "[CV 4/5; 1/1] START features__text_features__vec__lowercase=True, features__text_features__vec__max_df=0.95, features__text_features__vec__min_df=0.001, features__text_features__vec__norm=l2, features__text_features__vec__sublinear_tf=False\n",
            "[CV 4/5; 1/1] END features__text_features__vec__lowercase=True, features__text_features__vec__max_df=0.95, features__text_features__vec__min_df=0.001, features__text_features__vec__norm=l2, features__text_features__vec__sublinear_tf=False; F1: (train=0.821, test=0.791) total time=10.3min\n",
            "[CV 5/5; 1/1] START features__text_features__vec__lowercase=True, features__text_features__vec__max_df=0.95, features__text_features__vec__min_df=0.001, features__text_features__vec__norm=l2, features__text_features__vec__sublinear_tf=False\n",
            "[CV 5/5; 1/1] END features__text_features__vec__lowercase=True, features__text_features__vec__max_df=0.95, features__text_features__vec__min_df=0.001, features__text_features__vec__norm=l2, features__text_features__vec__sublinear_tf=False; F1: (train=0.822, test=0.787) total time=10.1min\n"
          ]
        },
        {
          "output_type": "stream",
          "name": "stderr",
          "text": [
            "/usr/local/lib/python3.8/dist-packages/sklearn/linear_model/_logistic.py:814: ConvergenceWarning: lbfgs failed to converge (status=1):\n",
            "STOP: TOTAL NO. of ITERATIONS REACHED LIMIT.\n",
            "\n",
            "Increase the number of iterations (max_iter) or scale the data as shown in:\n",
            "    https://scikit-learn.org/stable/modules/preprocessing.html\n",
            "Please also refer to the documentation for alternative solver options:\n",
            "    https://scikit-learn.org/stable/modules/linear_model.html#logistic-regression\n",
            "  n_iter_i = _check_optimize_result(\n"
          ]
        }
      ]
    },
    {
      "cell_type": "markdown",
      "source": [
        "## Test best model"
      ],
      "metadata": {
        "id": "jOqWPVhkym4A"
      }
    },
    {
      "cell_type": "code",
      "source": [
        "if Config.test_size > 0.0:\n",
        "  pred = lr_best.predict(x_test)\n",
        "  print(classification_report(y_test, pred))"
      ],
      "metadata": {
        "id": "JVbKeifKMNx1",
        "colab": {
          "base_uri": "https://localhost:8080/"
        },
        "outputId": "a861823f-527a-4e71-f516-bd3d0dddc8d3"
      },
      "execution_count": null,
      "outputs": [
        {
          "output_type": "stream",
          "name": "stdout",
          "text": [
            "              precision    recall  f1-score   support\n",
            "\n",
            "           1       0.75      0.98      0.85      2788\n",
            "           2       0.28      0.03      0.05       582\n",
            "           3       0.44      0.02      0.03       253\n",
            "           4       0.57      0.03      0.06       135\n",
            "           5       0.90      0.92      0.91      1390\n",
            "\n",
            "    accuracy                           0.79      5148\n",
            "   macro avg       0.59      0.40      0.38      5148\n",
            "weighted avg       0.72      0.79      0.72      5148\n",
            "\n"
          ]
        }
      ]
    },
    {
      "cell_type": "code",
      "source": [
        "if Config.test_size > 0.0:\n",
        "  print(f1_score(y_test, pred, average='micro'))"
      ],
      "metadata": {
        "id": "sbVENrPymfUh",
        "colab": {
          "base_uri": "https://localhost:8080/"
        },
        "outputId": "98726258-e88e-4d6d-c7d2-ea82e0f46b8b"
      },
      "execution_count": null,
      "outputs": [
        {
          "output_type": "stream",
          "name": "stdout",
          "text": [
            "0.785936285936286\n"
          ]
        }
      ]
    },
    {
      "cell_type": "code",
      "source": [
        "lr_model.best_params_"
      ],
      "metadata": {
        "colab": {
          "base_uri": "https://localhost:8080/"
        },
        "id": "364aJjyWNz7p",
        "outputId": "d02b45c3-5b2e-4386-d829-82a63f0cfb52"
      },
      "execution_count": null,
      "outputs": [
        {
          "output_type": "execute_result",
          "data": {
            "text/plain": [
              "{'features__text_features__vec__lowercase': True,\n",
              " 'features__text_features__vec__max_df': 0.95,\n",
              " 'features__text_features__vec__min_df': 0.001,\n",
              " 'features__text_features__vec__norm': 'l2',\n",
              " 'features__text_features__vec__sublinear_tf': False}"
            ]
          },
          "metadata": {},
          "execution_count": 68
        }
      ]
    },
    {
      "cell_type": "code",
      "source": [
        "lr_model.cv_results_"
      ],
      "metadata": {
        "colab": {
          "base_uri": "https://localhost:8080/"
        },
        "id": "-Uyat1IeMViU",
        "outputId": "f389ff23-80be-4305-85ee-14bb8c09da78"
      },
      "execution_count": null,
      "outputs": [
        {
          "output_type": "execute_result",
          "data": {
            "text/plain": [
              "{'mean_fit_time': array([604.90136528]),\n",
              " 'std_fit_time': array([13.01224465]),\n",
              " 'mean_score_time': array([21.09047842]),\n",
              " 'std_score_time': array([1.45346688]),\n",
              " 'param_features__text_features__vec__lowercase': masked_array(data=[True],\n",
              "              mask=[False],\n",
              "        fill_value='?',\n",
              "             dtype=object),\n",
              " 'param_features__text_features__vec__max_df': masked_array(data=[0.95],\n",
              "              mask=[False],\n",
              "        fill_value='?',\n",
              "             dtype=object),\n",
              " 'param_features__text_features__vec__min_df': masked_array(data=[0.001],\n",
              "              mask=[False],\n",
              "        fill_value='?',\n",
              "             dtype=object),\n",
              " 'param_features__text_features__vec__norm': masked_array(data=['l2'],\n",
              "              mask=[False],\n",
              "        fill_value='?',\n",
              "             dtype=object),\n",
              " 'param_features__text_features__vec__sublinear_tf': masked_array(data=[False],\n",
              "              mask=[False],\n",
              "        fill_value='?',\n",
              "             dtype=object),\n",
              " 'params': [{'features__text_features__vec__lowercase': True,\n",
              "   'features__text_features__vec__max_df': 0.95,\n",
              "   'features__text_features__vec__min_df': 0.001,\n",
              "   'features__text_features__vec__norm': 'l2',\n",
              "   'features__text_features__vec__sublinear_tf': False}],\n",
              " 'split0_test_F1': array([0.79235916]),\n",
              " 'split1_test_F1': array([0.78976905]),\n",
              " 'split2_test_F1': array([0.78858191]),\n",
              " 'split3_test_F1': array([0.79071775]),\n",
              " 'split4_test_F1': array([0.7872639]),\n",
              " 'mean_test_F1': array([0.78973835]),\n",
              " 'std_test_F1': array([0.00174866]),\n",
              " 'rank_test_F1': array([1], dtype=int32),\n",
              " 'split0_train_F1': array([0.8218121]),\n",
              " 'split1_train_F1': array([0.82156926]),\n",
              " 'split2_train_F1': array([0.82094868]),\n",
              " 'split3_train_F1': array([0.82073766]),\n",
              " 'split4_train_F1': array([0.82238351]),\n",
              " 'mean_train_F1': array([0.82149024]),\n",
              " 'std_train_F1': array([0.00059455])}"
            ]
          },
          "metadata": {},
          "execution_count": 69
        }
      ]
    },
    {
      "cell_type": "code",
      "source": [
        "lr_model.best_score_"
      ],
      "metadata": {
        "colab": {
          "base_uri": "https://localhost:8080/"
        },
        "id": "8BYZiHyGMdCx",
        "outputId": "49cb919d-52b5-4a47-e577-2fe2bbc5d992"
      },
      "execution_count": null,
      "outputs": [
        {
          "output_type": "execute_result",
          "data": {
            "text/plain": [
              "0.789738354881316"
            ]
          },
          "metadata": {},
          "execution_count": 70
        }
      ]
    },
    {
      "cell_type": "code",
      "source": [
        "cv_tag = f'[cv_{lr_model.best_score_:0.4f}]'"
      ],
      "metadata": {
        "id": "Aakv1krYsf3K"
      },
      "execution_count": null,
      "outputs": []
    },
    {
      "cell_type": "code",
      "source": [
        "cv_tag"
      ],
      "metadata": {
        "colab": {
          "base_uri": "https://localhost:8080/",
          "height": 36
        },
        "id": "00EZOpXJsz8Y",
        "outputId": "0abdb783-6440-44b0-af6c-866170945763"
      },
      "execution_count": null,
      "outputs": [
        {
          "output_type": "execute_result",
          "data": {
            "text/plain": [
              "'[cv_0.7897]'"
            ],
            "application/vnd.google.colaboratory.intrinsic+json": {
              "type": "string"
            }
          },
          "metadata": {},
          "execution_count": 72
        }
      ]
    },
    {
      "cell_type": "markdown",
      "source": [
        "## Inference (calculating submission) "
      ],
      "metadata": {
        "id": "ZoMhFzjDysAW"
      }
    },
    {
      "cell_type": "code",
      "source": [
        "test = pd.read_csv('/content/new_test_ml.csv', index_col=0)\n",
        "test['bank_id'] = test['bank'].apply(lambda x: banks_list.index(x))\n",
        "test = test[['bank_id', 'feeds']]\n",
        "test_pred = lr_best.predict(test)\n",
        "probs = lr_best.predict_proba(test)\n",
        "sub = pd.DataFrame({'inds': test.index,\n",
        "                    'grades': test_pred})\n",
        "sub"
      ],
      "metadata": {
        "colab": {
          "base_uri": "https://localhost:8080/",
          "height": 423
        },
        "id": "leuffYHTOnUX",
        "outputId": "653ce686-8e2c-4734-e521-2a2b12ab1791"
      },
      "execution_count": null,
      "outputs": [
        {
          "output_type": "execute_result",
          "data": {
            "text/plain": [
              "        inds  grades\n",
              "0          0       1\n",
              "1          1       1\n",
              "2          2       1\n",
              "3          3       1\n",
              "4          4       1\n",
              "...      ...     ...\n",
              "17215  17215       1\n",
              "17216  17216       1\n",
              "17217  17217       1\n",
              "17218  17218       1\n",
              "17219  17219       1\n",
              "\n",
              "[17220 rows x 2 columns]"
            ],
            "text/html": [
              "\n",
              "  <div id=\"df-d0993753-0265-492c-a3f1-cb085acbfbcb\">\n",
              "    <div class=\"colab-df-container\">\n",
              "      <div>\n",
              "<style scoped>\n",
              "    .dataframe tbody tr th:only-of-type {\n",
              "        vertical-align: middle;\n",
              "    }\n",
              "\n",
              "    .dataframe tbody tr th {\n",
              "        vertical-align: top;\n",
              "    }\n",
              "\n",
              "    .dataframe thead th {\n",
              "        text-align: right;\n",
              "    }\n",
              "</style>\n",
              "<table border=\"1\" class=\"dataframe\">\n",
              "  <thead>\n",
              "    <tr style=\"text-align: right;\">\n",
              "      <th></th>\n",
              "      <th>inds</th>\n",
              "      <th>grades</th>\n",
              "    </tr>\n",
              "  </thead>\n",
              "  <tbody>\n",
              "    <tr>\n",
              "      <th>0</th>\n",
              "      <td>0</td>\n",
              "      <td>1</td>\n",
              "    </tr>\n",
              "    <tr>\n",
              "      <th>1</th>\n",
              "      <td>1</td>\n",
              "      <td>1</td>\n",
              "    </tr>\n",
              "    <tr>\n",
              "      <th>2</th>\n",
              "      <td>2</td>\n",
              "      <td>1</td>\n",
              "    </tr>\n",
              "    <tr>\n",
              "      <th>3</th>\n",
              "      <td>3</td>\n",
              "      <td>1</td>\n",
              "    </tr>\n",
              "    <tr>\n",
              "      <th>4</th>\n",
              "      <td>4</td>\n",
              "      <td>1</td>\n",
              "    </tr>\n",
              "    <tr>\n",
              "      <th>...</th>\n",
              "      <td>...</td>\n",
              "      <td>...</td>\n",
              "    </tr>\n",
              "    <tr>\n",
              "      <th>17215</th>\n",
              "      <td>17215</td>\n",
              "      <td>1</td>\n",
              "    </tr>\n",
              "    <tr>\n",
              "      <th>17216</th>\n",
              "      <td>17216</td>\n",
              "      <td>1</td>\n",
              "    </tr>\n",
              "    <tr>\n",
              "      <th>17217</th>\n",
              "      <td>17217</td>\n",
              "      <td>1</td>\n",
              "    </tr>\n",
              "    <tr>\n",
              "      <th>17218</th>\n",
              "      <td>17218</td>\n",
              "      <td>1</td>\n",
              "    </tr>\n",
              "    <tr>\n",
              "      <th>17219</th>\n",
              "      <td>17219</td>\n",
              "      <td>1</td>\n",
              "    </tr>\n",
              "  </tbody>\n",
              "</table>\n",
              "<p>17220 rows × 2 columns</p>\n",
              "</div>\n",
              "      <button class=\"colab-df-convert\" onclick=\"convertToInteractive('df-d0993753-0265-492c-a3f1-cb085acbfbcb')\"\n",
              "              title=\"Convert this dataframe to an interactive table.\"\n",
              "              style=\"display:none;\">\n",
              "        \n",
              "  <svg xmlns=\"http://www.w3.org/2000/svg\" height=\"24px\"viewBox=\"0 0 24 24\"\n",
              "       width=\"24px\">\n",
              "    <path d=\"M0 0h24v24H0V0z\" fill=\"none\"/>\n",
              "    <path d=\"M18.56 5.44l.94 2.06.94-2.06 2.06-.94-2.06-.94-.94-2.06-.94 2.06-2.06.94zm-11 1L8.5 8.5l.94-2.06 2.06-.94-2.06-.94L8.5 2.5l-.94 2.06-2.06.94zm10 10l.94 2.06.94-2.06 2.06-.94-2.06-.94-.94-2.06-.94 2.06-2.06.94z\"/><path d=\"M17.41 7.96l-1.37-1.37c-.4-.4-.92-.59-1.43-.59-.52 0-1.04.2-1.43.59L10.3 9.45l-7.72 7.72c-.78.78-.78 2.05 0 2.83L4 21.41c.39.39.9.59 1.41.59.51 0 1.02-.2 1.41-.59l7.78-7.78 2.81-2.81c.8-.78.8-2.07 0-2.86zM5.41 20L4 18.59l7.72-7.72 1.47 1.35L5.41 20z\"/>\n",
              "  </svg>\n",
              "      </button>\n",
              "      \n",
              "  <style>\n",
              "    .colab-df-container {\n",
              "      display:flex;\n",
              "      flex-wrap:wrap;\n",
              "      gap: 12px;\n",
              "    }\n",
              "\n",
              "    .colab-df-convert {\n",
              "      background-color: #E8F0FE;\n",
              "      border: none;\n",
              "      border-radius: 50%;\n",
              "      cursor: pointer;\n",
              "      display: none;\n",
              "      fill: #1967D2;\n",
              "      height: 32px;\n",
              "      padding: 0 0 0 0;\n",
              "      width: 32px;\n",
              "    }\n",
              "\n",
              "    .colab-df-convert:hover {\n",
              "      background-color: #E2EBFA;\n",
              "      box-shadow: 0px 1px 2px rgba(60, 64, 67, 0.3), 0px 1px 3px 1px rgba(60, 64, 67, 0.15);\n",
              "      fill: #174EA6;\n",
              "    }\n",
              "\n",
              "    [theme=dark] .colab-df-convert {\n",
              "      background-color: #3B4455;\n",
              "      fill: #D2E3FC;\n",
              "    }\n",
              "\n",
              "    [theme=dark] .colab-df-convert:hover {\n",
              "      background-color: #434B5C;\n",
              "      box-shadow: 0px 1px 3px 1px rgba(0, 0, 0, 0.15);\n",
              "      filter: drop-shadow(0px 1px 2px rgba(0, 0, 0, 0.3));\n",
              "      fill: #FFFFFF;\n",
              "    }\n",
              "  </style>\n",
              "\n",
              "      <script>\n",
              "        const buttonEl =\n",
              "          document.querySelector('#df-d0993753-0265-492c-a3f1-cb085acbfbcb button.colab-df-convert');\n",
              "        buttonEl.style.display =\n",
              "          google.colab.kernel.accessAllowed ? 'block' : 'none';\n",
              "\n",
              "        async function convertToInteractive(key) {\n",
              "          const element = document.querySelector('#df-d0993753-0265-492c-a3f1-cb085acbfbcb');\n",
              "          const dataTable =\n",
              "            await google.colab.kernel.invokeFunction('convertToInteractive',\n",
              "                                                     [key], {});\n",
              "          if (!dataTable) return;\n",
              "\n",
              "          const docLinkHtml = 'Like what you see? Visit the ' +\n",
              "            '<a target=\"_blank\" href=https://colab.research.google.com/notebooks/data_table.ipynb>data table notebook</a>'\n",
              "            + ' to learn more about interactive tables.';\n",
              "          element.innerHTML = '';\n",
              "          dataTable['output_type'] = 'display_data';\n",
              "          await google.colab.output.renderOutput(dataTable, element);\n",
              "          const docLink = document.createElement('div');\n",
              "          docLink.innerHTML = docLinkHtml;\n",
              "          element.appendChild(docLink);\n",
              "        }\n",
              "      </script>\n",
              "    </div>\n",
              "  </div>\n",
              "  "
            ]
          },
          "metadata": {},
          "execution_count": 73
        }
      ]
    },
    {
      "cell_type": "markdown",
      "source": [
        "# Save results to files"
      ],
      "metadata": {
        "id": "leeoza5I8G8S"
      }
    },
    {
      "cell_type": "code",
      "source": [
        "suffix = f'{Config.experiment}_[sn_{Config.samples_num}]_[sd_{Config.seed}]'+cv_tag\n",
        "sub_filename = 'sub_'+suffix+'.csv'\n",
        "probs_filename = 'probs_'+suffix+'.npy'\n",
        "model_filename = 'model_'+suffix+'.joblib'"
      ],
      "metadata": {
        "id": "jMHQQZ8Z4mSo"
      },
      "execution_count": null,
      "outputs": []
    },
    {
      "cell_type": "code",
      "source": [
        "sub.to_csv(sub_filename, index=False)\n",
        "np.save(probs_filename, probs)\n",
        "dump(lr_best, model_filename) "
      ],
      "metadata": {
        "id": "SID2o3ZMQOSV",
        "colab": {
          "base_uri": "https://localhost:8080/"
        },
        "outputId": "9dcabcb6-ed34-4df9-d4cb-9e125df30ef3"
      },
      "execution_count": null,
      "outputs": [
        {
          "output_type": "execute_result",
          "data": {
            "text/plain": [
              "['model_logreg_wo_lower_[sn_51476]_[sd_12536271][cv_0.7897].joblib']"
            ]
          },
          "metadata": {},
          "execution_count": 75
        }
      ]
    },
    {
      "cell_type": "code",
      "source": [
        "! cp {sub_filename} {EXPERIMENT_DIR}\n",
        "! cp {probs_filename} {EXPERIMENT_DIR}\n",
        "! cp {model_filename} {EXPERIMENT_DIR}"
      ],
      "metadata": {
        "id": "owrvY3Zg7FFW"
      },
      "execution_count": null,
      "outputs": []
    },
    {
      "cell_type": "markdown",
      "source": [
        "# Submit predictions"
      ],
      "metadata": {
        "id": "Z7I8508vzLDB"
      }
    },
    {
      "cell_type": "code",
      "source": [
        "! kaggle competitions submit -c hse-nlp-bootcamp  -f {'/content/'+sub_filename} -m \"Submission via API\""
      ],
      "metadata": {
        "colab": {
          "base_uri": "https://localhost:8080/"
        },
        "id": "zYoB0WZGQ5RV",
        "outputId": "d3399ed9-e92f-41d1-c5f0-e4b7b128758a"
      },
      "execution_count": null,
      "outputs": [
        {
          "output_type": "stream",
          "name": "stdout",
          "text": [
            "100% 124k/124k [00:00<00:00, 412kB/s]\n",
            "Successfully submitted to HSE | NLP Bootcamp | Sentiment Analysis"
          ]
        }
      ]
    }
  ]
}