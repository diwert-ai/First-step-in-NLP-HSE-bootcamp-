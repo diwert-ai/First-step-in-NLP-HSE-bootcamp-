{
  "nbformat": 4,
  "nbformat_minor": 0,
  "metadata": {
    "colab": {
      "provenance": [],
      "authorship_tag": "ABX9TyO3ULwlP4XyA1YLF4856MY1",
      "include_colab_link": true
    },
    "kernelspec": {
      "name": "python3",
      "display_name": "Python 3"
    },
    "language_info": {
      "name": "python"
    }
  },
  "cells": [
    {
      "cell_type": "markdown",
      "metadata": {
        "id": "view-in-github",
        "colab_type": "text"
      },
      "source": [
        "<a href=\"https://colab.research.google.com/github/diwert-ai/First-step-in-NLP-HSE-bootcamp-/blob/main/kaggle%20competition/experiment_Logistic_Regression_PL_%5BLB_0_79419%5D_%2B_PostProc_thresholding.ipynb\" target=\"_parent\"><img src=\"https://colab.research.google.com/assets/colab-badge.svg\" alt=\"Open In Colab\"/></a>"
      ]
    },
    {
      "cell_type": "markdown",
      "source": [
        "# Mount google.drive"
      ],
      "metadata": {
        "id": "bQDiQxbQugmn"
      }
    },
    {
      "cell_type": "code",
      "execution_count": null,
      "metadata": {
        "colab": {
          "base_uri": "https://localhost:8080/"
        },
        "id": "19EdqtsoH5wu",
        "outputId": "c831ba3e-743f-4099-de60-ea09033dac6a"
      },
      "outputs": [
        {
          "output_type": "stream",
          "name": "stdout",
          "text": [
            "Mounted at /content/drive\n"
          ]
        }
      ],
      "source": [
        "from google.colab import drive\n",
        "drive.mount('/content/drive')"
      ]
    },
    {
      "cell_type": "code",
      "source": [
        "INPUT_DIR ='/content/drive/MyDrive/kaggle/fsnlp_hse/input/'\n",
        "OUTPUT_DIR = '/content/drive/MyDrive/kaggle/fsnlp_hse/output/'\n",
        "\n",
        "WORK_DIR='/content/'\n",
        "EXPERIMENT='logreg_pl'\n",
        "EXPERIMENT_DIR = OUTPUT_DIR + EXPERIMENT+'/'\n",
        "\n",
        "DATASET_DIR = INPUT_DIR\n",
        "METADATA_DIR = INPUT_DIR\n",
        "\n",
        "!mkdir {EXPERIMENT_DIR}"
      ],
      "metadata": {
        "id": "5JGKcfRvIMP-",
        "colab": {
          "base_uri": "https://localhost:8080/"
        },
        "outputId": "effbc137-d6ba-4936-e078-ad3943e286cc"
      },
      "execution_count": null,
      "outputs": [
        {
          "output_type": "stream",
          "name": "stdout",
          "text": [
            "mkdir: cannot create directory ‘/content/drive/MyDrive/kaggle/fsnlp_hse/output/logreg_pl/’: File exists\n"
          ]
        }
      ]
    },
    {
      "cell_type": "markdown",
      "source": [
        "# Install, set up Kaggle API and download dataset"
      ],
      "metadata": {
        "id": "_FRUrySVuxLa"
      }
    },
    {
      "cell_type": "code",
      "source": [
        "from google.colab import files\n",
        "uploaded = files.upload()"
      ],
      "metadata": {
        "colab": {
          "base_uri": "https://localhost:8080/",
          "height": 74
        },
        "id": "IUMCyuwcu2Cb",
        "outputId": "b523bd74-e812-462f-ef7a-2934b2956311"
      },
      "execution_count": null,
      "outputs": [
        {
          "output_type": "display_data",
          "data": {
            "text/plain": [
              "<IPython.core.display.HTML object>"
            ],
            "text/html": [
              "\n",
              "     <input type=\"file\" id=\"files-990080ad-0cca-45b6-a417-ca87034aa8ee\" name=\"files[]\" multiple disabled\n",
              "        style=\"border:none\" />\n",
              "     <output id=\"result-990080ad-0cca-45b6-a417-ca87034aa8ee\">\n",
              "      Upload widget is only available when the cell has been executed in the\n",
              "      current browser session. Please rerun this cell to enable.\n",
              "      </output>\n",
              "      <script>// Copyright 2017 Google LLC\n",
              "//\n",
              "// Licensed under the Apache License, Version 2.0 (the \"License\");\n",
              "// you may not use this file except in compliance with the License.\n",
              "// You may obtain a copy of the License at\n",
              "//\n",
              "//      http://www.apache.org/licenses/LICENSE-2.0\n",
              "//\n",
              "// Unless required by applicable law or agreed to in writing, software\n",
              "// distributed under the License is distributed on an \"AS IS\" BASIS,\n",
              "// WITHOUT WARRANTIES OR CONDITIONS OF ANY KIND, either express or implied.\n",
              "// See the License for the specific language governing permissions and\n",
              "// limitations under the License.\n",
              "\n",
              "/**\n",
              " * @fileoverview Helpers for google.colab Python module.\n",
              " */\n",
              "(function(scope) {\n",
              "function span(text, styleAttributes = {}) {\n",
              "  const element = document.createElement('span');\n",
              "  element.textContent = text;\n",
              "  for (const key of Object.keys(styleAttributes)) {\n",
              "    element.style[key] = styleAttributes[key];\n",
              "  }\n",
              "  return element;\n",
              "}\n",
              "\n",
              "// Max number of bytes which will be uploaded at a time.\n",
              "const MAX_PAYLOAD_SIZE = 100 * 1024;\n",
              "\n",
              "function _uploadFiles(inputId, outputId) {\n",
              "  const steps = uploadFilesStep(inputId, outputId);\n",
              "  const outputElement = document.getElementById(outputId);\n",
              "  // Cache steps on the outputElement to make it available for the next call\n",
              "  // to uploadFilesContinue from Python.\n",
              "  outputElement.steps = steps;\n",
              "\n",
              "  return _uploadFilesContinue(outputId);\n",
              "}\n",
              "\n",
              "// This is roughly an async generator (not supported in the browser yet),\n",
              "// where there are multiple asynchronous steps and the Python side is going\n",
              "// to poll for completion of each step.\n",
              "// This uses a Promise to block the python side on completion of each step,\n",
              "// then passes the result of the previous step as the input to the next step.\n",
              "function _uploadFilesContinue(outputId) {\n",
              "  const outputElement = document.getElementById(outputId);\n",
              "  const steps = outputElement.steps;\n",
              "\n",
              "  const next = steps.next(outputElement.lastPromiseValue);\n",
              "  return Promise.resolve(next.value.promise).then((value) => {\n",
              "    // Cache the last promise value to make it available to the next\n",
              "    // step of the generator.\n",
              "    outputElement.lastPromiseValue = value;\n",
              "    return next.value.response;\n",
              "  });\n",
              "}\n",
              "\n",
              "/**\n",
              " * Generator function which is called between each async step of the upload\n",
              " * process.\n",
              " * @param {string} inputId Element ID of the input file picker element.\n",
              " * @param {string} outputId Element ID of the output display.\n",
              " * @return {!Iterable<!Object>} Iterable of next steps.\n",
              " */\n",
              "function* uploadFilesStep(inputId, outputId) {\n",
              "  const inputElement = document.getElementById(inputId);\n",
              "  inputElement.disabled = false;\n",
              "\n",
              "  const outputElement = document.getElementById(outputId);\n",
              "  outputElement.innerHTML = '';\n",
              "\n",
              "  const pickedPromise = new Promise((resolve) => {\n",
              "    inputElement.addEventListener('change', (e) => {\n",
              "      resolve(e.target.files);\n",
              "    });\n",
              "  });\n",
              "\n",
              "  const cancel = document.createElement('button');\n",
              "  inputElement.parentElement.appendChild(cancel);\n",
              "  cancel.textContent = 'Cancel upload';\n",
              "  const cancelPromise = new Promise((resolve) => {\n",
              "    cancel.onclick = () => {\n",
              "      resolve(null);\n",
              "    };\n",
              "  });\n",
              "\n",
              "  // Wait for the user to pick the files.\n",
              "  const files = yield {\n",
              "    promise: Promise.race([pickedPromise, cancelPromise]),\n",
              "    response: {\n",
              "      action: 'starting',\n",
              "    }\n",
              "  };\n",
              "\n",
              "  cancel.remove();\n",
              "\n",
              "  // Disable the input element since further picks are not allowed.\n",
              "  inputElement.disabled = true;\n",
              "\n",
              "  if (!files) {\n",
              "    return {\n",
              "      response: {\n",
              "        action: 'complete',\n",
              "      }\n",
              "    };\n",
              "  }\n",
              "\n",
              "  for (const file of files) {\n",
              "    const li = document.createElement('li');\n",
              "    li.append(span(file.name, {fontWeight: 'bold'}));\n",
              "    li.append(span(\n",
              "        `(${file.type || 'n/a'}) - ${file.size} bytes, ` +\n",
              "        `last modified: ${\n",
              "            file.lastModifiedDate ? file.lastModifiedDate.toLocaleDateString() :\n",
              "                                    'n/a'} - `));\n",
              "    const percent = span('0% done');\n",
              "    li.appendChild(percent);\n",
              "\n",
              "    outputElement.appendChild(li);\n",
              "\n",
              "    const fileDataPromise = new Promise((resolve) => {\n",
              "      const reader = new FileReader();\n",
              "      reader.onload = (e) => {\n",
              "        resolve(e.target.result);\n",
              "      };\n",
              "      reader.readAsArrayBuffer(file);\n",
              "    });\n",
              "    // Wait for the data to be ready.\n",
              "    let fileData = yield {\n",
              "      promise: fileDataPromise,\n",
              "      response: {\n",
              "        action: 'continue',\n",
              "      }\n",
              "    };\n",
              "\n",
              "    // Use a chunked sending to avoid message size limits. See b/62115660.\n",
              "    let position = 0;\n",
              "    do {\n",
              "      const length = Math.min(fileData.byteLength - position, MAX_PAYLOAD_SIZE);\n",
              "      const chunk = new Uint8Array(fileData, position, length);\n",
              "      position += length;\n",
              "\n",
              "      const base64 = btoa(String.fromCharCode.apply(null, chunk));\n",
              "      yield {\n",
              "        response: {\n",
              "          action: 'append',\n",
              "          file: file.name,\n",
              "          data: base64,\n",
              "        },\n",
              "      };\n",
              "\n",
              "      let percentDone = fileData.byteLength === 0 ?\n",
              "          100 :\n",
              "          Math.round((position / fileData.byteLength) * 100);\n",
              "      percent.textContent = `${percentDone}% done`;\n",
              "\n",
              "    } while (position < fileData.byteLength);\n",
              "  }\n",
              "\n",
              "  // All done.\n",
              "  yield {\n",
              "    response: {\n",
              "      action: 'complete',\n",
              "    }\n",
              "  };\n",
              "}\n",
              "\n",
              "scope.google = scope.google || {};\n",
              "scope.google.colab = scope.google.colab || {};\n",
              "scope.google.colab._files = {\n",
              "  _uploadFiles,\n",
              "  _uploadFilesContinue,\n",
              "};\n",
              "})(self);\n",
              "</script> "
            ]
          },
          "metadata": {}
        },
        {
          "output_type": "stream",
          "name": "stdout",
          "text": [
            "Saving kaggle.json to kaggle.json\n"
          ]
        }
      ]
    },
    {
      "cell_type": "code",
      "source": [
        "!pip install -q kaggle --upgrade\n",
        "!mkdir -p ~/.kaggle\n",
        "!cp kaggle.json ~/.kaggle/\n",
        "!ls ~/.kaggle\n",
        "!chmod 600 /root/.kaggle/kaggle.json"
      ],
      "metadata": {
        "colab": {
          "base_uri": "https://localhost:8080/"
        },
        "id": "AUf0QVv_u_c6",
        "outputId": "923b8e55-63ae-412f-b7f8-f71a9c50a947"
      },
      "execution_count": null,
      "outputs": [
        {
          "output_type": "stream",
          "name": "stdout",
          "text": [
            "kaggle.json\n"
          ]
        }
      ]
    },
    {
      "cell_type": "code",
      "source": [
        "!kaggle competitions download -c hse-nlp-bootcamp\n",
        "!unzip hse-nlp-bootcamp.zip"
      ],
      "metadata": {
        "colab": {
          "base_uri": "https://localhost:8080/"
        },
        "id": "9td0xTjeE08y",
        "outputId": "66ce6413-bcfd-4a41-f29d-2af230440042"
      },
      "execution_count": null,
      "outputs": [
        {
          "output_type": "stream",
          "name": "stdout",
          "text": [
            "Downloading hse-nlp-bootcamp.zip to /content\n",
            " 95% 57.0M/59.8M [00:00<00:00, 81.6MB/s]\n",
            "100% 59.8M/59.8M [00:00<00:00, 72.6MB/s]\n",
            "Archive:  hse-nlp-bootcamp.zip\n",
            "  inflating: new_test_ml.csv         \n",
            "  inflating: sample_submission.csv   \n",
            "  inflating: train_ml.csv            \n"
          ]
        }
      ]
    },
    {
      "cell_type": "code",
      "source": [
        "! ls"
      ],
      "metadata": {
        "colab": {
          "base_uri": "https://localhost:8080/"
        },
        "id": "ChPcna6fE6ln",
        "outputId": "1ff4c159-68b8-4c49-ee16-2299d7fbf409"
      },
      "execution_count": null,
      "outputs": [
        {
          "output_type": "stream",
          "name": "stdout",
          "text": [
            "drive\t\t      kaggle.json      sample_data\t      train_ml.csv\n",
            "hse-nlp-bootcamp.zip  new_test_ml.csv  sample_submission.csv\n"
          ]
        }
      ]
    },
    {
      "cell_type": "markdown",
      "source": [
        "# Imports"
      ],
      "metadata": {
        "id": "Gy4WeJMZvFJC"
      }
    },
    {
      "cell_type": "code",
      "source": [
        "import pandas as pd\n",
        "import numpy as np\n",
        "import random\n",
        "import pprint as pp\n",
        "import os\n",
        "\n",
        "\n",
        "# import re\n",
        "# from pymorphy2 import MorphAnalyzer\n",
        "# from functools import lru_cache\n",
        "# from nltk.corpus import stopwords\n",
        "\n",
        "# from multiprocessing import Pool\n",
        "# from tqdm import tqdm\n",
        "\n",
        "import nltk\n",
        "# nltk.download('stopwords')\n",
        "nltk.download('punkt')\n",
        "from nltk.tokenize import word_tokenize\n",
        "\n",
        "from sklearn.feature_extraction.text import TfidfVectorizer\n",
        "from sklearn.linear_model import LogisticRegression\n",
        "from sklearn.model_selection import train_test_split\n",
        "from sklearn.pipeline import Pipeline, FeatureUnion\n",
        "from sklearn.ensemble import RandomForestClassifier\n",
        "from sklearn.preprocessing import FunctionTransformer\n",
        "from sklearn.model_selection import GridSearchCV, StratifiedKFold\n",
        "from sklearn.metrics import classification_report, f1_score\n",
        "from joblib import dump, load"
      ],
      "metadata": {
        "colab": {
          "base_uri": "https://localhost:8080/"
        },
        "id": "kVu8ppjzImBa",
        "outputId": "9eb2e013-ed9b-4e68-96d2-2911255f9baa"
      },
      "execution_count": null,
      "outputs": [
        {
          "output_type": "stream",
          "name": "stderr",
          "text": [
            "[nltk_data] Downloading package punkt to /root/nltk_data...\n",
            "[nltk_data]   Package punkt is already up-to-date!\n"
          ]
        }
      ]
    },
    {
      "cell_type": "markdown",
      "source": [
        "# Configuration"
      ],
      "metadata": {
        "id": "sthlIvdsxzXZ"
      }
    },
    {
      "cell_type": "code",
      "source": [
        "class Config:\n",
        "  seed = 12536271\n",
        "  samples_num = 51476\n",
        "  experiment = EXPERIMENT\n",
        "  pl_thr = 0.90"
      ],
      "metadata": {
        "id": "PFbfLh_OzvW5"
      },
      "execution_count": null,
      "outputs": []
    },
    {
      "cell_type": "markdown",
      "source": [
        "# Main pipeline starts here"
      ],
      "metadata": {
        "id": "g76qhWw4z5uO"
      }
    },
    {
      "cell_type": "code",
      "source": [
        "def set_seed(seed=42):\n",
        "    np.random.seed(seed)\n",
        "    random.seed(seed)\n",
        "    os.environ['PYTHONHASHSEED'] = str(seed)\n",
        "\n",
        "\n",
        "set_seed(Config.seed)"
      ],
      "metadata": {
        "id": "7aKmye4OIw8N"
      },
      "execution_count": null,
      "outputs": []
    },
    {
      "cell_type": "markdown",
      "source": [
        "## Load and process train data"
      ],
      "metadata": {
        "id": "nmVoLp6ix3TC"
      }
    },
    {
      "cell_type": "code",
      "source": [
        "df = pd.read_csv('/content/train_ml.csv')\n",
        "banks_list = list(df.bank.unique())\n",
        "df['bank_id'] = df['bank'].apply(lambda x: banks_list.index(x))\n",
        "df['date'] = pd.to_datetime(df['date'], format='%d.%m.%Y %H:%M')"
      ],
      "metadata": {
        "id": "kDfkMyFGI1ln"
      },
      "execution_count": null,
      "outputs": []
    },
    {
      "cell_type": "markdown",
      "source": [
        "## Get nan samples for labelning"
      ],
      "metadata": {
        "id": "OV4CTDjQcP-Y"
      }
    },
    {
      "cell_type": "code",
      "source": [
        "df_nan=df[df['grades'].isna()].reset_index(drop=True)\n",
        "df_nan['text']= df_nan.feeds.apply(lambda x: x.lower())\n",
        "x_nan = df_nan[['bank_id','text']]"
      ],
      "metadata": {
        "id": "OcIe3ihPbzNb"
      },
      "execution_count": null,
      "outputs": []
    },
    {
      "cell_type": "code",
      "source": [
        "len(x_nan)"
      ],
      "metadata": {
        "colab": {
          "base_uri": "https://localhost:8080/"
        },
        "id": "FgSyddWzqtvk",
        "outputId": "21795a44-0a52-4103-8646-001b514e4f8e"
      },
      "execution_count": null,
      "outputs": [
        {
          "output_type": "execute_result",
          "data": {
            "text/plain": [
              "23524"
            ]
          },
          "metadata": {},
          "execution_count": 109
        }
      ]
    },
    {
      "cell_type": "markdown",
      "source": [
        "## Set up pipeline to load logreg model for labeling unlabeled data and further training on more bigger trainset"
      ],
      "metadata": {
        "id": "SJXfKgpbyLbR"
      }
    },
    {
      "cell_type": "code",
      "source": [
        "def get_numeric_data(x):\n",
        "    return x[['bank_id']]\n",
        "\n",
        "def get_text_data(x):\n",
        "    return x['text']\n",
        "\n",
        "transfomer_numeric = FunctionTransformer(get_numeric_data)\n",
        "transformer_text = FunctionTransformer(get_text_data)\n",
        "\n",
        "pipeline = Pipeline([\n",
        "    ('features', FeatureUnion([\n",
        "            ('numeric_features', Pipeline([\n",
        "                ('selector', transfomer_numeric)\n",
        "            ])),\n",
        "             ('text_features', Pipeline([\n",
        "                ('selector', transformer_text),\n",
        "                ('vec', TfidfVectorizer(ngram_range=(1, 2), tokenizer=word_tokenize))\n",
        "            ]))\n",
        "         ])),\n",
        "    ('clf', LogisticRegression(random_state=Config.seed,  warm_start=True, max_iter=1000))\n",
        "])"
      ],
      "metadata": {
        "id": "D5bc7SNQJX7V"
      },
      "execution_count": null,
      "outputs": []
    },
    {
      "cell_type": "markdown",
      "source": [
        "## Load the model to label unlabeled data"
      ],
      "metadata": {
        "id": "E-mFmYLFtfvt"
      }
    },
    {
      "cell_type": "code",
      "source": [
        "lr_model = load(OUTPUT_DIR+'logreg/'+'model_logreg_[sn_51476]_[sd_12536271][cv_0.7899].joblib')"
      ],
      "metadata": {
        "id": "522-NElWocAO"
      },
      "execution_count": null,
      "outputs": []
    },
    {
      "cell_type": "markdown",
      "source": [
        "## Label unlabeled data"
      ],
      "metadata": {
        "id": "VygdFBr5uJr2"
      }
    },
    {
      "cell_type": "code",
      "source": [
        "pseudo_labels_prob = lr_model.predict_proba(x_nan)\n",
        "label_probability = np.max(pseudo_labels_prob, axis = 1)\n",
        "labels_within_threshold = np.where((label_probability > Config.pl_thr))[0]\n",
        "pseudo_labels = np.argmax(pseudo_labels_prob[labels_within_threshold], axis = 1) + 1\n",
        "chosen_unlabelled_rows = x_nan.iloc[labels_within_threshold].copy()\n",
        "chosen_unlabelled_rows['grades'] = pseudo_labels\n",
        "chosen_unlabelled_rows.head()"
      ],
      "metadata": {
        "id": "RSS1T7piFpgx",
        "colab": {
          "base_uri": "https://localhost:8080/",
          "height": 206
        },
        "outputId": "a5d3348d-ef08-4641-d150-3da27fc1c16f"
      },
      "execution_count": null,
      "outputs": [
        {
          "output_type": "execute_result",
          "data": {
            "text/plain": [
              "   bank_id                                               text  grades\n",
              "1        3  обращаюсь к вам с жалобой на незаконное списан...       1\n",
              "2        5  брала кредит на стиральную машину. все платила...       1\n",
              "4        1  уважаемый бинбанк, если у вас имеются какие-ли...       1\n",
              "5        8  я проживаю в г. уфа, респ. башкортостан, с бан...       1\n",
              "7        6  добрый день! мне поступают звонки из вашего ба...       1"
            ],
            "text/html": [
              "\n",
              "  <div id=\"df-a54a319b-dd89-4e5f-8c50-af099b6c8aa7\">\n",
              "    <div class=\"colab-df-container\">\n",
              "      <div>\n",
              "<style scoped>\n",
              "    .dataframe tbody tr th:only-of-type {\n",
              "        vertical-align: middle;\n",
              "    }\n",
              "\n",
              "    .dataframe tbody tr th {\n",
              "        vertical-align: top;\n",
              "    }\n",
              "\n",
              "    .dataframe thead th {\n",
              "        text-align: right;\n",
              "    }\n",
              "</style>\n",
              "<table border=\"1\" class=\"dataframe\">\n",
              "  <thead>\n",
              "    <tr style=\"text-align: right;\">\n",
              "      <th></th>\n",
              "      <th>bank_id</th>\n",
              "      <th>text</th>\n",
              "      <th>grades</th>\n",
              "    </tr>\n",
              "  </thead>\n",
              "  <tbody>\n",
              "    <tr>\n",
              "      <th>1</th>\n",
              "      <td>3</td>\n",
              "      <td>обращаюсь к вам с жалобой на незаконное списан...</td>\n",
              "      <td>1</td>\n",
              "    </tr>\n",
              "    <tr>\n",
              "      <th>2</th>\n",
              "      <td>5</td>\n",
              "      <td>брала кредит на стиральную машину. все платила...</td>\n",
              "      <td>1</td>\n",
              "    </tr>\n",
              "    <tr>\n",
              "      <th>4</th>\n",
              "      <td>1</td>\n",
              "      <td>уважаемый бинбанк, если у вас имеются какие-ли...</td>\n",
              "      <td>1</td>\n",
              "    </tr>\n",
              "    <tr>\n",
              "      <th>5</th>\n",
              "      <td>8</td>\n",
              "      <td>я проживаю в г. уфа, респ. башкортостан, с бан...</td>\n",
              "      <td>1</td>\n",
              "    </tr>\n",
              "    <tr>\n",
              "      <th>7</th>\n",
              "      <td>6</td>\n",
              "      <td>добрый день! мне поступают звонки из вашего ба...</td>\n",
              "      <td>1</td>\n",
              "    </tr>\n",
              "  </tbody>\n",
              "</table>\n",
              "</div>\n",
              "      <button class=\"colab-df-convert\" onclick=\"convertToInteractive('df-a54a319b-dd89-4e5f-8c50-af099b6c8aa7')\"\n",
              "              title=\"Convert this dataframe to an interactive table.\"\n",
              "              style=\"display:none;\">\n",
              "        \n",
              "  <svg xmlns=\"http://www.w3.org/2000/svg\" height=\"24px\"viewBox=\"0 0 24 24\"\n",
              "       width=\"24px\">\n",
              "    <path d=\"M0 0h24v24H0V0z\" fill=\"none\"/>\n",
              "    <path d=\"M18.56 5.44l.94 2.06.94-2.06 2.06-.94-2.06-.94-.94-2.06-.94 2.06-2.06.94zm-11 1L8.5 8.5l.94-2.06 2.06-.94-2.06-.94L8.5 2.5l-.94 2.06-2.06.94zm10 10l.94 2.06.94-2.06 2.06-.94-2.06-.94-.94-2.06-.94 2.06-2.06.94z\"/><path d=\"M17.41 7.96l-1.37-1.37c-.4-.4-.92-.59-1.43-.59-.52 0-1.04.2-1.43.59L10.3 9.45l-7.72 7.72c-.78.78-.78 2.05 0 2.83L4 21.41c.39.39.9.59 1.41.59.51 0 1.02-.2 1.41-.59l7.78-7.78 2.81-2.81c.8-.78.8-2.07 0-2.86zM5.41 20L4 18.59l7.72-7.72 1.47 1.35L5.41 20z\"/>\n",
              "  </svg>\n",
              "      </button>\n",
              "      \n",
              "  <style>\n",
              "    .colab-df-container {\n",
              "      display:flex;\n",
              "      flex-wrap:wrap;\n",
              "      gap: 12px;\n",
              "    }\n",
              "\n",
              "    .colab-df-convert {\n",
              "      background-color: #E8F0FE;\n",
              "      border: none;\n",
              "      border-radius: 50%;\n",
              "      cursor: pointer;\n",
              "      display: none;\n",
              "      fill: #1967D2;\n",
              "      height: 32px;\n",
              "      padding: 0 0 0 0;\n",
              "      width: 32px;\n",
              "    }\n",
              "\n",
              "    .colab-df-convert:hover {\n",
              "      background-color: #E2EBFA;\n",
              "      box-shadow: 0px 1px 2px rgba(60, 64, 67, 0.3), 0px 1px 3px 1px rgba(60, 64, 67, 0.15);\n",
              "      fill: #174EA6;\n",
              "    }\n",
              "\n",
              "    [theme=dark] .colab-df-convert {\n",
              "      background-color: #3B4455;\n",
              "      fill: #D2E3FC;\n",
              "    }\n",
              "\n",
              "    [theme=dark] .colab-df-convert:hover {\n",
              "      background-color: #434B5C;\n",
              "      box-shadow: 0px 1px 3px 1px rgba(0, 0, 0, 0.15);\n",
              "      filter: drop-shadow(0px 1px 2px rgba(0, 0, 0, 0.3));\n",
              "      fill: #FFFFFF;\n",
              "    }\n",
              "  </style>\n",
              "\n",
              "      <script>\n",
              "        const buttonEl =\n",
              "          document.querySelector('#df-a54a319b-dd89-4e5f-8c50-af099b6c8aa7 button.colab-df-convert');\n",
              "        buttonEl.style.display =\n",
              "          google.colab.kernel.accessAllowed ? 'block' : 'none';\n",
              "\n",
              "        async function convertToInteractive(key) {\n",
              "          const element = document.querySelector('#df-a54a319b-dd89-4e5f-8c50-af099b6c8aa7');\n",
              "          const dataTable =\n",
              "            await google.colab.kernel.invokeFunction('convertToInteractive',\n",
              "                                                     [key], {});\n",
              "          if (!dataTable) return;\n",
              "\n",
              "          const docLinkHtml = 'Like what you see? Visit the ' +\n",
              "            '<a target=\"_blank\" href=https://colab.research.google.com/notebooks/data_table.ipynb>data table notebook</a>'\n",
              "            + ' to learn more about interactive tables.';\n",
              "          element.innerHTML = '';\n",
              "          dataTable['output_type'] = 'display_data';\n",
              "          await google.colab.output.renderOutput(dataTable, element);\n",
              "          const docLink = document.createElement('div');\n",
              "          docLink.innerHTML = docLinkHtml;\n",
              "          element.appendChild(docLink);\n",
              "        }\n",
              "      </script>\n",
              "    </div>\n",
              "  </div>\n",
              "  "
            ]
          },
          "metadata": {},
          "execution_count": 112
        }
      ]
    },
    {
      "cell_type": "markdown",
      "source": [
        "## Construct new dataset"
      ],
      "metadata": {
        "id": "Vmoy8EgcuS9t"
      }
    },
    {
      "cell_type": "code",
      "source": [
        "df = df.dropna()\n",
        "df = df.astype({'grades': 'int32'})"
      ],
      "metadata": {
        "id": "B9YS9VUpT5l0"
      },
      "execution_count": null,
      "outputs": []
    },
    {
      "cell_type": "code",
      "source": [
        "subset = df.sample(Config.samples_num, random_state=Config.seed)\n",
        "subset['text'] = subset.feeds.apply(lambda x: x.lower())\n",
        "subset.reset_index(drop=True, inplace=True)\n",
        "# new_data = pd.concat([subset[['bank_id', 'text', 'grades']], x_nan])"
      ],
      "metadata": {
        "id": "l-YkJWUNbuh6"
      },
      "execution_count": null,
      "outputs": []
    },
    {
      "cell_type": "markdown",
      "source": [
        "## Split new data on train and test"
      ],
      "metadata": {
        "id": "uW_0omXvyCEL"
      }
    },
    {
      "cell_type": "code",
      "source": [
        "x_train, x_test, y_train, y_test = train_test_split(subset[['bank_id', 'text']], subset['grades'], test_size=0.1, random_state=Config.seed)\n",
        "x_train = pd.concat([x_train, chosen_unlabelled_rows[['bank_id', 'text']]], ignore_index=True)\n",
        "y_train = pd.concat([y_train, chosen_unlabelled_rows['grades']], ignore_index=True)\n",
        "len(x_train)"
      ],
      "metadata": {
        "id": "VwWVfg14JMEO",
        "colab": {
          "base_uri": "https://localhost:8080/"
        },
        "outputId": "d279cf90-80ac-4786-86d5-e7769900ed38"
      },
      "execution_count": null,
      "outputs": [
        {
          "output_type": "execute_result",
          "data": {
            "text/plain": [
              "50429"
            ]
          },
          "metadata": {},
          "execution_count": 115
        }
      ]
    },
    {
      "cell_type": "code",
      "source": [
        "pp.pprint(sorted(pipeline.get_params().keys()))"
      ],
      "metadata": {
        "id": "557hZTNCK65W"
      },
      "execution_count": null,
      "outputs": []
    },
    {
      "cell_type": "markdown",
      "source": [
        "## Set params for GridSearchCV"
      ],
      "metadata": {
        "id": "F495o6LsvVoi"
      }
    },
    {
      "cell_type": "code",
      "source": [
        "param_grid = {'features__text_features__vec__max_df': [1.0],\n",
        "              'features__text_features__vec__min_df': [0.001]}\n",
        "\n",
        "kfold = StratifiedKFold(n_splits=5)\n",
        "scoring = {'F1': 'f1_micro'}\n",
        "refit = 'F1'"
      ],
      "metadata": {
        "id": "Qz5TrwYByU5U"
      },
      "execution_count": null,
      "outputs": []
    },
    {
      "cell_type": "markdown",
      "source": [
        "## Perform GridSearch"
      ],
      "metadata": {
        "id": "MEB9zFsfyeKA"
      }
    },
    {
      "cell_type": "code",
      "source": [
        "print(f'samples: {Config.samples_num} + pl {len(chosen_unlabelled_rows)}')\n",
        "lr_model = GridSearchCV(pipeline, param_grid=param_grid, cv=kfold, scoring=scoring, \n",
        "                         refit=refit, n_jobs=-1, return_train_score=True, verbose=10)\n",
        "lr_model.fit(x_train, y_train)\n",
        "lr_best = lr_model.best_estimator_"
      ],
      "metadata": {
        "colab": {
          "base_uri": "https://localhost:8080/"
        },
        "id": "1ritivp8JNdK",
        "outputId": "9e7202ba-aa08-4d40-8867-cf575f3d2dc1"
      },
      "execution_count": null,
      "outputs": [
        {
          "output_type": "stream",
          "name": "stdout",
          "text": [
            "samples: 51476 + pl 4101\n",
            "Fitting 5 folds for each of 1 candidates, totalling 5 fits\n"
          ]
        },
        {
          "output_type": "stream",
          "name": "stderr",
          "text": [
            "/usr/local/lib/python3.8/dist-packages/sklearn/linear_model/_logistic.py:814: ConvergenceWarning: lbfgs failed to converge (status=1):\n",
            "STOP: TOTAL NO. of ITERATIONS REACHED LIMIT.\n",
            "\n",
            "Increase the number of iterations (max_iter) or scale the data as shown in:\n",
            "    https://scikit-learn.org/stable/modules/preprocessing.html\n",
            "Please also refer to the documentation for alternative solver options:\n",
            "    https://scikit-learn.org/stable/modules/linear_model.html#logistic-regression\n",
            "  n_iter_i = _check_optimize_result(\n"
          ]
        }
      ]
    },
    {
      "cell_type": "markdown",
      "source": [
        "## Test best model"
      ],
      "metadata": {
        "id": "jOqWPVhkym4A"
      }
    },
    {
      "cell_type": "code",
      "source": [
        "pred = lr_best.predict(x_test)\n",
        "probs_test = lr_best.predict_proba(x_test)\n",
        "print(classification_report(y_test, pred))"
      ],
      "metadata": {
        "colab": {
          "base_uri": "https://localhost:8080/"
        },
        "id": "JVbKeifKMNx1",
        "outputId": "e076d40c-7d5d-45b5-be42-f8be7a2e84f1"
      },
      "execution_count": null,
      "outputs": [
        {
          "output_type": "stream",
          "name": "stdout",
          "text": [
            "              precision    recall  f1-score   support\n",
            "\n",
            "           1       0.75      0.98      0.85      2788\n",
            "           2       0.23      0.02      0.04       582\n",
            "           3       0.43      0.01      0.02       253\n",
            "           4       0.43      0.02      0.04       135\n",
            "           5       0.90      0.92      0.91      1390\n",
            "\n",
            "    accuracy                           0.79      5148\n",
            "   macro avg       0.55      0.39      0.37      5148\n",
            "weighted avg       0.71      0.79      0.71      5148\n",
            "\n"
          ]
        }
      ]
    },
    {
      "cell_type": "code",
      "source": [
        "len(x_test)"
      ],
      "metadata": {
        "colab": {
          "base_uri": "https://localhost:8080/"
        },
        "id": "9eCgNM0jtyFc",
        "outputId": "30006945-bfda-4d7f-f7f7-473f176e9359"
      },
      "execution_count": null,
      "outputs": [
        {
          "output_type": "execute_result",
          "data": {
            "text/plain": [
              "5148"
            ]
          },
          "metadata": {},
          "execution_count": 157
        }
      ]
    },
    {
      "cell_type": "code",
      "source": [
        "pd.set_option('display.max_colwidth', None)"
      ],
      "metadata": {
        "id": "D8BwrLjHudjV"
      },
      "execution_count": null,
      "outputs": []
    },
    {
      "cell_type": "code",
      "source": [
        "errors_idx = np.where(y_test != pred)\n",
        "errors_info = x_test.copy().iloc[errors_idx]\n",
        "errors_info['gt'] = y_test.iloc[errors_idx]\n",
        "errors_info['pred'] = pred[errors_idx]\n",
        "errors_info[['c1','c2','c3','c4', 'c5']] = probs_test[errors_idx]\n",
        "errors_info.head(30)"
      ],
      "metadata": {
        "id": "OchmFG7MrUMv"
      },
      "execution_count": null,
      "outputs": []
    },
    {
      "cell_type": "code",
      "source": [
        "f1_score(y_test, pred, average='micro')"
      ],
      "metadata": {
        "colab": {
          "base_uri": "https://localhost:8080/"
        },
        "id": "UZl3UQZjwMno",
        "outputId": "b224a5ee-2f38-4904-b6c2-43f976788a7c"
      },
      "execution_count": null,
      "outputs": [
        {
          "output_type": "execute_result",
          "data": {
            "text/plain": [
              "0.7861305361305362"
            ]
          },
          "metadata": {},
          "execution_count": 156
        }
      ]
    },
    {
      "cell_type": "code",
      "source": [
        "probs_test_corrected = np.multiply(probs_test, (1, 1.01, 1.01, 1.1, 0.97))\n",
        "pred_corrected = np.argmax(probs_test_corrected, axis=1) + 1\n",
        "print(classification_report(y_test, pred_corrected))\n",
        "f1_score(y_test, pred_corrected, average='micro')"
      ],
      "metadata": {
        "colab": {
          "base_uri": "https://localhost:8080/"
        },
        "id": "l9FXkY3zvfqM",
        "outputId": "e2f066f3-29ed-4ab0-f966-acec16a0ae5f"
      },
      "execution_count": null,
      "outputs": [
        {
          "output_type": "stream",
          "name": "stdout",
          "text": [
            "              precision    recall  f1-score   support\n",
            "\n",
            "           1       0.75      0.98      0.85      2788\n",
            "           2       0.25      0.02      0.04       582\n",
            "           3       0.43      0.01      0.02       253\n",
            "           4       0.45      0.04      0.07       135\n",
            "           5       0.90      0.92      0.91      1390\n",
            "\n",
            "    accuracy                           0.79      5148\n",
            "   macro avg       0.56      0.40      0.38      5148\n",
            "weighted avg       0.71      0.79      0.72      5148\n",
            "\n"
          ]
        },
        {
          "output_type": "execute_result",
          "data": {
            "text/plain": [
              "0.7865190365190365"
            ]
          },
          "metadata": {},
          "execution_count": 238
        }
      ]
    },
    {
      "cell_type": "code",
      "source": [
        "lr_model.best_params_"
      ],
      "metadata": {
        "colab": {
          "base_uri": "https://localhost:8080/"
        },
        "id": "364aJjyWNz7p",
        "outputId": "95b8dad5-95c0-4213-e64b-1d0034a5be6e"
      },
      "execution_count": null,
      "outputs": [
        {
          "output_type": "execute_result",
          "data": {
            "text/plain": [
              "{'features__text_features__vec__max_df': 1.0,\n",
              " 'features__text_features__vec__min_df': 0.001}"
            ]
          },
          "metadata": {},
          "execution_count": 120
        }
      ]
    },
    {
      "cell_type": "code",
      "source": [
        "lr_model.cv_results_"
      ],
      "metadata": {
        "colab": {
          "base_uri": "https://localhost:8080/"
        },
        "id": "-Uyat1IeMViU",
        "outputId": "2b95de04-6bb3-48a5-f2f8-970b0cc5d1a7"
      },
      "execution_count": null,
      "outputs": [
        {
          "output_type": "execute_result",
          "data": {
            "text/plain": [
              "{'mean_fit_time': array([421.08608727]),\n",
              " 'std_fit_time': array([81.49718932]),\n",
              " 'mean_score_time': array([32.69089179]),\n",
              " 'std_score_time': array([6.314987]),\n",
              " 'param_features__text_features__vec__max_df': masked_array(data=[1.0],\n",
              "              mask=[False],\n",
              "        fill_value='?',\n",
              "             dtype=object),\n",
              " 'param_features__text_features__vec__min_df': masked_array(data=[0.001],\n",
              "              mask=[False],\n",
              "        fill_value='?',\n",
              "             dtype=object),\n",
              " 'params': [{'features__text_features__vec__max_df': 1.0,\n",
              "   'features__text_features__vec__min_df': 0.001}],\n",
              " 'split0_test_F1': array([0.80805076]),\n",
              " 'split1_test_F1': array([0.80557208]),\n",
              " 'split2_test_F1': array([0.80279595]),\n",
              " 'split3_test_F1': array([0.80428316]),\n",
              " 'split4_test_F1': array([0.81566683]),\n",
              " 'mean_test_F1': array([0.80727376]),\n",
              " 'std_test_F1': array([0.00453735]),\n",
              " 'rank_test_F1': array([1], dtype=int32),\n",
              " 'split0_train_F1': array([0.83422155]),\n",
              " 'split1_train_F1': array([0.83295739]),\n",
              " 'split2_train_F1': array([0.83528741]),\n",
              " 'split3_train_F1': array([0.83449421]),\n",
              " 'split4_train_F1': array([0.83157347]),\n",
              " 'mean_train_F1': array([0.83370681]),\n",
              " 'std_train_F1': array([0.00130354])}"
            ]
          },
          "metadata": {},
          "execution_count": 121
        }
      ]
    },
    {
      "cell_type": "code",
      "source": [
        "lr_model.best_score_"
      ],
      "metadata": {
        "colab": {
          "base_uri": "https://localhost:8080/"
        },
        "id": "8BYZiHyGMdCx",
        "outputId": "6be505e6-d3e6-4caa-8cd8-d7c42c01954f"
      },
      "execution_count": null,
      "outputs": [
        {
          "output_type": "execute_result",
          "data": {
            "text/plain": [
              "0.8072737590091597"
            ]
          },
          "metadata": {},
          "execution_count": 122
        }
      ]
    },
    {
      "cell_type": "code",
      "source": [
        "cv_tag = f'[cv_{lr_model.best_score_:0.4f}]'"
      ],
      "metadata": {
        "id": "Aakv1krYsf3K"
      },
      "execution_count": null,
      "outputs": []
    },
    {
      "cell_type": "code",
      "source": [
        "cv_tag"
      ],
      "metadata": {
        "colab": {
          "base_uri": "https://localhost:8080/",
          "height": 36
        },
        "id": "00EZOpXJsz8Y",
        "outputId": "028deea0-6a23-4f91-d854-2fde5b1a589b"
      },
      "execution_count": null,
      "outputs": [
        {
          "output_type": "execute_result",
          "data": {
            "text/plain": [
              "'[cv_0.8073]'"
            ],
            "application/vnd.google.colaboratory.intrinsic+json": {
              "type": "string"
            }
          },
          "metadata": {},
          "execution_count": 124
        }
      ]
    },
    {
      "cell_type": "markdown",
      "source": [
        "## Inference (calculating submission) "
      ],
      "metadata": {
        "id": "ZoMhFzjDysAW"
      }
    },
    {
      "cell_type": "code",
      "source": [
        "test = pd.read_csv('/content/new_test_ml.csv', index_col=0)\n",
        "test['text'] = test.feeds.apply(lambda x: x.lower())\n",
        "test['bank_id'] = test['bank'].apply(lambda x: banks_list.index(x))\n",
        "test = test[['bank_id', 'text']]\n",
        "#test_pred = lr_best.predict(test)\n",
        "probs = lr_best.predict_proba(test)\n",
        "probs_corrected = np.multiply(probs, (1, 1.01, 1.01, 1.1, 0.97))\n",
        "test_pred_corrected = np.argmax(probs_corrected, axis=1) + 1\n",
        "sub = pd.DataFrame({'inds': test.index,\n",
        "                    'grades': test_pred_corrected})\n",
        "sub"
      ],
      "metadata": {
        "colab": {
          "base_uri": "https://localhost:8080/",
          "height": 424
        },
        "id": "leuffYHTOnUX",
        "outputId": "703191b7-e699-431e-8d76-8e18bf789dc3"
      },
      "execution_count": null,
      "outputs": [
        {
          "output_type": "execute_result",
          "data": {
            "text/plain": [
              "        inds  grades\n",
              "0          0       1\n",
              "1          1       1\n",
              "2          2       1\n",
              "3          3       1\n",
              "4          4       1\n",
              "...      ...     ...\n",
              "17215  17215       1\n",
              "17216  17216       1\n",
              "17217  17217       1\n",
              "17218  17218       1\n",
              "17219  17219       1\n",
              "\n",
              "[17220 rows x 2 columns]"
            ],
            "text/html": [
              "\n",
              "  <div id=\"df-dbb29aad-ee1f-485d-88fc-8447c380c1d1\">\n",
              "    <div class=\"colab-df-container\">\n",
              "      <div>\n",
              "<style scoped>\n",
              "    .dataframe tbody tr th:only-of-type {\n",
              "        vertical-align: middle;\n",
              "    }\n",
              "\n",
              "    .dataframe tbody tr th {\n",
              "        vertical-align: top;\n",
              "    }\n",
              "\n",
              "    .dataframe thead th {\n",
              "        text-align: right;\n",
              "    }\n",
              "</style>\n",
              "<table border=\"1\" class=\"dataframe\">\n",
              "  <thead>\n",
              "    <tr style=\"text-align: right;\">\n",
              "      <th></th>\n",
              "      <th>inds</th>\n",
              "      <th>grades</th>\n",
              "    </tr>\n",
              "  </thead>\n",
              "  <tbody>\n",
              "    <tr>\n",
              "      <th>0</th>\n",
              "      <td>0</td>\n",
              "      <td>1</td>\n",
              "    </tr>\n",
              "    <tr>\n",
              "      <th>1</th>\n",
              "      <td>1</td>\n",
              "      <td>1</td>\n",
              "    </tr>\n",
              "    <tr>\n",
              "      <th>2</th>\n",
              "      <td>2</td>\n",
              "      <td>1</td>\n",
              "    </tr>\n",
              "    <tr>\n",
              "      <th>3</th>\n",
              "      <td>3</td>\n",
              "      <td>1</td>\n",
              "    </tr>\n",
              "    <tr>\n",
              "      <th>4</th>\n",
              "      <td>4</td>\n",
              "      <td>1</td>\n",
              "    </tr>\n",
              "    <tr>\n",
              "      <th>...</th>\n",
              "      <td>...</td>\n",
              "      <td>...</td>\n",
              "    </tr>\n",
              "    <tr>\n",
              "      <th>17215</th>\n",
              "      <td>17215</td>\n",
              "      <td>1</td>\n",
              "    </tr>\n",
              "    <tr>\n",
              "      <th>17216</th>\n",
              "      <td>17216</td>\n",
              "      <td>1</td>\n",
              "    </tr>\n",
              "    <tr>\n",
              "      <th>17217</th>\n",
              "      <td>17217</td>\n",
              "      <td>1</td>\n",
              "    </tr>\n",
              "    <tr>\n",
              "      <th>17218</th>\n",
              "      <td>17218</td>\n",
              "      <td>1</td>\n",
              "    </tr>\n",
              "    <tr>\n",
              "      <th>17219</th>\n",
              "      <td>17219</td>\n",
              "      <td>1</td>\n",
              "    </tr>\n",
              "  </tbody>\n",
              "</table>\n",
              "<p>17220 rows × 2 columns</p>\n",
              "</div>\n",
              "      <button class=\"colab-df-convert\" onclick=\"convertToInteractive('df-dbb29aad-ee1f-485d-88fc-8447c380c1d1')\"\n",
              "              title=\"Convert this dataframe to an interactive table.\"\n",
              "              style=\"display:none;\">\n",
              "        \n",
              "  <svg xmlns=\"http://www.w3.org/2000/svg\" height=\"24px\"viewBox=\"0 0 24 24\"\n",
              "       width=\"24px\">\n",
              "    <path d=\"M0 0h24v24H0V0z\" fill=\"none\"/>\n",
              "    <path d=\"M18.56 5.44l.94 2.06.94-2.06 2.06-.94-2.06-.94-.94-2.06-.94 2.06-2.06.94zm-11 1L8.5 8.5l.94-2.06 2.06-.94-2.06-.94L8.5 2.5l-.94 2.06-2.06.94zm10 10l.94 2.06.94-2.06 2.06-.94-2.06-.94-.94-2.06-.94 2.06-2.06.94z\"/><path d=\"M17.41 7.96l-1.37-1.37c-.4-.4-.92-.59-1.43-.59-.52 0-1.04.2-1.43.59L10.3 9.45l-7.72 7.72c-.78.78-.78 2.05 0 2.83L4 21.41c.39.39.9.59 1.41.59.51 0 1.02-.2 1.41-.59l7.78-7.78 2.81-2.81c.8-.78.8-2.07 0-2.86zM5.41 20L4 18.59l7.72-7.72 1.47 1.35L5.41 20z\"/>\n",
              "  </svg>\n",
              "      </button>\n",
              "      \n",
              "  <style>\n",
              "    .colab-df-container {\n",
              "      display:flex;\n",
              "      flex-wrap:wrap;\n",
              "      gap: 12px;\n",
              "    }\n",
              "\n",
              "    .colab-df-convert {\n",
              "      background-color: #E8F0FE;\n",
              "      border: none;\n",
              "      border-radius: 50%;\n",
              "      cursor: pointer;\n",
              "      display: none;\n",
              "      fill: #1967D2;\n",
              "      height: 32px;\n",
              "      padding: 0 0 0 0;\n",
              "      width: 32px;\n",
              "    }\n",
              "\n",
              "    .colab-df-convert:hover {\n",
              "      background-color: #E2EBFA;\n",
              "      box-shadow: 0px 1px 2px rgba(60, 64, 67, 0.3), 0px 1px 3px 1px rgba(60, 64, 67, 0.15);\n",
              "      fill: #174EA6;\n",
              "    }\n",
              "\n",
              "    [theme=dark] .colab-df-convert {\n",
              "      background-color: #3B4455;\n",
              "      fill: #D2E3FC;\n",
              "    }\n",
              "\n",
              "    [theme=dark] .colab-df-convert:hover {\n",
              "      background-color: #434B5C;\n",
              "      box-shadow: 0px 1px 3px 1px rgba(0, 0, 0, 0.15);\n",
              "      filter: drop-shadow(0px 1px 2px rgba(0, 0, 0, 0.3));\n",
              "      fill: #FFFFFF;\n",
              "    }\n",
              "  </style>\n",
              "\n",
              "      <script>\n",
              "        const buttonEl =\n",
              "          document.querySelector('#df-dbb29aad-ee1f-485d-88fc-8447c380c1d1 button.colab-df-convert');\n",
              "        buttonEl.style.display =\n",
              "          google.colab.kernel.accessAllowed ? 'block' : 'none';\n",
              "\n",
              "        async function convertToInteractive(key) {\n",
              "          const element = document.querySelector('#df-dbb29aad-ee1f-485d-88fc-8447c380c1d1');\n",
              "          const dataTable =\n",
              "            await google.colab.kernel.invokeFunction('convertToInteractive',\n",
              "                                                     [key], {});\n",
              "          if (!dataTable) return;\n",
              "\n",
              "          const docLinkHtml = 'Like what you see? Visit the ' +\n",
              "            '<a target=\"_blank\" href=https://colab.research.google.com/notebooks/data_table.ipynb>data table notebook</a>'\n",
              "            + ' to learn more about interactive tables.';\n",
              "          element.innerHTML = '';\n",
              "          dataTable['output_type'] = 'display_data';\n",
              "          await google.colab.output.renderOutput(dataTable, element);\n",
              "          const docLink = document.createElement('div');\n",
              "          docLink.innerHTML = docLinkHtml;\n",
              "          element.appendChild(docLink);\n",
              "        }\n",
              "      </script>\n",
              "    </div>\n",
              "  </div>\n",
              "  "
            ]
          },
          "metadata": {},
          "execution_count": 239
        }
      ]
    },
    {
      "cell_type": "markdown",
      "source": [
        "# Save results to files"
      ],
      "metadata": {
        "id": "leeoza5I8G8S"
      }
    },
    {
      "cell_type": "code",
      "source": [
        "suffix = f'{Config.experiment}_postpr_[thr_{Config.pl_thr}]_[sn_{Config.samples_num}]_[sd_{Config.seed}]'+cv_tag\n",
        "sub_filename = 'sub_'+suffix+'.csv'\n",
        "probs_filename = 'probs_'+suffix+'.npy'\n",
        "model_filename = 'model_'+suffix+'.joblib'"
      ],
      "metadata": {
        "id": "jMHQQZ8Z4mSo"
      },
      "execution_count": null,
      "outputs": []
    },
    {
      "cell_type": "code",
      "source": [
        "sub.to_csv(sub_filename, index=False)\n",
        "np.save(probs_filename, probs)\n",
        "dump(lr_best, model_filename)"
      ],
      "metadata": {
        "id": "SID2o3ZMQOSV",
        "colab": {
          "base_uri": "https://localhost:8080/"
        },
        "outputId": "cbe43ff9-224d-464d-dcfc-09d1e7701878"
      },
      "execution_count": null,
      "outputs": [
        {
          "output_type": "execute_result",
          "data": {
            "text/plain": [
              "['model_logreg_pl_postpr_[thr_0.9]_[sn_51476]_[sd_12536271][cv_0.8073].joblib']"
            ]
          },
          "metadata": {},
          "execution_count": 241
        }
      ]
    },
    {
      "cell_type": "code",
      "source": [
        "!cp {sub_filename} {EXPERIMENT_DIR}\n",
        "!cp {probs_filename} {EXPERIMENT_DIR}\n",
        "!cp {model_filename} {EXPERIMENT_DIR}"
      ],
      "metadata": {
        "id": "owrvY3Zg7FFW"
      },
      "execution_count": null,
      "outputs": []
    },
    {
      "cell_type": "code",
      "source": [
        "!ls"
      ],
      "metadata": {
        "colab": {
          "base_uri": "https://localhost:8080/"
        },
        "id": "4QI6Mq82-nQz",
        "outputId": "09838251-161c-4b93-d91d-b3fe7bd31f74"
      },
      "execution_count": null,
      "outputs": [
        {
          "output_type": "stream",
          "name": "stdout",
          "text": [
            " drive\n",
            " hse-nlp-bootcamp.zip\n",
            " kaggle.json\n",
            "'model_logreg_pl_postpr_[thr_0.9]_[sn_51476]_[sd_12536271][cv_0.8073].joblib'\n",
            "'model_logreg_pl_[sn_10000]_[sd_12536271][cv_0.8049].joblib'\n",
            "'model_logreg_pl_[thr_0.95]_[sn_20000]_[sd_12536271][cv_0.7972].joblib'\n",
            "'model_logreg_pl_[thr_0.95]_[sn_51476]_[sd_12536271][cv_0.7957].joblib'\n",
            "'model_logreg_pl_[thr_0.9]_[sn_51476]_[sd_12536271][cv_0.8073].joblib'\n",
            " new_test_ml.csv\n",
            "'probs_logreg_pl_postpr_[thr_0.9]_[sn_51476]_[sd_12536271][cv_0.8073].npy'\n",
            "'probs_logreg_pl_[sn_10000]_[sd_12536271][cv_0.8049].npy'\n",
            "'probs_logreg_pl_[thr_0.95]_[sn_20000]_[sd_12536271][cv_0.7972].npy'\n",
            "'probs_logreg_pl_[thr_0.95]_[sn_51476]_[sd_12536271][cv_0.7957].npy'\n",
            "'probs_logreg_pl_[thr_0.9]_[sn_51476]_[sd_12536271][cv_0.8073].npy'\n",
            " sample_data\n",
            " sample_submission.csv\n",
            "'sub_logreg_pl_postpr_[thr_0.9]_[sn_51476]_[sd_12536271][cv_0.8073].csv'\n",
            "'sub_logreg_pl_[sn_10000]_[sd_12536271][cv_0.8049].csv'\n",
            "'sub_logreg_pl_[thr_0.95]_[sn_20000]_[sd_12536271][cv_0.7972].csv'\n",
            "'sub_logreg_pl_[thr_0.95]_[sn_51476]_[sd_12536271][cv_0.7957].csv'\n",
            "'sub_logreg_pl_[thr_0.9]_[sn_51476]_[sd_12536271][cv_0.8073].csv'\n",
            " train_ml.csv\n"
          ]
        }
      ]
    },
    {
      "cell_type": "markdown",
      "source": [
        "# Submit predictions"
      ],
      "metadata": {
        "id": "Z7I8508vzLDB"
      }
    },
    {
      "cell_type": "code",
      "source": [
        "! kaggle competitions submit -c hse-nlp-bootcamp  -f {'/content/'+sub_filename} -m \"Submission via API\""
      ],
      "metadata": {
        "colab": {
          "base_uri": "https://localhost:8080/"
        },
        "id": "zYoB0WZGQ5RV",
        "outputId": "b6ac9a1d-3455-4ec1-a64f-c7e8812e430c"
      },
      "execution_count": null,
      "outputs": [
        {
          "output_type": "stream",
          "name": "stdout",
          "text": [
            "100% 124k/124k [00:01<00:00, 72.4kB/s]\n",
            "Successfully submitted to HSE | NLP Bootcamp | Sentiment Analysis"
          ]
        }
      ]
    },
    {
      "cell_type": "markdown",
      "source": [
        "#  CV:0.8475 x_test:0.7843 LB:0.79419 "
      ],
      "metadata": {
        "id": "v56M9HUhuOq0"
      }
    }
  ]
}