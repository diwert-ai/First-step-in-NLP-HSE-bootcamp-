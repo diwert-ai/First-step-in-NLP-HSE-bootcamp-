{
  "nbformat": 4,
  "nbformat_minor": 0,
  "metadata": {
    "colab": {
      "provenance": [],
      "authorship_tag": "ABX9TyPyjs27n+zsftvn1Z/iHazW",
      "include_colab_link": true
    },
    "kernelspec": {
      "name": "python3",
      "display_name": "Python 3"
    },
    "language_info": {
      "name": "python"
    }
  },
  "cells": [
    {
      "cell_type": "markdown",
      "metadata": {
        "id": "view-in-github",
        "colab_type": "text"
      },
      "source": [
        "<a href=\"https://colab.research.google.com/github/diwert-ai/First-step-in-NLP-HSE-bootcamp-/blob/main/kaggle%20competition/experiment_bias_postprocessing.ipynb\" target=\"_parent\"><img src=\"https://colab.research.google.com/assets/colab-badge.svg\" alt=\"Open In Colab\"/></a>"
      ]
    },
    {
      "cell_type": "markdown",
      "source": [
        "# Mount google.drive and copy dataset to colab linux instance"
      ],
      "metadata": {
        "id": "bQDiQxbQugmn"
      }
    },
    {
      "cell_type": "code",
      "execution_count": null,
      "metadata": {
        "colab": {
          "base_uri": "https://localhost:8080/"
        },
        "id": "19EdqtsoH5wu",
        "outputId": "4220d918-0bf0-494e-9936-2c5a0dff3e2c"
      },
      "outputs": [
        {
          "output_type": "stream",
          "name": "stdout",
          "text": [
            "Mounted at /content/drive\n"
          ]
        }
      ],
      "source": [
        "from google.colab import drive\n",
        "drive.mount('/content/drive')"
      ]
    },
    {
      "cell_type": "code",
      "source": [
        "INPUT_DIR = '/content/drive/MyDrive/kaggle/fsnlp_hse/input/'\n",
        "OUTPUT_DIR = '/content/drive/MyDrive/kaggle/fsnlp_hse/output/'\n",
        "\n",
        "WORK_DIR = '/content/'\n",
        "EXPERIMENT = 'stats'\n",
        "EXPERIMENT_DIR = OUTPUT_DIR + EXPERIMENT+ '/'\n",
        "\n",
        "DATASET_DIR = INPUT_DIR\n",
        "METADATA_DIR = INPUT_DIR\n",
        "\n",
        "!mkdir {EXPERIMENT_DIR}"
      ],
      "metadata": {
        "id": "5JGKcfRvIMP-",
        "colab": {
          "base_uri": "https://localhost:8080/"
        },
        "outputId": "84c617ef-2dd0-4379-8dbb-48801d9dce90"
      },
      "execution_count": null,
      "outputs": [
        {
          "output_type": "stream",
          "name": "stdout",
          "text": [
            "mkdir: cannot create directory ‘/content/drive/MyDrive/kaggle/fsnlp_hse/output/stats/’: File exists\n"
          ]
        }
      ]
    },
    {
      "cell_type": "markdown",
      "source": [
        "# Install and set up Kaggle API"
      ],
      "metadata": {
        "id": "_FRUrySVuxLa"
      }
    },
    {
      "cell_type": "code",
      "source": [
        "from google.colab import files\n",
        "uploaded = files.upload()"
      ],
      "metadata": {
        "colab": {
          "base_uri": "https://localhost:8080/",
          "height": 74
        },
        "id": "IUMCyuwcu2Cb",
        "outputId": "3f2124b7-a3ba-490d-eb17-f0273309fb12"
      },
      "execution_count": null,
      "outputs": [
        {
          "output_type": "display_data",
          "data": {
            "text/plain": [
              "<IPython.core.display.HTML object>"
            ],
            "text/html": [
              "\n",
              "     <input type=\"file\" id=\"files-42bd1dc6-f22d-4858-9088-e15cb0edb66c\" name=\"files[]\" multiple disabled\n",
              "        style=\"border:none\" />\n",
              "     <output id=\"result-42bd1dc6-f22d-4858-9088-e15cb0edb66c\">\n",
              "      Upload widget is only available when the cell has been executed in the\n",
              "      current browser session. Please rerun this cell to enable.\n",
              "      </output>\n",
              "      <script>// Copyright 2017 Google LLC\n",
              "//\n",
              "// Licensed under the Apache License, Version 2.0 (the \"License\");\n",
              "// you may not use this file except in compliance with the License.\n",
              "// You may obtain a copy of the License at\n",
              "//\n",
              "//      http://www.apache.org/licenses/LICENSE-2.0\n",
              "//\n",
              "// Unless required by applicable law or agreed to in writing, software\n",
              "// distributed under the License is distributed on an \"AS IS\" BASIS,\n",
              "// WITHOUT WARRANTIES OR CONDITIONS OF ANY KIND, either express or implied.\n",
              "// See the License for the specific language governing permissions and\n",
              "// limitations under the License.\n",
              "\n",
              "/**\n",
              " * @fileoverview Helpers for google.colab Python module.\n",
              " */\n",
              "(function(scope) {\n",
              "function span(text, styleAttributes = {}) {\n",
              "  const element = document.createElement('span');\n",
              "  element.textContent = text;\n",
              "  for (const key of Object.keys(styleAttributes)) {\n",
              "    element.style[key] = styleAttributes[key];\n",
              "  }\n",
              "  return element;\n",
              "}\n",
              "\n",
              "// Max number of bytes which will be uploaded at a time.\n",
              "const MAX_PAYLOAD_SIZE = 100 * 1024;\n",
              "\n",
              "function _uploadFiles(inputId, outputId) {\n",
              "  const steps = uploadFilesStep(inputId, outputId);\n",
              "  const outputElement = document.getElementById(outputId);\n",
              "  // Cache steps on the outputElement to make it available for the next call\n",
              "  // to uploadFilesContinue from Python.\n",
              "  outputElement.steps = steps;\n",
              "\n",
              "  return _uploadFilesContinue(outputId);\n",
              "}\n",
              "\n",
              "// This is roughly an async generator (not supported in the browser yet),\n",
              "// where there are multiple asynchronous steps and the Python side is going\n",
              "// to poll for completion of each step.\n",
              "// This uses a Promise to block the python side on completion of each step,\n",
              "// then passes the result of the previous step as the input to the next step.\n",
              "function _uploadFilesContinue(outputId) {\n",
              "  const outputElement = document.getElementById(outputId);\n",
              "  const steps = outputElement.steps;\n",
              "\n",
              "  const next = steps.next(outputElement.lastPromiseValue);\n",
              "  return Promise.resolve(next.value.promise).then((value) => {\n",
              "    // Cache the last promise value to make it available to the next\n",
              "    // step of the generator.\n",
              "    outputElement.lastPromiseValue = value;\n",
              "    return next.value.response;\n",
              "  });\n",
              "}\n",
              "\n",
              "/**\n",
              " * Generator function which is called between each async step of the upload\n",
              " * process.\n",
              " * @param {string} inputId Element ID of the input file picker element.\n",
              " * @param {string} outputId Element ID of the output display.\n",
              " * @return {!Iterable<!Object>} Iterable of next steps.\n",
              " */\n",
              "function* uploadFilesStep(inputId, outputId) {\n",
              "  const inputElement = document.getElementById(inputId);\n",
              "  inputElement.disabled = false;\n",
              "\n",
              "  const outputElement = document.getElementById(outputId);\n",
              "  outputElement.innerHTML = '';\n",
              "\n",
              "  const pickedPromise = new Promise((resolve) => {\n",
              "    inputElement.addEventListener('change', (e) => {\n",
              "      resolve(e.target.files);\n",
              "    });\n",
              "  });\n",
              "\n",
              "  const cancel = document.createElement('button');\n",
              "  inputElement.parentElement.appendChild(cancel);\n",
              "  cancel.textContent = 'Cancel upload';\n",
              "  const cancelPromise = new Promise((resolve) => {\n",
              "    cancel.onclick = () => {\n",
              "      resolve(null);\n",
              "    };\n",
              "  });\n",
              "\n",
              "  // Wait for the user to pick the files.\n",
              "  const files = yield {\n",
              "    promise: Promise.race([pickedPromise, cancelPromise]),\n",
              "    response: {\n",
              "      action: 'starting',\n",
              "    }\n",
              "  };\n",
              "\n",
              "  cancel.remove();\n",
              "\n",
              "  // Disable the input element since further picks are not allowed.\n",
              "  inputElement.disabled = true;\n",
              "\n",
              "  if (!files) {\n",
              "    return {\n",
              "      response: {\n",
              "        action: 'complete',\n",
              "      }\n",
              "    };\n",
              "  }\n",
              "\n",
              "  for (const file of files) {\n",
              "    const li = document.createElement('li');\n",
              "    li.append(span(file.name, {fontWeight: 'bold'}));\n",
              "    li.append(span(\n",
              "        `(${file.type || 'n/a'}) - ${file.size} bytes, ` +\n",
              "        `last modified: ${\n",
              "            file.lastModifiedDate ? file.lastModifiedDate.toLocaleDateString() :\n",
              "                                    'n/a'} - `));\n",
              "    const percent = span('0% done');\n",
              "    li.appendChild(percent);\n",
              "\n",
              "    outputElement.appendChild(li);\n",
              "\n",
              "    const fileDataPromise = new Promise((resolve) => {\n",
              "      const reader = new FileReader();\n",
              "      reader.onload = (e) => {\n",
              "        resolve(e.target.result);\n",
              "      };\n",
              "      reader.readAsArrayBuffer(file);\n",
              "    });\n",
              "    // Wait for the data to be ready.\n",
              "    let fileData = yield {\n",
              "      promise: fileDataPromise,\n",
              "      response: {\n",
              "        action: 'continue',\n",
              "      }\n",
              "    };\n",
              "\n",
              "    // Use a chunked sending to avoid message size limits. See b/62115660.\n",
              "    let position = 0;\n",
              "    do {\n",
              "      const length = Math.min(fileData.byteLength - position, MAX_PAYLOAD_SIZE);\n",
              "      const chunk = new Uint8Array(fileData, position, length);\n",
              "      position += length;\n",
              "\n",
              "      const base64 = btoa(String.fromCharCode.apply(null, chunk));\n",
              "      yield {\n",
              "        response: {\n",
              "          action: 'append',\n",
              "          file: file.name,\n",
              "          data: base64,\n",
              "        },\n",
              "      };\n",
              "\n",
              "      let percentDone = fileData.byteLength === 0 ?\n",
              "          100 :\n",
              "          Math.round((position / fileData.byteLength) * 100);\n",
              "      percent.textContent = `${percentDone}% done`;\n",
              "\n",
              "    } while (position < fileData.byteLength);\n",
              "  }\n",
              "\n",
              "  // All done.\n",
              "  yield {\n",
              "    response: {\n",
              "      action: 'complete',\n",
              "    }\n",
              "  };\n",
              "}\n",
              "\n",
              "scope.google = scope.google || {};\n",
              "scope.google.colab = scope.google.colab || {};\n",
              "scope.google.colab._files = {\n",
              "  _uploadFiles,\n",
              "  _uploadFilesContinue,\n",
              "};\n",
              "})(self);\n",
              "</script> "
            ]
          },
          "metadata": {}
        },
        {
          "output_type": "stream",
          "name": "stdout",
          "text": [
            "Saving kaggle.json to kaggle.json\n"
          ]
        }
      ]
    },
    {
      "cell_type": "code",
      "source": [
        "!pip install -q kaggle --upgrade\n",
        "!mkdir -p ~/.kaggle\n",
        "!cp kaggle.json ~/.kaggle/\n",
        "!ls ~/.kaggle\n",
        "!chmod 600 /root/.kaggle/kaggle.json"
      ],
      "metadata": {
        "colab": {
          "base_uri": "https://localhost:8080/"
        },
        "id": "AUf0QVv_u_c6",
        "outputId": "9df0d879-3643-4bf8-8827-8d6f552c891b"
      },
      "execution_count": null,
      "outputs": [
        {
          "output_type": "stream",
          "name": "stdout",
          "text": [
            "kaggle.json\n"
          ]
        }
      ]
    },
    {
      "cell_type": "code",
      "source": [
        "!kaggle competitions download -c hse-nlp-bootcamp\n",
        "!unzip hse-nlp-bootcamp.zip"
      ],
      "metadata": {
        "id": "c8_pgi6Ye-YO",
        "colab": {
          "base_uri": "https://localhost:8080/"
        },
        "outputId": "5a78d8b2-7c04-4c33-bf69-8d1c5ba5c3a6"
      },
      "execution_count": null,
      "outputs": [
        {
          "output_type": "stream",
          "name": "stdout",
          "text": [
            "Downloading hse-nlp-bootcamp.zip to /content\n",
            " 82% 49.0M/59.8M [00:00<00:00, 110MB/s]\n",
            "100% 59.8M/59.8M [00:00<00:00, 86.1MB/s]\n",
            "Archive:  hse-nlp-bootcamp.zip\n",
            "  inflating: new_test_ml.csv         \n",
            "  inflating: sample_submission.csv   \n",
            "  inflating: train_ml.csv            \n"
          ]
        }
      ]
    },
    {
      "cell_type": "markdown",
      "source": [
        "# Imports"
      ],
      "metadata": {
        "id": "Gy4WeJMZvFJC"
      }
    },
    {
      "cell_type": "code",
      "source": [
        "import pandas as pd\n",
        "import numpy as np\n",
        "import random\n",
        "import pprint as pp\n",
        "import os\n",
        "\n",
        "\n",
        "# import re\n",
        "# from pymorphy2 import MorphAnalyzer\n",
        "# from functools import lru_cache\n",
        "# from nltk.corpus import stopwords\n",
        "\n",
        "# from multiprocessing import Pool\n",
        "# from tqdm import tqdm\n",
        "\n",
        "import nltk\n",
        "# nltk.download('stopwords')\n",
        "nltk.download('punkt')\n",
        "from nltk.tokenize import word_tokenize\n",
        "\n",
        "from sklearn.feature_extraction.text import TfidfVectorizer\n",
        "from sklearn.linear_model import LogisticRegression\n",
        "from sklearn.model_selection import train_test_split\n",
        "from sklearn.pipeline import Pipeline, FeatureUnion\n",
        "from sklearn.ensemble import RandomForestClassifier\n",
        "from sklearn.preprocessing import FunctionTransformer\n",
        "from sklearn.model_selection import GridSearchCV, StratifiedKFold\n",
        "from sklearn.metrics import classification_report, f1_score\n",
        "from joblib import dump, load"
      ],
      "metadata": {
        "colab": {
          "base_uri": "https://localhost:8080/"
        },
        "id": "kVu8ppjzImBa",
        "outputId": "65ae40be-2d92-41b2-f4cf-244a51f2d05b"
      },
      "execution_count": null,
      "outputs": [
        {
          "output_type": "stream",
          "name": "stderr",
          "text": [
            "[nltk_data] Downloading package punkt to /root/nltk_data...\n",
            "[nltk_data]   Unzipping tokenizers/punkt.zip.\n"
          ]
        }
      ]
    },
    {
      "cell_type": "markdown",
      "source": [
        "# Configuration"
      ],
      "metadata": {
        "id": "sthlIvdsxzXZ"
      }
    },
    {
      "cell_type": "code",
      "source": [
        "class Config:\n",
        "  seed = 12536271\n",
        "  samples_num = 51476\n",
        "  experiment = EXPERIMENT\n",
        "  test_size = 0.1"
      ],
      "metadata": {
        "id": "PFbfLh_OzvW5"
      },
      "execution_count": null,
      "outputs": []
    },
    {
      "cell_type": "markdown",
      "source": [
        "# Main pipeline starts here"
      ],
      "metadata": {
        "id": "g76qhWw4z5uO"
      }
    },
    {
      "cell_type": "code",
      "source": [
        "def set_seed(seed=42):\n",
        "    np.random.seed(seed)\n",
        "    random.seed(seed)\n",
        "    os.environ['PYTHONHASHSEED'] = str(seed)\n",
        "\n",
        "\n",
        "set_seed(Config.seed)"
      ],
      "metadata": {
        "id": "7aKmye4OIw8N"
      },
      "execution_count": null,
      "outputs": []
    },
    {
      "cell_type": "markdown",
      "source": [
        "## Load and process train data"
      ],
      "metadata": {
        "id": "nmVoLp6ix3TC"
      }
    },
    {
      "cell_type": "code",
      "source": [
        "df = pd.read_csv('/content/train_ml.csv')\n",
        "banks_list = list(df.bank.unique())\n",
        "df['bank_id'] = df['bank'].apply(lambda x: banks_list.index(x))\n",
        "df['date'] = pd.to_datetime(df['date'], format='%d.%m.%Y %H:%M')\n",
        "df = df.dropna()\n",
        "df = df.astype({'grades': 'int32'})\n",
        "df.head()"
      ],
      "metadata": {
        "colab": {
          "base_uri": "https://localhost:8080/",
          "height": 206
        },
        "id": "kDfkMyFGI1ln",
        "outputId": "6bddfe3f-db77-475a-fe75-699140556d9d"
      },
      "execution_count": null,
      "outputs": [
        {
          "output_type": "execute_result",
          "data": {
            "text/plain": [
              "             bank                                              feeds  grades  \\\n",
              "0            ubrr  Много лет являюсь клиентом этого банка, но пос...       1   \n",
              "1     fk_otkritie  Г. Ростов-на-Дону, ул. Ленина, 48. Были 10.12....       2   \n",
              "4   promsvyazbank  Имею потребительский кредит, взятый в Связь-ба...       2   \n",
              "7  homecreditbank  Хочу выразить глубокую благодарность всем сотр...       5   \n",
              "8             vtb  6 марта 2019г. В 10:33 при проходе в метро \"Ку...       2   \n",
              "\n",
              "                 date  bank_id  \n",
              "0 2017-02-16 16:10:00        0  \n",
              "1 2016-12-13 01:05:00        1  \n",
              "4 2020-08-04 06:38:00        4  \n",
              "7 2015-04-19 20:11:00        7  \n",
              "8 2019-03-28 18:36:00        3  "
            ],
            "text/html": [
              "\n",
              "  <div id=\"df-ce4fa114-d42a-4ee4-b159-39611d3cd18e\">\n",
              "    <div class=\"colab-df-container\">\n",
              "      <div>\n",
              "<style scoped>\n",
              "    .dataframe tbody tr th:only-of-type {\n",
              "        vertical-align: middle;\n",
              "    }\n",
              "\n",
              "    .dataframe tbody tr th {\n",
              "        vertical-align: top;\n",
              "    }\n",
              "\n",
              "    .dataframe thead th {\n",
              "        text-align: right;\n",
              "    }\n",
              "</style>\n",
              "<table border=\"1\" class=\"dataframe\">\n",
              "  <thead>\n",
              "    <tr style=\"text-align: right;\">\n",
              "      <th></th>\n",
              "      <th>bank</th>\n",
              "      <th>feeds</th>\n",
              "      <th>grades</th>\n",
              "      <th>date</th>\n",
              "      <th>bank_id</th>\n",
              "    </tr>\n",
              "  </thead>\n",
              "  <tbody>\n",
              "    <tr>\n",
              "      <th>0</th>\n",
              "      <td>ubrr</td>\n",
              "      <td>Много лет являюсь клиентом этого банка, но пос...</td>\n",
              "      <td>1</td>\n",
              "      <td>2017-02-16 16:10:00</td>\n",
              "      <td>0</td>\n",
              "    </tr>\n",
              "    <tr>\n",
              "      <th>1</th>\n",
              "      <td>fk_otkritie</td>\n",
              "      <td>Г. Ростов-на-Дону, ул. Ленина, 48. Были 10.12....</td>\n",
              "      <td>2</td>\n",
              "      <td>2016-12-13 01:05:00</td>\n",
              "      <td>1</td>\n",
              "    </tr>\n",
              "    <tr>\n",
              "      <th>4</th>\n",
              "      <td>promsvyazbank</td>\n",
              "      <td>Имею потребительский кредит, взятый в Связь-ба...</td>\n",
              "      <td>2</td>\n",
              "      <td>2020-08-04 06:38:00</td>\n",
              "      <td>4</td>\n",
              "    </tr>\n",
              "    <tr>\n",
              "      <th>7</th>\n",
              "      <td>homecreditbank</td>\n",
              "      <td>Хочу выразить глубокую благодарность всем сотр...</td>\n",
              "      <td>5</td>\n",
              "      <td>2015-04-19 20:11:00</td>\n",
              "      <td>7</td>\n",
              "    </tr>\n",
              "    <tr>\n",
              "      <th>8</th>\n",
              "      <td>vtb</td>\n",
              "      <td>6 марта 2019г. В 10:33 при проходе в метро \"Ку...</td>\n",
              "      <td>2</td>\n",
              "      <td>2019-03-28 18:36:00</td>\n",
              "      <td>3</td>\n",
              "    </tr>\n",
              "  </tbody>\n",
              "</table>\n",
              "</div>\n",
              "      <button class=\"colab-df-convert\" onclick=\"convertToInteractive('df-ce4fa114-d42a-4ee4-b159-39611d3cd18e')\"\n",
              "              title=\"Convert this dataframe to an interactive table.\"\n",
              "              style=\"display:none;\">\n",
              "        \n",
              "  <svg xmlns=\"http://www.w3.org/2000/svg\" height=\"24px\"viewBox=\"0 0 24 24\"\n",
              "       width=\"24px\">\n",
              "    <path d=\"M0 0h24v24H0V0z\" fill=\"none\"/>\n",
              "    <path d=\"M18.56 5.44l.94 2.06.94-2.06 2.06-.94-2.06-.94-.94-2.06-.94 2.06-2.06.94zm-11 1L8.5 8.5l.94-2.06 2.06-.94-2.06-.94L8.5 2.5l-.94 2.06-2.06.94zm10 10l.94 2.06.94-2.06 2.06-.94-2.06-.94-.94-2.06-.94 2.06-2.06.94z\"/><path d=\"M17.41 7.96l-1.37-1.37c-.4-.4-.92-.59-1.43-.59-.52 0-1.04.2-1.43.59L10.3 9.45l-7.72 7.72c-.78.78-.78 2.05 0 2.83L4 21.41c.39.39.9.59 1.41.59.51 0 1.02-.2 1.41-.59l7.78-7.78 2.81-2.81c.8-.78.8-2.07 0-2.86zM5.41 20L4 18.59l7.72-7.72 1.47 1.35L5.41 20z\"/>\n",
              "  </svg>\n",
              "      </button>\n",
              "      \n",
              "  <style>\n",
              "    .colab-df-container {\n",
              "      display:flex;\n",
              "      flex-wrap:wrap;\n",
              "      gap: 12px;\n",
              "    }\n",
              "\n",
              "    .colab-df-convert {\n",
              "      background-color: #E8F0FE;\n",
              "      border: none;\n",
              "      border-radius: 50%;\n",
              "      cursor: pointer;\n",
              "      display: none;\n",
              "      fill: #1967D2;\n",
              "      height: 32px;\n",
              "      padding: 0 0 0 0;\n",
              "      width: 32px;\n",
              "    }\n",
              "\n",
              "    .colab-df-convert:hover {\n",
              "      background-color: #E2EBFA;\n",
              "      box-shadow: 0px 1px 2px rgba(60, 64, 67, 0.3), 0px 1px 3px 1px rgba(60, 64, 67, 0.15);\n",
              "      fill: #174EA6;\n",
              "    }\n",
              "\n",
              "    [theme=dark] .colab-df-convert {\n",
              "      background-color: #3B4455;\n",
              "      fill: #D2E3FC;\n",
              "    }\n",
              "\n",
              "    [theme=dark] .colab-df-convert:hover {\n",
              "      background-color: #434B5C;\n",
              "      box-shadow: 0px 1px 3px 1px rgba(0, 0, 0, 0.15);\n",
              "      filter: drop-shadow(0px 1px 2px rgba(0, 0, 0, 0.3));\n",
              "      fill: #FFFFFF;\n",
              "    }\n",
              "  </style>\n",
              "\n",
              "      <script>\n",
              "        const buttonEl =\n",
              "          document.querySelector('#df-ce4fa114-d42a-4ee4-b159-39611d3cd18e button.colab-df-convert');\n",
              "        buttonEl.style.display =\n",
              "          google.colab.kernel.accessAllowed ? 'block' : 'none';\n",
              "\n",
              "        async function convertToInteractive(key) {\n",
              "          const element = document.querySelector('#df-ce4fa114-d42a-4ee4-b159-39611d3cd18e');\n",
              "          const dataTable =\n",
              "            await google.colab.kernel.invokeFunction('convertToInteractive',\n",
              "                                                     [key], {});\n",
              "          if (!dataTable) return;\n",
              "\n",
              "          const docLinkHtml = 'Like what you see? Visit the ' +\n",
              "            '<a target=\"_blank\" href=https://colab.research.google.com/notebooks/data_table.ipynb>data table notebook</a>'\n",
              "            + ' to learn more about interactive tables.';\n",
              "          element.innerHTML = '';\n",
              "          dataTable['output_type'] = 'display_data';\n",
              "          await google.colab.output.renderOutput(dataTable, element);\n",
              "          const docLink = document.createElement('div');\n",
              "          docLink.innerHTML = docLinkHtml;\n",
              "          element.appendChild(docLink);\n",
              "        }\n",
              "      </script>\n",
              "    </div>\n",
              "  </div>\n",
              "  "
            ]
          },
          "metadata": {},
          "execution_count": 10
        }
      ]
    },
    {
      "cell_type": "code",
      "source": [
        "df_len=len(df)\n",
        "df_len"
      ],
      "metadata": {
        "colab": {
          "base_uri": "https://localhost:8080/"
        },
        "id": "UW7I6KjBTrvy",
        "outputId": "395c75fb-da3d-4280-ba23-07daa7a2c109"
      },
      "execution_count": null,
      "outputs": [
        {
          "output_type": "execute_result",
          "data": {
            "text/plain": [
              "51476"
            ]
          },
          "metadata": {},
          "execution_count": 11
        }
      ]
    },
    {
      "cell_type": "code",
      "source": [
        "df.reset_index(drop=True, inplace=True)"
      ],
      "metadata": {
        "id": "9hX5RHHnWC-q"
      },
      "execution_count": null,
      "outputs": []
    },
    {
      "cell_type": "code",
      "source": [
        "def get_numeric_data(x):\n",
        "    return x[['bank_id']]\n",
        "\n",
        "def get_text_data(x):\n",
        "    return x['text']"
      ],
      "metadata": {
        "id": "owCfNVnzPROm"
      },
      "execution_count": null,
      "outputs": []
    },
    {
      "cell_type": "code",
      "source": [
        "model = load( OUTPUT_DIR+'logreg_5f/model_logreg_5f_[fold_1]_[sn_51476]_[sd_12536271]_[cv_0.7883].joblib')"
      ],
      "metadata": {
        "id": "eGM4f1IOOXWd"
      },
      "execution_count": null,
      "outputs": []
    },
    {
      "cell_type": "code",
      "source": [
        "df['text'] = df.feeds.apply(lambda x: x.lower())"
      ],
      "metadata": {
        "id": "dwDiVd2ZPdzf"
      },
      "execution_count": null,
      "outputs": []
    },
    {
      "cell_type": "code",
      "source": [
        "proba = model.predict_proba(df[['bank_id', 'text']])"
      ],
      "metadata": {
        "id": "gXPFByzoPoK0"
      },
      "execution_count": null,
      "outputs": []
    },
    {
      "cell_type": "code",
      "source": [
        "preds = np.argmax(proba, axis=1) + 1"
      ],
      "metadata": {
        "id": "A0Xq36imQxom"
      },
      "execution_count": null,
      "outputs": []
    },
    {
      "cell_type": "code",
      "source": [
        "gt = df['grades']"
      ],
      "metadata": {
        "id": "LGZphMm3VhGL"
      },
      "execution_count": null,
      "outputs": []
    },
    {
      "cell_type": "code",
      "source": [
        "gt"
      ],
      "metadata": {
        "colab": {
          "base_uri": "https://localhost:8080/"
        },
        "id": "_EoBDamWWWmN",
        "outputId": "d71332e7-7fc8-43f6-af71-c4dc6b96fcc2"
      },
      "execution_count": null,
      "outputs": [
        {
          "output_type": "execute_result",
          "data": {
            "text/plain": [
              "0        1\n",
              "1        2\n",
              "2        2\n",
              "3        5\n",
              "4        2\n",
              "        ..\n",
              "51471    1\n",
              "51472    2\n",
              "51473    1\n",
              "51474    3\n",
              "51475    1\n",
              "Name: grades, Length: 51476, dtype: int32"
            ]
          },
          "metadata": {},
          "execution_count": 34
        }
      ]
    },
    {
      "cell_type": "code",
      "source": [
        "f1_score(gt, preds, average='micro')"
      ],
      "metadata": {
        "colab": {
          "base_uri": "https://localhost:8080/"
        },
        "id": "VDMPifjVQ2sh",
        "outputId": "d896e1be-e92e-450e-c5c3-f97e57458536"
      },
      "execution_count": null,
      "outputs": [
        {
          "output_type": "execute_result",
          "data": {
            "text/plain": [
              "0.8161279042660657"
            ]
          },
          "metadata": {},
          "execution_count": 35
        }
      ]
    },
    {
      "cell_type": "code",
      "source": [
        "errors_idx = np.where(preds!= gt)"
      ],
      "metadata": {
        "id": "A4HwWJN_VdH6"
      },
      "execution_count": null,
      "outputs": []
    },
    {
      "cell_type": "code",
      "source": [
        "df['preds'] = preds"
      ],
      "metadata": {
        "id": "FfFTTdyYWfMY"
      },
      "execution_count": null,
      "outputs": []
    },
    {
      "cell_type": "code",
      "source": [
        "df[['c1', 'c2', 'c3', 'c4', 'c5']] = proba"
      ],
      "metadata": {
        "id": "YTz-0mX_Wq7Q"
      },
      "execution_count": null,
      "outputs": []
    },
    {
      "cell_type": "code",
      "source": [
        "df[['feeds','grades','preds','c1', 'c2', 'c3', 'c4', 'c5']]"
      ],
      "metadata": {
        "id": "tGiiwzezXgel"
      },
      "execution_count": null,
      "outputs": []
    },
    {
      "cell_type": "code",
      "source": [
        "pd.set_option('display.max_colwidth', None)"
      ],
      "metadata": {
        "id": "-7g4IqE5X1y4"
      },
      "execution_count": null,
      "outputs": []
    },
    {
      "cell_type": "code",
      "source": [
        "df_errors = df[['feeds','grades','preds','c1', 'c2', 'c3', 'c4', 'c5']].iloc[errors_idx]"
      ],
      "metadata": {
        "id": "Wof74XD_W__H"
      },
      "execution_count": null,
      "outputs": []
    },
    {
      "cell_type": "code",
      "source": [
        "str_query_12_54 = '((grades==1 | grades==2) & (preds==5 | preds==4)) | ((grades==5 | grades==4) & (preds==1 | preds==2))'\n",
        "str_query_1_5 = '((grades==1) & (preds==5) | ((grades==5) & (preds==1)))'\n",
        "str_query_1_2 = '((grades==1) & (preds==2) | ((grades==2) & (preds==1)))'"
      ],
      "metadata": {
        "id": "tORKXCBha6WD"
      },
      "execution_count": null,
      "outputs": []
    },
    {
      "cell_type": "code",
      "source": [
        "df_errors.query(str_query_1_2)"
      ],
      "metadata": {
        "colab": {
          "base_uri": "https://localhost:8080/",
          "height": 1000
        },
        "id": "Swqmbt0wX-rP",
        "outputId": "1af29bde-969a-4baa-a54b-b7068b8eeeb3"
      },
      "execution_count": null,
      "outputs": [
        {
          "output_type": "execute_result",
          "data": {
            "text/plain": [
              "                                                                                                                                                                                                                                                                                                                                                                                                                                                                                                                                                                                                                                                                                                                                                                                                                                                                                                                                                                                                                                                                                                                                                                                                                                                                                                                                                                                                                                                                                                                                                                                                                                                                                feeds  \\\n",
              "1                                                                                                                                                                                                                                                                                                                                                                                                                                                                                                                                                                                                                                            Г. Ростов-на-Дону, ул. Ленина, 48. Были 10.12.2016 г. с 13 часов до 15. В данном офисе не оказалось ни одного компетентного сотрудника по нашему вопросу. 1,5 часа ожидания - и итог - мы ничем не можем вам помочь, обратитесь в другое отделение. Не могли внести денежные средства по кредиту АО Рост Банк (который так понимаю входит теперь в состав Бинбанка), запутались в реквизитах, спорили сотрудники между собой о схемах внесения - не смогли прийти к общему знаменателю. Позвонили на горячую линию дабы оставить заявку на работу данного офиса, сначала ответил вежливый сотрудник, принёс свои извинения и переключил на сотрудника по обработке претензий,  который пояснил, что если я не являюсь клиентам банка, то и возможности составить заявку у меня нет. Выходит если у вас нет вклада или кредита в данном банке, то клиентом вы не являетесь и оставить негативный отзыв или составить заявку не сможете. Отправила смс-отзыв на номер указанный на буклетах на информационной стойке - +7 (916) 00*-**-95.   \n",
              "2      Имею потребительский кредит, взятый в Связь-банке и перешедший к Промсвязьбанку. В мае 2020 года внес дополнительно сумму для частичного досрочного погашения с условием уменьшения срока платежа. Сумма пробная, всего 3000, чтобы понять алгоритм. В итоге: кредит с ежемесячным платежом 14000 до 31 января 2023 года. Последний платеж по старому графику 31.01.2023 в сумме 12188 руб, после внесения дополнительных средств - последний платеж в тот же месяц 31.01.2023 в сумме 21500. Т.е. увеличился в 2 раза. При этом платежа в декабре 2022 года нет. Обратился в ДО Октябрьское поле за поЯснением. Сотрудники объяснили, что т.к. внесённые 3000 рублей срок уменьшить не могут, то банк просто объединил 2 последних платежа. Почему пропущен декабрь 2022 года пояснить не смогли. Сразу поясню, досрочно нашу ипотеку в другом банке. Любая дополнительно временная сумма учитывается, если она меньше месячного платежа - уменьшается сумма последнего платежа.Самое главное: предложили написать запрос. Написал. 17.06.20 написал заявление. Заверено менеджером по работе с клиентом. Оригинал на руках. По прошествии месяца обратился опять, пояснить методику расчета при досрочном частичном погашении мне не смогли. На вопрос : \"Где ответ?\" Получил ответ, что я должен был по горячей линии отслеживать его. Сделали повторную копию. Наверное, отправили повторно.Вопрос:1. Правила работы с обращениями к банку согласно закона для ПСБ регламентированы какими документами? 2. Прошу пояснить, почему в отношении меня принят такой график платежей.3. Куда мне писать, чтобы получить внятное объяснение по графику платежей и расчета суммы?   \n",
              "4                                                                                                                                                                                                                                                                                                                                                                                                                                                             6 марта 2019г. В 10:33 при проходе в метро \"Курская\" по социальной карте (бесплатный проезд), у меня с карты были сняты деньги за проезд в метро. примерно через час я обратился в офис банка,где написал жалобу (претензию) на необоснованное списание средств с карты и попросил вернуть деньги. Претензию у меня приняли и сказали,что до 28 марта мне сообщат о решении. Ответа я так и не дождался и 28 марта позвонил в банк сам. Ответ ошеломил и потряс меня. Оказалось,что я сам виноват в том,что у меня списали деньги за проезд.Нужно проходить льготникам в определенные турникеты. Хотя на станциях Московского метрополитена это не указано,в частности на станции метро \"Курская\" и я всегда проходил до этого без проблем. И откуда то у меня оказалась подключена услуга по бесконтактной оплате проезда. Деньги мне вернуть отказались. Сразу скажу претензий к сотрудникам офиса на Земляном Валу,27 у меня нет.В отношении меня они вели себя очень корректно.А вот сам банк ВТБ поступил в отношении меня бесчеловечно. Теперь боюсь пользоваться услугами этого банка по своей социальной карте,на следующий раз кто -нибудь другой спишет еще деньги с моей карты и снова клиент будет виноват.   \n",
              "6                                                                                                                                                                                                                                                                                                                                                                                                                                                                                                                                                                                                                                                                                                                                                                                                                                                                                                                                                                                                                      04.03.2021 г в офисе совкомбанка снимала собственные средства в размере 30 тыс.руб. , банкомат невыдал наличные, а с карты деньги списались. Тут же была составлена заявка девушкой-оператором и я позвонила на горячую линию.Обещали разобраться в течении часа.... потом, в течении 10 дней....  Уже прошло 20 дней, денег нет!Все это время я звонила на горячую линию и пыталась узнать сроки возврата денежных средств,  ответ в виде \" надо ещё немного подождать\", мне не кажется профессиональным. Смогла узнать только то, что ревизию банкомата уже провели. Очень разочарована. Деньги нужны были срочно, поставлена в трудную финансовую ситуацию.   \n",
              "13                                                                                                                                                                                                                                                                                                                                                                                                                                                                                                                        Здравствуйте. Имел обязательство по ипотечному кредиту. Полное погашение по кредиту было осуществлено 30.01.2012 с переплатой. Два раза писал заявление на возврат излишне уплаченных средств в счет погашения задолженности. Первый раз в феврале 2012 г. Тишина. Пришел, второй раз написал, даже дали номер 005454-2012-045255 от 30.08.2012. Опять тишина.Обращался еще раз (номер обращения 000912-2012-068875). Получил ответ и, следуя рекомендациям, в октябре снова обратился в подразделение Сбербанка, где брал и погашал кредит. После 40-а минутного ожидания мне «пропели» про переезд бухгалтерии и что «мы обязательно вам позвоним в течении дня» и расскажем, где ваши деньги. И опять тишина. Скоро уже годовщина… Я понимаю, что сумма переплаты небольшая, и сотрудникам банка глубоко фиолетово на клиента после погашения кредита. Но вот интересно, если бы я должен был эти деньги банку, мне бы простили задолженность?Администратор:  В каком отделении Вы писали заявления?ipsat11:  Поволжский банк Сбербанка России, ОАО, Волгоградское отделение № 8621. Коммунистическая, 40. Обращение № 005454-2012-045255 от 30.08.2012.   \n",
              "...                                                                                                                                                                                                                                                                                                                                                                                                                                                                                                                                                                                                                                                                                                                                                                                                                                                                                                                                                                                                                                                                                                                                                                                                                                                                                                                                                                                                                                                                                                                                                                                                                                                                               ...   \n",
              "51398                                                                                                                                                                                                                                                                                                                                                                                                                                                                                                                                                                                                                                                                                                                                                                                                                                                                                                                           Получил смс предложение от банка с одобренной суммой кредита 2.8 млн по ставке 11.1 % на 60 месяцев. В личном кабинете поставил одобрение на запрос в бюро кредитных историй, после этого пришло одобрение на 2.5 млн 11.1% на 60 месяцев. По телефону больше никакой информации не дают, необходимо посещать отделение банка. При посещении сказали надо отправить заявку еще раз, сумму выбрал 1.55 млн на 60 месяцев 11.1%. Вроде должно быть одобрение, ведь до этого одобрили куда большую сумму, но в результате пришел ответ, что одобрили 1.36 млн под 11.7% и на срок 80 месяцев. Получается что заманивают выгодным предложением, тратишь время на поездку в офис, а в итоге оказывается все совсем по другому. И не выгоднее чем у других.   \n",
              "51402                                                                                                                                                                                                                                                                                                                                                                                                                                                                                                                                                                                                                                                                                                                                                                                                                          Наша фирма, ООО \"***** *******\", с 2014 г. является клиентом Промсвязьбанка. В конце сентября и в конце ноября банк списал в 2 приема весь остаток денег на счете как комиссию за обслуживание счета, всего около 6 тыс. руб. С некоторых пор такой тариф месячного обслуживания действует,  если у вас по счету не было операций более 6 месяцев (3000 в месяц вместо обычных 210 руб). Видимо, если операций не было, затраты банка на ведение счета увеличиваются больше, чем в 10 раз, надо компенсировать. Или это намек, что пора бы закрыть счет. Естественно, все это делалось без каких-то предупреждений. На мейл приходят письма только с предложением рекомендовать Промсвязьбанк своим партнерам и контрагентам.Все духе партнерства с клиентом, естественно.Написали заявление с просьбой вернуть деньги на счет, посмотрим, что выйдет.   \n",
              "51439                                                                                                                                                                                                Я являюсь клиентом банка Тинькофф уже более полугода. Вроде все устраивало, но видимо в этот раз проблема не решаема. Сегодня 9.11.2015 ну очень долгий разговор состоялся по тел с сотрудниками банка и проблема не решилась (сначала с девушкой, потом перезвонил сотрудник Артем)! Проблема в том, что в ИБ все операции за последние 2 дня отображаются не в соответствии с действительностью. Сначала списания средств от 07.11 потом пополнение, а фактически наоборот, ну и все операции покупок за 8.11 прошли после зачислений и списаний от банка Тинькофф, а по факту было наоборот. Вот так карта дебетовая взяла и в минус ушла на 25 р. А самый смех пришла смс выписка, ну полный бред, пополнение засчитали за 7.11, все их начисления и платы произведены, а покупок за два дня (около 6-7 операций) как и не было (типа они пойдут в новый период). Ну тогда и зачисления на 3000 от 7.11 тоже должны в новый период учитываться. Вообщем недовольства масса, надеюсь, что хоть на Банки ру проблема сотрудниками банка решится и все их платы и начисления пройдут от моего фактического остатка на 08.11 30.99р. Сотрудник банка, когда привозил мне карту рассказывал, что в минус она не уходит и спишется сумма за пользование только та, сколько есть средств на счету, а по факту я теперь должна банку, т.к. были выходные. Надеюсь на решение проблемы со стороны банка или просто закрою договор,т.к. смысл пополнять и оплачивать с карты теряется.   \n",
              "51454                                                                                                                                                                                                                                                                                                                                                                                                                                                                                                                                                                                                                                                                                                                                                                                                Получил дебетовую карту Росбанка - сверхкарта+. Решил пополнить для проверки со своей карты другого банка через онлайн банк. Перевел деньги, деньги ушли и тишина, на счет в Росбанке ничего не упало. Позвонил на ГЛ, сказали, что зачисляться может аж до 4-х!! дней)) Если честно немного в шоке, я думал, что в каменном веке только другой банк у нас живет) оказывается нет.. Есть еще 4 карты разных банков, везде переводы приходят мгновенно.В общем, совсем неудобно, особенно учитывая совсем не дешевое обслуживание 500р в месяц. Для оперативного перевода средств эта карта совсем не подходит, пойду закрывать счет...PS В СТП сумму видят, но она там \"в обработке\" якобы.... почему же так кредит нельзя платить? Звонят из банка: когда платеж внесете? У вас просрочка пошла! А ты им говоришь: все нормально, деньги есть, только они у меня в обработке)))   \n",
              "51472                                                                                                                                                                                                                                                                                                                                                                                                                                                                                                                                                                                                                                 Являлся клиентом Бинбанка, пока после слияния не перевели в банк Открытие. Заблокировали карту после попытки сделать перевод. 3 раза звонил в Call центр с просьбой разблокировать, дважды обещали разблокировать в течение 3х часов, на 3ий раз отправили в отделение банка. В отделении оформил запрос на разблокирование (сроки разблокирования сообщить не смогли). Через полчаса позвонил сотрудник службы безопасности который уточнил детали и обещал разблокировать в течение часа, однако через 2 часа опять позвонили из банка и сказали, что для разблокирования нужно обратиться в отделение банка составлять новое обращение привела. Поехал опять в банк. С момента блокирования карты прошло 20 часов. До сих пор снять деньги с карты не могу. В отделении банка хотел снять деньги через кассу, т.к. счёт не заблокирован, но комиссия за снятие 10%!На сайте банка жалобу оставить не смог - несколько раз выпадало сообщение - \"отправить не удалось, повторите попытку позже\". Ни кому не рекомендую. Буду закрывать счета.   \n",
              "\n",
              "       grades  preds        c1        c2        c3        c4        c5  \n",
              "1           2      1  0.715416  0.245029  0.012618  0.012566  0.014371  \n",
              "2           2      1  0.634805  0.321222  0.031603  0.006510  0.005859  \n",
              "4           2      1  0.527840  0.234863  0.027015  0.048294  0.161988  \n",
              "6           2      1  0.727746  0.087480  0.042442  0.060236  0.082096  \n",
              "13          2      1  0.626237  0.261561  0.080886  0.017014  0.014303  \n",
              "...       ...    ...       ...       ...       ...       ...       ...  \n",
              "51398       2      1  0.642802  0.280889  0.036505  0.014912  0.024892  \n",
              "51402       2      1  0.748129  0.083924  0.065886  0.031445  0.070615  \n",
              "51439       2      1  0.384673  0.308731  0.101972  0.091680  0.112943  \n",
              "51454       2      1  0.677492  0.192672  0.067741  0.019530  0.042565  \n",
              "51472       2      1  0.870897  0.117335  0.006683  0.003352  0.001733  \n",
              "\n",
              "[4945 rows x 8 columns]"
            ],
            "text/html": [
              "\n",
              "  <div id=\"df-f3650294-ecf4-477d-855a-6192248ef938\">\n",
              "    <div class=\"colab-df-container\">\n",
              "      <div>\n",
              "<style scoped>\n",
              "    .dataframe tbody tr th:only-of-type {\n",
              "        vertical-align: middle;\n",
              "    }\n",
              "\n",
              "    .dataframe tbody tr th {\n",
              "        vertical-align: top;\n",
              "    }\n",
              "\n",
              "    .dataframe thead th {\n",
              "        text-align: right;\n",
              "    }\n",
              "</style>\n",
              "<table border=\"1\" class=\"dataframe\">\n",
              "  <thead>\n",
              "    <tr style=\"text-align: right;\">\n",
              "      <th></th>\n",
              "      <th>feeds</th>\n",
              "      <th>grades</th>\n",
              "      <th>preds</th>\n",
              "      <th>c1</th>\n",
              "      <th>c2</th>\n",
              "      <th>c3</th>\n",
              "      <th>c4</th>\n",
              "      <th>c5</th>\n",
              "    </tr>\n",
              "  </thead>\n",
              "  <tbody>\n",
              "    <tr>\n",
              "      <th>1</th>\n",
              "      <td>Г. Ростов-на-Дону, ул. Ленина, 48. Были 10.12.2016 г. с 13 часов до 15. В данном офисе не оказалось ни одного компетентного сотрудника по нашему вопросу. 1,5 часа ожидания - и итог - мы ничем не можем вам помочь, обратитесь в другое отделение. Не могли внести денежные средства по кредиту АО Рост Банк (который так понимаю входит теперь в состав Бинбанка), запутались в реквизитах, спорили сотрудники между собой о схемах внесения - не смогли прийти к общему знаменателю. Позвонили на горячую линию дабы оставить заявку на работу данного офиса, сначала ответил вежливый сотрудник, принёс свои извинения и переключил на сотрудника по обработке претензий,  который пояснил, что если я не являюсь клиентам банка, то и возможности составить заявку у меня нет. Выходит если у вас нет вклада или кредита в данном банке, то клиентом вы не являетесь и оставить негативный отзыв или составить заявку не сможете. Отправила смс-отзыв на номер указанный на буклетах на информационной стойке - +7 (916) 00*-**-95.</td>\n",
              "      <td>2</td>\n",
              "      <td>1</td>\n",
              "      <td>0.715416</td>\n",
              "      <td>0.245029</td>\n",
              "      <td>0.012618</td>\n",
              "      <td>0.012566</td>\n",
              "      <td>0.014371</td>\n",
              "    </tr>\n",
              "    <tr>\n",
              "      <th>2</th>\n",
              "      <td>Имею потребительский кредит, взятый в Связь-банке и перешедший к Промсвязьбанку. В мае 2020 года внес дополнительно сумму для частичного досрочного погашения с условием уменьшения срока платежа. Сумма пробная, всего 3000, чтобы понять алгоритм. В итоге: кредит с ежемесячным платежом 14000 до 31 января 2023 года. Последний платеж по старому графику 31.01.2023 в сумме 12188 руб, после внесения дополнительных средств - последний платеж в тот же месяц 31.01.2023 в сумме 21500. Т.е. увеличился в 2 раза. При этом платежа в декабре 2022 года нет. Обратился в ДО Октябрьское поле за поЯснением. Сотрудники объяснили, что т.к. внесённые 3000 рублей срок уменьшить не могут, то банк просто объединил 2 последних платежа. Почему пропущен декабрь 2022 года пояснить не смогли. Сразу поясню, досрочно нашу ипотеку в другом банке. Любая дополнительно временная сумма учитывается, если она меньше месячного платежа - уменьшается сумма последнего платежа.Самое главное: предложили написать запрос. Написал. 17.06.20 написал заявление. Заверено менеджером по работе с клиентом. Оригинал на руках. По прошествии месяца обратился опять, пояснить методику расчета при досрочном частичном погашении мне не смогли. На вопрос : \"Где ответ?\" Получил ответ, что я должен был по горячей линии отслеживать его. Сделали повторную копию. Наверное, отправили повторно.Вопрос:1. Правила работы с обращениями к банку согласно закона для ПСБ регламентированы какими документами? 2. Прошу пояснить, почему в отношении меня принят такой график платежей.3. Куда мне писать, чтобы получить внятное объяснение по графику платежей и расчета суммы?</td>\n",
              "      <td>2</td>\n",
              "      <td>1</td>\n",
              "      <td>0.634805</td>\n",
              "      <td>0.321222</td>\n",
              "      <td>0.031603</td>\n",
              "      <td>0.006510</td>\n",
              "      <td>0.005859</td>\n",
              "    </tr>\n",
              "    <tr>\n",
              "      <th>4</th>\n",
              "      <td>6 марта 2019г. В 10:33 при проходе в метро \"Курская\" по социальной карте (бесплатный проезд), у меня с карты были сняты деньги за проезд в метро. примерно через час я обратился в офис банка,где написал жалобу (претензию) на необоснованное списание средств с карты и попросил вернуть деньги. Претензию у меня приняли и сказали,что до 28 марта мне сообщат о решении. Ответа я так и не дождался и 28 марта позвонил в банк сам. Ответ ошеломил и потряс меня. Оказалось,что я сам виноват в том,что у меня списали деньги за проезд.Нужно проходить льготникам в определенные турникеты. Хотя на станциях Московского метрополитена это не указано,в частности на станции метро \"Курская\" и я всегда проходил до этого без проблем. И откуда то у меня оказалась подключена услуга по бесконтактной оплате проезда. Деньги мне вернуть отказались. Сразу скажу претензий к сотрудникам офиса на Земляном Валу,27 у меня нет.В отношении меня они вели себя очень корректно.А вот сам банк ВТБ поступил в отношении меня бесчеловечно. Теперь боюсь пользоваться услугами этого банка по своей социальной карте,на следующий раз кто -нибудь другой спишет еще деньги с моей карты и снова клиент будет виноват.</td>\n",
              "      <td>2</td>\n",
              "      <td>1</td>\n",
              "      <td>0.527840</td>\n",
              "      <td>0.234863</td>\n",
              "      <td>0.027015</td>\n",
              "      <td>0.048294</td>\n",
              "      <td>0.161988</td>\n",
              "    </tr>\n",
              "    <tr>\n",
              "      <th>6</th>\n",
              "      <td>04.03.2021 г в офисе совкомбанка снимала собственные средства в размере 30 тыс.руб. , банкомат невыдал наличные, а с карты деньги списались. Тут же была составлена заявка девушкой-оператором и я позвонила на горячую линию.Обещали разобраться в течении часа.... потом, в течении 10 дней....  Уже прошло 20 дней, денег нет!Все это время я звонила на горячую линию и пыталась узнать сроки возврата денежных средств,  ответ в виде \" надо ещё немного подождать\", мне не кажется профессиональным. Смогла узнать только то, что ревизию банкомата уже провели. Очень разочарована. Деньги нужны были срочно, поставлена в трудную финансовую ситуацию.</td>\n",
              "      <td>2</td>\n",
              "      <td>1</td>\n",
              "      <td>0.727746</td>\n",
              "      <td>0.087480</td>\n",
              "      <td>0.042442</td>\n",
              "      <td>0.060236</td>\n",
              "      <td>0.082096</td>\n",
              "    </tr>\n",
              "    <tr>\n",
              "      <th>13</th>\n",
              "      <td>Здравствуйте. Имел обязательство по ипотечному кредиту. Полное погашение по кредиту было осуществлено 30.01.2012 с переплатой. Два раза писал заявление на возврат излишне уплаченных средств в счет погашения задолженности. Первый раз в феврале 2012 г. Тишина. Пришел, второй раз написал, даже дали номер 005454-2012-045255 от 30.08.2012. Опять тишина.Обращался еще раз (номер обращения 000912-2012-068875). Получил ответ и, следуя рекомендациям, в октябре снова обратился в подразделение Сбербанка, где брал и погашал кредит. После 40-а минутного ожидания мне «пропели» про переезд бухгалтерии и что «мы обязательно вам позвоним в течении дня» и расскажем, где ваши деньги. И опять тишина. Скоро уже годовщина… Я понимаю, что сумма переплаты небольшая, и сотрудникам банка глубоко фиолетово на клиента после погашения кредита. Но вот интересно, если бы я должен был эти деньги банку, мне бы простили задолженность?Администратор:  В каком отделении Вы писали заявления?ipsat11:  Поволжский банк Сбербанка России, ОАО, Волгоградское отделение № 8621. Коммунистическая, 40. Обращение № 005454-2012-045255 от 30.08.2012.</td>\n",
              "      <td>2</td>\n",
              "      <td>1</td>\n",
              "      <td>0.626237</td>\n",
              "      <td>0.261561</td>\n",
              "      <td>0.080886</td>\n",
              "      <td>0.017014</td>\n",
              "      <td>0.014303</td>\n",
              "    </tr>\n",
              "    <tr>\n",
              "      <th>...</th>\n",
              "      <td>...</td>\n",
              "      <td>...</td>\n",
              "      <td>...</td>\n",
              "      <td>...</td>\n",
              "      <td>...</td>\n",
              "      <td>...</td>\n",
              "      <td>...</td>\n",
              "      <td>...</td>\n",
              "    </tr>\n",
              "    <tr>\n",
              "      <th>51398</th>\n",
              "      <td>Получил смс предложение от банка с одобренной суммой кредита 2.8 млн по ставке 11.1 % на 60 месяцев. В личном кабинете поставил одобрение на запрос в бюро кредитных историй, после этого пришло одобрение на 2.5 млн 11.1% на 60 месяцев. По телефону больше никакой информации не дают, необходимо посещать отделение банка. При посещении сказали надо отправить заявку еще раз, сумму выбрал 1.55 млн на 60 месяцев 11.1%. Вроде должно быть одобрение, ведь до этого одобрили куда большую сумму, но в результате пришел ответ, что одобрили 1.36 млн под 11.7% и на срок 80 месяцев. Получается что заманивают выгодным предложением, тратишь время на поездку в офис, а в итоге оказывается все совсем по другому. И не выгоднее чем у других.</td>\n",
              "      <td>2</td>\n",
              "      <td>1</td>\n",
              "      <td>0.642802</td>\n",
              "      <td>0.280889</td>\n",
              "      <td>0.036505</td>\n",
              "      <td>0.014912</td>\n",
              "      <td>0.024892</td>\n",
              "    </tr>\n",
              "    <tr>\n",
              "      <th>51402</th>\n",
              "      <td>Наша фирма, ООО \"***** *******\", с 2014 г. является клиентом Промсвязьбанка. В конце сентября и в конце ноября банк списал в 2 приема весь остаток денег на счете как комиссию за обслуживание счета, всего около 6 тыс. руб. С некоторых пор такой тариф месячного обслуживания действует,  если у вас по счету не было операций более 6 месяцев (3000 в месяц вместо обычных 210 руб). Видимо, если операций не было, затраты банка на ведение счета увеличиваются больше, чем в 10 раз, надо компенсировать. Или это намек, что пора бы закрыть счет. Естественно, все это делалось без каких-то предупреждений. На мейл приходят письма только с предложением рекомендовать Промсвязьбанк своим партнерам и контрагентам.Все духе партнерства с клиентом, естественно.Написали заявление с просьбой вернуть деньги на счет, посмотрим, что выйдет.</td>\n",
              "      <td>2</td>\n",
              "      <td>1</td>\n",
              "      <td>0.748129</td>\n",
              "      <td>0.083924</td>\n",
              "      <td>0.065886</td>\n",
              "      <td>0.031445</td>\n",
              "      <td>0.070615</td>\n",
              "    </tr>\n",
              "    <tr>\n",
              "      <th>51439</th>\n",
              "      <td>Я являюсь клиентом банка Тинькофф уже более полугода. Вроде все устраивало, но видимо в этот раз проблема не решаема. Сегодня 9.11.2015 ну очень долгий разговор состоялся по тел с сотрудниками банка и проблема не решилась (сначала с девушкой, потом перезвонил сотрудник Артем)! Проблема в том, что в ИБ все операции за последние 2 дня отображаются не в соответствии с действительностью. Сначала списания средств от 07.11 потом пополнение, а фактически наоборот, ну и все операции покупок за 8.11 прошли после зачислений и списаний от банка Тинькофф, а по факту было наоборот. Вот так карта дебетовая взяла и в минус ушла на 25 р. А самый смех пришла смс выписка, ну полный бред, пополнение засчитали за 7.11, все их начисления и платы произведены, а покупок за два дня (около 6-7 операций) как и не было (типа они пойдут в новый период). Ну тогда и зачисления на 3000 от 7.11 тоже должны в новый период учитываться. Вообщем недовольства масса, надеюсь, что хоть на Банки ру проблема сотрудниками банка решится и все их платы и начисления пройдут от моего фактического остатка на 08.11 30.99р. Сотрудник банка, когда привозил мне карту рассказывал, что в минус она не уходит и спишется сумма за пользование только та, сколько есть средств на счету, а по факту я теперь должна банку, т.к. были выходные. Надеюсь на решение проблемы со стороны банка или просто закрою договор,т.к. смысл пополнять и оплачивать с карты теряется.</td>\n",
              "      <td>2</td>\n",
              "      <td>1</td>\n",
              "      <td>0.384673</td>\n",
              "      <td>0.308731</td>\n",
              "      <td>0.101972</td>\n",
              "      <td>0.091680</td>\n",
              "      <td>0.112943</td>\n",
              "    </tr>\n",
              "    <tr>\n",
              "      <th>51454</th>\n",
              "      <td>Получил дебетовую карту Росбанка - сверхкарта+. Решил пополнить для проверки со своей карты другого банка через онлайн банк. Перевел деньги, деньги ушли и тишина, на счет в Росбанке ничего не упало. Позвонил на ГЛ, сказали, что зачисляться может аж до 4-х!! дней)) Если честно немного в шоке, я думал, что в каменном веке только другой банк у нас живет) оказывается нет.. Есть еще 4 карты разных банков, везде переводы приходят мгновенно.В общем, совсем неудобно, особенно учитывая совсем не дешевое обслуживание 500р в месяц. Для оперативного перевода средств эта карта совсем не подходит, пойду закрывать счет...PS В СТП сумму видят, но она там \"в обработке\" якобы.... почему же так кредит нельзя платить? Звонят из банка: когда платеж внесете? У вас просрочка пошла! А ты им говоришь: все нормально, деньги есть, только они у меня в обработке)))</td>\n",
              "      <td>2</td>\n",
              "      <td>1</td>\n",
              "      <td>0.677492</td>\n",
              "      <td>0.192672</td>\n",
              "      <td>0.067741</td>\n",
              "      <td>0.019530</td>\n",
              "      <td>0.042565</td>\n",
              "    </tr>\n",
              "    <tr>\n",
              "      <th>51472</th>\n",
              "      <td>Являлся клиентом Бинбанка, пока после слияния не перевели в банк Открытие. Заблокировали карту после попытки сделать перевод. 3 раза звонил в Call центр с просьбой разблокировать, дважды обещали разблокировать в течение 3х часов, на 3ий раз отправили в отделение банка. В отделении оформил запрос на разблокирование (сроки разблокирования сообщить не смогли). Через полчаса позвонил сотрудник службы безопасности который уточнил детали и обещал разблокировать в течение часа, однако через 2 часа опять позвонили из банка и сказали, что для разблокирования нужно обратиться в отделение банка составлять новое обращение привела. Поехал опять в банк. С момента блокирования карты прошло 20 часов. До сих пор снять деньги с карты не могу. В отделении банка хотел снять деньги через кассу, т.к. счёт не заблокирован, но комиссия за снятие 10%!На сайте банка жалобу оставить не смог - несколько раз выпадало сообщение - \"отправить не удалось, повторите попытку позже\". Ни кому не рекомендую. Буду закрывать счета.</td>\n",
              "      <td>2</td>\n",
              "      <td>1</td>\n",
              "      <td>0.870897</td>\n",
              "      <td>0.117335</td>\n",
              "      <td>0.006683</td>\n",
              "      <td>0.003352</td>\n",
              "      <td>0.001733</td>\n",
              "    </tr>\n",
              "  </tbody>\n",
              "</table>\n",
              "<p>4945 rows × 8 columns</p>\n",
              "</div>\n",
              "      <button class=\"colab-df-convert\" onclick=\"convertToInteractive('df-f3650294-ecf4-477d-855a-6192248ef938')\"\n",
              "              title=\"Convert this dataframe to an interactive table.\"\n",
              "              style=\"display:none;\">\n",
              "        \n",
              "  <svg xmlns=\"http://www.w3.org/2000/svg\" height=\"24px\"viewBox=\"0 0 24 24\"\n",
              "       width=\"24px\">\n",
              "    <path d=\"M0 0h24v24H0V0z\" fill=\"none\"/>\n",
              "    <path d=\"M18.56 5.44l.94 2.06.94-2.06 2.06-.94-2.06-.94-.94-2.06-.94 2.06-2.06.94zm-11 1L8.5 8.5l.94-2.06 2.06-.94-2.06-.94L8.5 2.5l-.94 2.06-2.06.94zm10 10l.94 2.06.94-2.06 2.06-.94-2.06-.94-.94-2.06-.94 2.06-2.06.94z\"/><path d=\"M17.41 7.96l-1.37-1.37c-.4-.4-.92-.59-1.43-.59-.52 0-1.04.2-1.43.59L10.3 9.45l-7.72 7.72c-.78.78-.78 2.05 0 2.83L4 21.41c.39.39.9.59 1.41.59.51 0 1.02-.2 1.41-.59l7.78-7.78 2.81-2.81c.8-.78.8-2.07 0-2.86zM5.41 20L4 18.59l7.72-7.72 1.47 1.35L5.41 20z\"/>\n",
              "  </svg>\n",
              "      </button>\n",
              "      \n",
              "  <style>\n",
              "    .colab-df-container {\n",
              "      display:flex;\n",
              "      flex-wrap:wrap;\n",
              "      gap: 12px;\n",
              "    }\n",
              "\n",
              "    .colab-df-convert {\n",
              "      background-color: #E8F0FE;\n",
              "      border: none;\n",
              "      border-radius: 50%;\n",
              "      cursor: pointer;\n",
              "      display: none;\n",
              "      fill: #1967D2;\n",
              "      height: 32px;\n",
              "      padding: 0 0 0 0;\n",
              "      width: 32px;\n",
              "    }\n",
              "\n",
              "    .colab-df-convert:hover {\n",
              "      background-color: #E2EBFA;\n",
              "      box-shadow: 0px 1px 2px rgba(60, 64, 67, 0.3), 0px 1px 3px 1px rgba(60, 64, 67, 0.15);\n",
              "      fill: #174EA6;\n",
              "    }\n",
              "\n",
              "    [theme=dark] .colab-df-convert {\n",
              "      background-color: #3B4455;\n",
              "      fill: #D2E3FC;\n",
              "    }\n",
              "\n",
              "    [theme=dark] .colab-df-convert:hover {\n",
              "      background-color: #434B5C;\n",
              "      box-shadow: 0px 1px 3px 1px rgba(0, 0, 0, 0.15);\n",
              "      filter: drop-shadow(0px 1px 2px rgba(0, 0, 0, 0.3));\n",
              "      fill: #FFFFFF;\n",
              "    }\n",
              "  </style>\n",
              "\n",
              "      <script>\n",
              "        const buttonEl =\n",
              "          document.querySelector('#df-f3650294-ecf4-477d-855a-6192248ef938 button.colab-df-convert');\n",
              "        buttonEl.style.display =\n",
              "          google.colab.kernel.accessAllowed ? 'block' : 'none';\n",
              "\n",
              "        async function convertToInteractive(key) {\n",
              "          const element = document.querySelector('#df-f3650294-ecf4-477d-855a-6192248ef938');\n",
              "          const dataTable =\n",
              "            await google.colab.kernel.invokeFunction('convertToInteractive',\n",
              "                                                     [key], {});\n",
              "          if (!dataTable) return;\n",
              "\n",
              "          const docLinkHtml = 'Like what you see? Visit the ' +\n",
              "            '<a target=\"_blank\" href=https://colab.research.google.com/notebooks/data_table.ipynb>data table notebook</a>'\n",
              "            + ' to learn more about interactive tables.';\n",
              "          element.innerHTML = '';\n",
              "          dataTable['output_type'] = 'display_data';\n",
              "          await google.colab.output.renderOutput(dataTable, element);\n",
              "          const docLink = document.createElement('div');\n",
              "          docLink.innerHTML = docLinkHtml;\n",
              "          element.appendChild(docLink);\n",
              "        }\n",
              "      </script>\n",
              "    </div>\n",
              "  </div>\n",
              "  "
            ]
          },
          "metadata": {},
          "execution_count": 68
        }
      ]
    },
    {
      "cell_type": "code",
      "source": [
        "probs_file = OUTPUT_DIR+'logreg_5f/'+'final_probs_logreg_5f_[sn_51476]_[sd_12536271]__[f1_0.7894].npy'\n",
        "probs_file"
      ],
      "metadata": {
        "colab": {
          "base_uri": "https://localhost:8080/",
          "height": 36
        },
        "id": "bLBnxuHMZyJv",
        "outputId": "70d43825-4642-4c7f-e3f4-f5d2f126481a"
      },
      "execution_count": null,
      "outputs": [
        {
          "output_type": "execute_result",
          "data": {
            "text/plain": [
              "'/content/drive/MyDrive/kaggle/fsnlp_hse/output/logreg_5f/final_probs_logreg_5f_[sn_51476]_[sd_12536271]__[f1_0.7894].npy'"
            ],
            "application/vnd.google.colaboratory.intrinsic+json": {
              "type": "string"
            }
          },
          "metadata": {},
          "execution_count": 19
        }
      ]
    },
    {
      "cell_type": "code",
      "source": [
        "probs_file = OUTPUT_DIR+'logreg_5f/'+'probs_logreg_5f_[fold_1]_[sn_51476]_[sd_12536271]_[cv_0.7883].npy'\n",
        "probs_file"
      ],
      "metadata": {
        "colab": {
          "base_uri": "https://localhost:8080/",
          "height": 36
        },
        "id": "kkmYDcrtlTAV",
        "outputId": "4bf4d832-ba9a-4c51-9aea-51ee5874d944"
      },
      "execution_count": null,
      "outputs": [
        {
          "output_type": "execute_result",
          "data": {
            "text/plain": [
              "'/content/drive/MyDrive/kaggle/fsnlp_hse/output/logreg_5f/probs_logreg_5f_[fold_1]_[sn_51476]_[sd_12536271]_[cv_0.7883].npy'"
            ],
            "application/vnd.google.colaboratory.intrinsic+json": {
              "type": "string"
            }
          },
          "metadata": {},
          "execution_count": 149
        }
      ]
    },
    {
      "cell_type": "code",
      "source": [
        "probs = np.load(probs_file)"
      ],
      "metadata": {
        "id": "Kx0hkvP4aCVa"
      },
      "execution_count": null,
      "outputs": []
    },
    {
      "cell_type": "code",
      "source": [
        "probs"
      ],
      "metadata": {
        "colab": {
          "base_uri": "https://localhost:8080/"
        },
        "id": "wstmPE74lKyM",
        "outputId": "03f1ad42-f8a4-4f99-a26a-61a30d216b90"
      },
      "execution_count": null,
      "outputs": [
        {
          "output_type": "execute_result",
          "data": {
            "text/plain": [
              "array([[0.56497903, 0.19388107, 0.0346407 , 0.01987401, 0.18662518],\n",
              "       [0.75861711, 0.05285007, 0.04866351, 0.04507071, 0.0947986 ],\n",
              "       [0.88960598, 0.07285473, 0.01743578, 0.00435706, 0.01574645],\n",
              "       ...,\n",
              "       [0.90970383, 0.06731794, 0.01185953, 0.00374519, 0.00737351],\n",
              "       [0.79551931, 0.14388386, 0.04496204, 0.0053567 , 0.01027809],\n",
              "       [0.74158601, 0.16832768, 0.03536649, 0.01297022, 0.0417496 ]])"
            ]
          },
          "metadata": {},
          "execution_count": 151
        }
      ]
    },
    {
      "cell_type": "code",
      "source": [
        "preds = np.argmax(probs, axis=1) + 1"
      ],
      "metadata": {
        "id": "QVyOaZoVaFiP"
      },
      "execution_count": null,
      "outputs": []
    },
    {
      "cell_type": "code",
      "source": [
        "preds_len = len(preds)\n",
        "preds_len"
      ],
      "metadata": {
        "colab": {
          "base_uri": "https://localhost:8080/"
        },
        "id": "LOw0aBTcaU8U",
        "outputId": "1afc79e2-da30-4472-e78f-5525559f1fee"
      },
      "execution_count": null,
      "outputs": [
        {
          "output_type": "execute_result",
          "data": {
            "text/plain": [
              "17220"
            ]
          },
          "metadata": {},
          "execution_count": 153
        }
      ]
    },
    {
      "cell_type": "code",
      "source": [
        "bias = (0.97, 1.05, 1.05, 1.05, 0.97)\n",
        "probs_corr = np.multiply(probs, bias)\n",
        "preds_corr = np.argmax(probs_corr, axis=1) + 1\n",
        "for i in range(5):\n",
        "  print(f'class {i+1}: {len(df[df[\"grades\"] == i + 1])/df_len: 0.4f} {sum(preds_corr == i + 1)/preds_len: 0.4f}')"
      ],
      "metadata": {
        "colab": {
          "base_uri": "https://localhost:8080/"
        },
        "id": "FXsRQAPKYmVu",
        "outputId": "0f786500-af65-42d3-8492-4125b5ccf6ec"
      },
      "execution_count": null,
      "outputs": [
        {
          "output_type": "stream",
          "name": "stdout",
          "text": [
            "class 1:  0.5389  0.6911\n",
            "class 2:  0.1094  0.0142\n",
            "class 3:  0.0458  0.0018\n",
            "class 4:  0.0295  0.0027\n",
            "class 5:  0.2764  0.2902\n"
          ]
        }
      ]
    },
    {
      "cell_type": "code",
      "source": [
        "test = pd.read_csv('/content/new_test_ml.csv', index_col=0)\n",
        "sub = pd.DataFrame({'inds': test.index,\n",
        "                    'grades': preds_corr})\n",
        "bias_tag = '[bias_'+'_'.join(f'{value:.2f}' for value in bias)+']'\n",
        "bias_tag"
      ],
      "metadata": {
        "colab": {
          "base_uri": "https://localhost:8080/",
          "height": 36
        },
        "id": "52ys1GWHaNQX",
        "outputId": "9e23139e-412f-42c4-c197-a77ba035d2ca"
      },
      "execution_count": null,
      "outputs": [
        {
          "output_type": "execute_result",
          "data": {
            "text/plain": [
              "'[bias_0.97_1.05_1.05_1.05_0.97]'"
            ],
            "application/vnd.google.colaboratory.intrinsic+json": {
              "type": "string"
            }
          },
          "metadata": {},
          "execution_count": 155
        }
      ]
    },
    {
      "cell_type": "markdown",
      "source": [
        "# Save results to files"
      ],
      "metadata": {
        "id": "leeoza5I8G8S"
      }
    },
    {
      "cell_type": "code",
      "source": [
        "suffix = f'{Config.experiment}_[sn_{Config.samples_num}]_[sd_{Config.seed}]_'+'_1f_'+bias_tag\n",
        "sub_filename = 'sub_'+suffix+'.csv'\n",
        "probs_filename = 'probs_'+suffix+'.npy'\n",
        "sub.to_csv(sub_filename, index=False)\n",
        "np.save(probs_filename, probs)\n",
        "!cp {sub_filename} {EXPERIMENT_DIR}\n",
        "!cp {probs_filename} {EXPERIMENT_DIR}"
      ],
      "metadata": {
        "id": "jMHQQZ8Z4mSo"
      },
      "execution_count": null,
      "outputs": []
    },
    {
      "cell_type": "markdown",
      "source": [
        "# Submit predictions"
      ],
      "metadata": {
        "id": "Z7I8508vzLDB"
      }
    },
    {
      "cell_type": "code",
      "source": [
        "!kaggle competitions submit -c hse-nlp-bootcamp  -f {'/content/'+sub_filename} -m \"Submission via API\""
      ],
      "metadata": {
        "colab": {
          "base_uri": "https://localhost:8080/"
        },
        "id": "zYoB0WZGQ5RV",
        "outputId": "bfd39424-19f2-4f1f-9a57-5609632b8338"
      },
      "execution_count": null,
      "outputs": [
        {
          "output_type": "stream",
          "name": "stdout",
          "text": [
            "100% 124k/124k [00:00<00:00, 224kB/s]\n",
            "Successfully submitted to HSE | NLP Bootcamp | Sentiment Analysis"
          ]
        }
      ]
    }
  ]
}