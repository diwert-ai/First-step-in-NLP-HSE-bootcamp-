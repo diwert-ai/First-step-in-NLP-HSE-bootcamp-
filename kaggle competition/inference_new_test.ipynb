{
  "nbformat": 4,
  "nbformat_minor": 0,
  "metadata": {
    "colab": {
      "provenance": [],
      "authorship_tag": "ABX9TyOrXybTUx04xhMWAOy8cpco",
      "include_colab_link": true
    },
    "kernelspec": {
      "name": "python3",
      "display_name": "Python 3"
    },
    "language_info": {
      "name": "python"
    }
  },
  "cells": [
    {
      "cell_type": "markdown",
      "metadata": {
        "id": "view-in-github",
        "colab_type": "text"
      },
      "source": [
        "<a href=\"https://colab.research.google.com/github/diwert-ai/First-step-in-NLP-HSE-bootcamp-/blob/main/kaggle%20competition/inference_new_test.ipynb\" target=\"_parent\"><img src=\"https://colab.research.google.com/assets/colab-badge.svg\" alt=\"Open In Colab\"/></a>"
      ]
    },
    {
      "cell_type": "code",
      "execution_count": null,
      "metadata": {
        "colab": {
          "base_uri": "https://localhost:8080/"
        },
        "id": "fAl6uzc2G4Xb",
        "outputId": "7ba1615d-e405-42be-8a24-e2a335013200"
      },
      "outputs": [
        {
          "output_type": "stream",
          "name": "stdout",
          "text": [
            "Mounted at /content/drive\n"
          ]
        }
      ],
      "source": [
        "from google.colab import drive\n",
        "drive.mount('/content/drive')"
      ]
    },
    {
      "cell_type": "code",
      "source": [
        "from google.colab import files\n",
        "uploaded = files.upload()"
      ],
      "metadata": {
        "colab": {
          "base_uri": "https://localhost:8080/",
          "height": 74
        },
        "id": "NVJqeewFHHy9",
        "outputId": "082047c2-19bf-475a-a587-32dd693f9f8e"
      },
      "execution_count": null,
      "outputs": [
        {
          "output_type": "display_data",
          "data": {
            "text/plain": [
              "<IPython.core.display.HTML object>"
            ],
            "text/html": [
              "\n",
              "     <input type=\"file\" id=\"files-6b708234-d604-4d8b-a2f8-c58c0e834775\" name=\"files[]\" multiple disabled\n",
              "        style=\"border:none\" />\n",
              "     <output id=\"result-6b708234-d604-4d8b-a2f8-c58c0e834775\">\n",
              "      Upload widget is only available when the cell has been executed in the\n",
              "      current browser session. Please rerun this cell to enable.\n",
              "      </output>\n",
              "      <script>// Copyright 2017 Google LLC\n",
              "//\n",
              "// Licensed under the Apache License, Version 2.0 (the \"License\");\n",
              "// you may not use this file except in compliance with the License.\n",
              "// You may obtain a copy of the License at\n",
              "//\n",
              "//      http://www.apache.org/licenses/LICENSE-2.0\n",
              "//\n",
              "// Unless required by applicable law or agreed to in writing, software\n",
              "// distributed under the License is distributed on an \"AS IS\" BASIS,\n",
              "// WITHOUT WARRANTIES OR CONDITIONS OF ANY KIND, either express or implied.\n",
              "// See the License for the specific language governing permissions and\n",
              "// limitations under the License.\n",
              "\n",
              "/**\n",
              " * @fileoverview Helpers for google.colab Python module.\n",
              " */\n",
              "(function(scope) {\n",
              "function span(text, styleAttributes = {}) {\n",
              "  const element = document.createElement('span');\n",
              "  element.textContent = text;\n",
              "  for (const key of Object.keys(styleAttributes)) {\n",
              "    element.style[key] = styleAttributes[key];\n",
              "  }\n",
              "  return element;\n",
              "}\n",
              "\n",
              "// Max number of bytes which will be uploaded at a time.\n",
              "const MAX_PAYLOAD_SIZE = 100 * 1024;\n",
              "\n",
              "function _uploadFiles(inputId, outputId) {\n",
              "  const steps = uploadFilesStep(inputId, outputId);\n",
              "  const outputElement = document.getElementById(outputId);\n",
              "  // Cache steps on the outputElement to make it available for the next call\n",
              "  // to uploadFilesContinue from Python.\n",
              "  outputElement.steps = steps;\n",
              "\n",
              "  return _uploadFilesContinue(outputId);\n",
              "}\n",
              "\n",
              "// This is roughly an async generator (not supported in the browser yet),\n",
              "// where there are multiple asynchronous steps and the Python side is going\n",
              "// to poll for completion of each step.\n",
              "// This uses a Promise to block the python side on completion of each step,\n",
              "// then passes the result of the previous step as the input to the next step.\n",
              "function _uploadFilesContinue(outputId) {\n",
              "  const outputElement = document.getElementById(outputId);\n",
              "  const steps = outputElement.steps;\n",
              "\n",
              "  const next = steps.next(outputElement.lastPromiseValue);\n",
              "  return Promise.resolve(next.value.promise).then((value) => {\n",
              "    // Cache the last promise value to make it available to the next\n",
              "    // step of the generator.\n",
              "    outputElement.lastPromiseValue = value;\n",
              "    return next.value.response;\n",
              "  });\n",
              "}\n",
              "\n",
              "/**\n",
              " * Generator function which is called between each async step of the upload\n",
              " * process.\n",
              " * @param {string} inputId Element ID of the input file picker element.\n",
              " * @param {string} outputId Element ID of the output display.\n",
              " * @return {!Iterable<!Object>} Iterable of next steps.\n",
              " */\n",
              "function* uploadFilesStep(inputId, outputId) {\n",
              "  const inputElement = document.getElementById(inputId);\n",
              "  inputElement.disabled = false;\n",
              "\n",
              "  const outputElement = document.getElementById(outputId);\n",
              "  outputElement.innerHTML = '';\n",
              "\n",
              "  const pickedPromise = new Promise((resolve) => {\n",
              "    inputElement.addEventListener('change', (e) => {\n",
              "      resolve(e.target.files);\n",
              "    });\n",
              "  });\n",
              "\n",
              "  const cancel = document.createElement('button');\n",
              "  inputElement.parentElement.appendChild(cancel);\n",
              "  cancel.textContent = 'Cancel upload';\n",
              "  const cancelPromise = new Promise((resolve) => {\n",
              "    cancel.onclick = () => {\n",
              "      resolve(null);\n",
              "    };\n",
              "  });\n",
              "\n",
              "  // Wait for the user to pick the files.\n",
              "  const files = yield {\n",
              "    promise: Promise.race([pickedPromise, cancelPromise]),\n",
              "    response: {\n",
              "      action: 'starting',\n",
              "    }\n",
              "  };\n",
              "\n",
              "  cancel.remove();\n",
              "\n",
              "  // Disable the input element since further picks are not allowed.\n",
              "  inputElement.disabled = true;\n",
              "\n",
              "  if (!files) {\n",
              "    return {\n",
              "      response: {\n",
              "        action: 'complete',\n",
              "      }\n",
              "    };\n",
              "  }\n",
              "\n",
              "  for (const file of files) {\n",
              "    const li = document.createElement('li');\n",
              "    li.append(span(file.name, {fontWeight: 'bold'}));\n",
              "    li.append(span(\n",
              "        `(${file.type || 'n/a'}) - ${file.size} bytes, ` +\n",
              "        `last modified: ${\n",
              "            file.lastModifiedDate ? file.lastModifiedDate.toLocaleDateString() :\n",
              "                                    'n/a'} - `));\n",
              "    const percent = span('0% done');\n",
              "    li.appendChild(percent);\n",
              "\n",
              "    outputElement.appendChild(li);\n",
              "\n",
              "    const fileDataPromise = new Promise((resolve) => {\n",
              "      const reader = new FileReader();\n",
              "      reader.onload = (e) => {\n",
              "        resolve(e.target.result);\n",
              "      };\n",
              "      reader.readAsArrayBuffer(file);\n",
              "    });\n",
              "    // Wait for the data to be ready.\n",
              "    let fileData = yield {\n",
              "      promise: fileDataPromise,\n",
              "      response: {\n",
              "        action: 'continue',\n",
              "      }\n",
              "    };\n",
              "\n",
              "    // Use a chunked sending to avoid message size limits. See b/62115660.\n",
              "    let position = 0;\n",
              "    do {\n",
              "      const length = Math.min(fileData.byteLength - position, MAX_PAYLOAD_SIZE);\n",
              "      const chunk = new Uint8Array(fileData, position, length);\n",
              "      position += length;\n",
              "\n",
              "      const base64 = btoa(String.fromCharCode.apply(null, chunk));\n",
              "      yield {\n",
              "        response: {\n",
              "          action: 'append',\n",
              "          file: file.name,\n",
              "          data: base64,\n",
              "        },\n",
              "      };\n",
              "\n",
              "      let percentDone = fileData.byteLength === 0 ?\n",
              "          100 :\n",
              "          Math.round((position / fileData.byteLength) * 100);\n",
              "      percent.textContent = `${percentDone}% done`;\n",
              "\n",
              "    } while (position < fileData.byteLength);\n",
              "  }\n",
              "\n",
              "  // All done.\n",
              "  yield {\n",
              "    response: {\n",
              "      action: 'complete',\n",
              "    }\n",
              "  };\n",
              "}\n",
              "\n",
              "scope.google = scope.google || {};\n",
              "scope.google.colab = scope.google.colab || {};\n",
              "scope.google.colab._files = {\n",
              "  _uploadFiles,\n",
              "  _uploadFilesContinue,\n",
              "};\n",
              "})(self);\n",
              "</script> "
            ]
          },
          "metadata": {}
        },
        {
          "output_type": "stream",
          "name": "stdout",
          "text": [
            "Saving kaggle.json to kaggle.json\n"
          ]
        }
      ]
    },
    {
      "cell_type": "code",
      "source": [
        "!pip install -q kaggle --upgrade\n",
        "!mkdir -p ~/.kaggle\n",
        "!cp kaggle.json ~/.kaggle/\n",
        "!ls ~/.kaggle\n",
        "!chmod 600 /root/.kaggle/kaggle.json"
      ],
      "metadata": {
        "colab": {
          "base_uri": "https://localhost:8080/"
        },
        "id": "BGoDzdkcHLA4",
        "outputId": "8b70d53e-b94c-4bd5-8832-d29360010a50"
      },
      "execution_count": null,
      "outputs": [
        {
          "output_type": "stream",
          "name": "stdout",
          "text": [
            "kaggle.json\n"
          ]
        }
      ]
    },
    {
      "cell_type": "code",
      "source": [
        "!kaggle competitions download -c hse-nlp-bootcamp"
      ],
      "metadata": {
        "colab": {
          "base_uri": "https://localhost:8080/"
        },
        "id": "WcHqzkbHHVbQ",
        "outputId": "469c3bdc-c6f4-4c49-c111-72377ab810ee"
      },
      "execution_count": null,
      "outputs": [
        {
          "output_type": "stream",
          "name": "stdout",
          "text": [
            "Downloading hse-nlp-bootcamp.zip to /content\n",
            " 64% 38.0M/59.8M [00:00<00:00, 212MB/s] \n",
            "100% 59.8M/59.8M [00:00<00:00, 227MB/s]\n"
          ]
        }
      ]
    },
    {
      "cell_type": "code",
      "source": [
        "!unzip hse-nlp-bootcamp.zip"
      ],
      "metadata": {
        "colab": {
          "base_uri": "https://localhost:8080/"
        },
        "id": "zMDwsShMHXUU",
        "outputId": "365f030c-3cee-4c0d-8bb3-f9d46439413d"
      },
      "execution_count": null,
      "outputs": [
        {
          "output_type": "stream",
          "name": "stdout",
          "text": [
            "Archive:  hse-nlp-bootcamp.zip\n",
            "  inflating: new_test_ml.csv         \n",
            "  inflating: sample_submission.csv   \n",
            "  inflating: train_ml.csv            \n"
          ]
        }
      ]
    },
    {
      "cell_type": "code",
      "source": [
        "import nltk\n",
        "# nltk.download('stopwords')\n",
        "nltk.download('punkt')\n",
        "from nltk.tokenize import word_tokenize\n",
        "from joblib import dump, load\n",
        "from sklearn.pipeline import Pipeline, FeatureUnion\n",
        "from sklearn.ensemble import RandomForestClassifier\n",
        "from sklearn.preprocessing import FunctionTransformer\n",
        "from sklearn.model_selection import GridSearchCV, StratifiedKFold\n",
        "from sklearn.feature_extraction.text import TfidfVectorizer\n",
        "from sklearn.linear_model import LogisticRegression\n",
        "\n",
        "import pandas as pd\n",
        "import numpy as np"
      ],
      "metadata": {
        "colab": {
          "base_uri": "https://localhost:8080/"
        },
        "id": "PUMyIvWSHbqS",
        "outputId": "a9d4709e-6caf-4cf2-d429-5a64137fdb54"
      },
      "execution_count": null,
      "outputs": [
        {
          "output_type": "stream",
          "name": "stderr",
          "text": [
            "[nltk_data] Downloading package punkt to /root/nltk_data...\n",
            "[nltk_data]   Package punkt is already up-to-date!\n"
          ]
        }
      ]
    },
    {
      "cell_type": "code",
      "source": [
        "class Config:\n",
        "  seed = 12536271\n",
        "  samples_num = 51476\n",
        "  experiment = 'new_test'"
      ],
      "metadata": {
        "id": "i8r7tTHUIgYG"
      },
      "execution_count": null,
      "outputs": []
    },
    {
      "cell_type": "code",
      "source": [
        "OUTPUT_DIR = '/content/drive/MyDrive/kaggle/fsnlp_hse/output/'"
      ],
      "metadata": {
        "id": "WKpuzTaZHtPO"
      },
      "execution_count": null,
      "outputs": []
    },
    {
      "cell_type": "code",
      "source": [
        "EXPERIMENT_DIR  = OUTPUT_DIR + Config.experiment"
      ],
      "metadata": {
        "id": "GDi1zspuJy9S"
      },
      "execution_count": null,
      "outputs": []
    },
    {
      "cell_type": "code",
      "source": [
        "!mkdir {EXPERIMENT_DIR}"
      ],
      "metadata": {
        "id": "2HWm7pS0J_-d"
      },
      "execution_count": null,
      "outputs": []
    },
    {
      "cell_type": "code",
      "source": [
        "def get_numeric_data(x):\n",
        "    return x[['bank_id']]\n",
        "\n",
        "def get_text_data(x):\n",
        "    return x['text']\n",
        "\n",
        "transfomer_numeric = FunctionTransformer(get_numeric_data)\n",
        "transformer_text = FunctionTransformer(get_text_data)\n",
        "\n",
        "pipeline = Pipeline([\n",
        "    ('features', FeatureUnion([\n",
        "            ('numeric_features', Pipeline([\n",
        "                ('selector', transfomer_numeric)\n",
        "            ])),\n",
        "             ('text_features', Pipeline([\n",
        "                ('selector', transformer_text),\n",
        "                ('vec', TfidfVectorizer(ngram_range=(1, 2), tokenizer=word_tokenize))\n",
        "            ]))\n",
        "         ])),\n",
        "    ('clf', LogisticRegression(random_state=Config.seed,  warm_start=True, max_iter=1000))\n",
        "])"
      ],
      "metadata": {
        "id": "-h_8aKUsIC0f"
      },
      "execution_count": null,
      "outputs": []
    },
    {
      "cell_type": "code",
      "source": [
        "model_logreg  = load(OUTPUT_DIR+'logreg/'+'model_logreg_[sn_51476]_[sd_12536271][cv_0.7899].joblib')"
      ],
      "metadata": {
        "id": "GIK_LZftHlO2"
      },
      "execution_count": null,
      "outputs": []
    },
    {
      "cell_type": "code",
      "source": [
        "df = pd.read_csv('/content/train_ml.csv')\n",
        "banks_list = list(df.bank.unique())\n",
        "df['date'] = pd.to_datetime(df['date'], format='%d.%m.%Y %H:%M')\n",
        "test = pd.read_csv('/content/new_test_ml.csv', index_col=0)\n",
        "test['text'] = test.feeds.apply(lambda x: x.lower())\n",
        "test['bank_id'] = test['bank'].apply(lambda x: banks_list.index(x))\n",
        "test = test[['bank_id', 'text']]\n",
        "test_pred = model_logreg.predict(test)\n",
        "probs_lr = model_logreg.predict_proba(test)\n",
        "sub = pd.DataFrame({'inds': test.index,\n",
        "                    'grades': test_pred})"
      ],
      "metadata": {
        "id": "o458WREQIrEq"
      },
      "execution_count": null,
      "outputs": []
    },
    {
      "cell_type": "code",
      "source": [
        "probs_lr = model_logreg.predict_proba(test)"
      ],
      "metadata": {
        "id": "4sD3nrZ4QpWU"
      },
      "execution_count": null,
      "outputs": []
    },
    {
      "cell_type": "code",
      "source": [
        "cv_tag = '[cv_0.7899]'\n",
        "suffix = f'{Config.experiment}_[sn_{Config.samples_num}]_[sd_{Config.seed}]'+cv_tag\n",
        "sub_filename = 'sub_'+suffix+'.csv'\n",
        "probs_filename = 'probs_'+suffix+'.npy'"
      ],
      "metadata": {
        "id": "zkiNMTHwJW1P"
      },
      "execution_count": null,
      "outputs": []
    },
    {
      "cell_type": "code",
      "source": [
        "sub.to_csv(sub_filename, index=False)\n",
        "np.save(probs_filename, probs_lr)"
      ],
      "metadata": {
        "id": "EEGzd-XdJp5U"
      },
      "execution_count": null,
      "outputs": []
    },
    {
      "cell_type": "code",
      "source": [
        "!cp {sub_filename} {EXPERIMENT_DIR}\n",
        "!cp {probs_filename} {EXPERIMENT_DIR}"
      ],
      "metadata": {
        "id": "CotuyEw9JuBS"
      },
      "execution_count": null,
      "outputs": []
    },
    {
      "cell_type": "code",
      "source": [
        "!ls"
      ],
      "metadata": {
        "colab": {
          "base_uri": "https://localhost:8080/"
        },
        "id": "BtscOsbUKM63",
        "outputId": "1ed1882f-af4b-4edf-a196-76d4f689c047"
      },
      "execution_count": null,
      "outputs": [
        {
          "output_type": "stream",
          "name": "stdout",
          "text": [
            " drive\t\t        sample_submission.csv\n",
            " hse-nlp-bootcamp.zip  'sub_new test_[sn_51476]_[sd_12536271][cv_0.7899].csv'\n",
            " kaggle.json\t       'sub_new_test_[sn_51476]_[sd_12536271][cv_0.7899].csv'\n",
            " new_test_ml.csv        train_ml.csv\n",
            " sample_data\n"
          ]
        }
      ]
    },
    {
      "cell_type": "code",
      "source": [
        "!kaggle competitions submit -c hse-nlp-bootcamp  -f {'/content/'+sub_filename} -m \"Submission via API\""
      ],
      "metadata": {
        "colab": {
          "base_uri": "https://localhost:8080/"
        },
        "id": "BG1W3WT8KKMK",
        "outputId": "8503ed23-e3b1-4460-be02-0170c90a5874"
      },
      "execution_count": null,
      "outputs": [
        {
          "output_type": "stream",
          "name": "stdout",
          "text": [
            "100% 124k/124k [00:00<00:00, 643kB/s]\n",
            "Successfully submitted to HSE | NLP Bootcamp | Sentiment Analysis"
          ]
        }
      ]
    },
    {
      "cell_type": "code",
      "source": [
        "model_logreg_pl  = load(OUTPUT_DIR+'logreg_pl/'+'model_logreg_pl_[sn_51476]_[sd_12536271][cv_0.8475].joblib')"
      ],
      "metadata": {
        "id": "YWsgVlMrKaBJ"
      },
      "execution_count": null,
      "outputs": []
    },
    {
      "cell_type": "code",
      "source": [
        "test_pred = model_logreg_pl.predict(test)"
      ],
      "metadata": {
        "id": "cHwy2Hb8KyjD"
      },
      "execution_count": null,
      "outputs": []
    },
    {
      "cell_type": "code",
      "source": [
        "sub = pd.DataFrame({'inds': test.index,\n",
        "                    'grades': test_pred})\n",
        "sub"
      ],
      "metadata": {
        "id": "u7Ko2mcVK1uo"
      },
      "execution_count": null,
      "outputs": []
    },
    {
      "cell_type": "code",
      "source": [
        "probs_lr_pl = model_logreg_pl.predict_proba(test)"
      ],
      "metadata": {
        "id": "4GL0VZ5RQGK6"
      },
      "execution_count": null,
      "outputs": []
    },
    {
      "cell_type": "code",
      "source": [
        "cv_tag = '[cv_0.8475]'\n",
        "suffix = f'{Config.experiment}_[sn_{Config.samples_num}]_[sd_{Config.seed}]'+cv_tag\n",
        "sub_filename = 'sub_'+suffix+'.csv'\n",
        "probs_filename = 'probs_'+suffix+'.npy'"
      ],
      "metadata": {
        "id": "9hrfc6jyK4rS"
      },
      "execution_count": null,
      "outputs": []
    },
    {
      "cell_type": "code",
      "source": [
        "sub.to_csv(sub_filename, index=False)\n",
        "np.save(probs_filename, probs_lr_pl)"
      ],
      "metadata": {
        "id": "1Gxzy7slLGS1"
      },
      "execution_count": null,
      "outputs": []
    },
    {
      "cell_type": "code",
      "source": [
        "!cp {sub_filename} {EXPERIMENT_DIR}\n",
        "!cp {probs_filename} {EXPERIMENT_DIR}"
      ],
      "metadata": {
        "id": "Kczi1DzCLJqO"
      },
      "execution_count": null,
      "outputs": []
    },
    {
      "cell_type": "code",
      "source": [
        "!ls"
      ],
      "metadata": {
        "colab": {
          "base_uri": "https://localhost:8080/"
        },
        "id": "5bhqzj1JLKqd",
        "outputId": "792fbb0b-8857-442a-bd1b-aac0e82a0368"
      },
      "execution_count": null,
      "outputs": [
        {
          "output_type": "stream",
          "name": "stdout",
          "text": [
            " drive\t\t        sample_submission.csv\n",
            " hse-nlp-bootcamp.zip  'sub_new test_[sn_51476]_[sd_12536271][cv_0.7899].csv'\n",
            " kaggle.json\t       'sub_new_test_[sn_51476]_[sd_12536271][cv_0.7899].csv'\n",
            " new_test_ml.csv       'sub_new_test_[sn_51476]_[sd_12536271][cv_0.8475].csv'\n",
            " sample_data\t        train_ml.csv\n"
          ]
        }
      ]
    },
    {
      "cell_type": "code",
      "source": [
        "!kaggle competitions submit -c hse-nlp-bootcamp  -f {'/content/'+sub_filename} -m \"Submission via API\""
      ],
      "metadata": {
        "colab": {
          "base_uri": "https://localhost:8080/"
        },
        "id": "0aK9Wne7LMMs",
        "outputId": "1c41115a-d905-4a11-ee46-1361821019f3"
      },
      "execution_count": null,
      "outputs": [
        {
          "output_type": "stream",
          "name": "stdout",
          "text": [
            "\r  0% 0.00/124k [00:00<?, ?B/s]\r100% 124k/124k [00:00<00:00, 600kB/s]\n",
            "Successfully submitted to HSE | NLP Bootcamp | Sentiment Analysis"
          ]
        }
      ]
    },
    {
      "cell_type": "code",
      "source": [
        "probs_avg = (probs_lr_pl + probs_lr)/2.0"
      ],
      "metadata": {
        "id": "t_448KKjRW2d"
      },
      "execution_count": null,
      "outputs": []
    },
    {
      "cell_type": "code",
      "source": [
        "preds_avg=np.argmax(probs_avg, axis=1) + 1"
      ],
      "metadata": {
        "id": "BuNHHM45Rp_O"
      },
      "execution_count": null,
      "outputs": []
    },
    {
      "cell_type": "code",
      "source": [
        "sub = pd.DataFrame({'inds': test.index,\n",
        "                    'grades': preds_avg})\n",
        "sub"
      ],
      "metadata": {
        "id": "a8SJ5XlQR4zR"
      },
      "execution_count": null,
      "outputs": []
    },
    {
      "cell_type": "code",
      "source": [
        "cv_tag = '[avegared]'\n",
        "suffix = f'{Config.experiment}_[sn_{Config.samples_num}]_[sd_{Config.seed}]'+cv_tag\n",
        "sub_filename = 'sub_'+suffix+'.csv'"
      ],
      "metadata": {
        "id": "TGcnGI71SY2m"
      },
      "execution_count": null,
      "outputs": []
    },
    {
      "cell_type": "code",
      "source": [
        "sub.to_csv(sub_filename, index=False)"
      ],
      "metadata": {
        "id": "2LcwpFdHSfGK"
      },
      "execution_count": null,
      "outputs": []
    },
    {
      "cell_type": "code",
      "source": [
        "!cp {sub_filename} {EXPERIMENT_DIR}"
      ],
      "metadata": {
        "id": "hSrcRCfxSxQM"
      },
      "execution_count": null,
      "outputs": []
    },
    {
      "cell_type": "markdown",
      "source": [
        "# AVG LB 0.79535 (m1+m2)"
      ],
      "metadata": {
        "id": "-48V4xD2tsQG"
      }
    },
    {
      "cell_type": "code",
      "source": [
        "!kaggle competitions submit -c hse-nlp-bootcamp  -f {'/content/'+sub_filename} -m \"Submission via API\""
      ],
      "metadata": {
        "colab": {
          "base_uri": "https://localhost:8080/"
        },
        "id": "Zl1B5eACSlJZ",
        "outputId": "e8936401-7093-4b52-c72b-2f28464427cb"
      },
      "execution_count": null,
      "outputs": [
        {
          "output_type": "stream",
          "name": "stdout",
          "text": [
            "100% 124k/124k [00:00<00:00, 610kB/s]\n",
            "Successfully submitted to HSE | NLP Bootcamp | Sentiment Analysis"
          ]
        }
      ]
    },
    {
      "cell_type": "code",
      "source": [
        "probs_avg_2 = (probs_lr_pl * probs_lr)"
      ],
      "metadata": {
        "id": "1gIIVq_oS2Zr"
      },
      "execution_count": null,
      "outputs": []
    },
    {
      "cell_type": "code",
      "source": [
        "preds_avg_2=np.argmax(probs_avg_2, axis=1) + 1"
      ],
      "metadata": {
        "id": "-IOEPI3DS6kP"
      },
      "execution_count": null,
      "outputs": []
    },
    {
      "cell_type": "code",
      "source": [
        "sub = pd.DataFrame({'inds': test.index,\n",
        "                    'grades': preds_avg_2})\n",
        "sub"
      ],
      "metadata": {
        "id": "66Wb1FfnTGax"
      },
      "execution_count": null,
      "outputs": []
    },
    {
      "cell_type": "code",
      "source": [
        "cv_tag = '[avegared2]'\n",
        "suffix = f'{Config.experiment}_[sn_{Config.samples_num}]_[sd_{Config.seed}]'+cv_tag\n",
        "sub_filename = 'sub_'+suffix+'.csv'"
      ],
      "metadata": {
        "id": "r6QoUuHmTKV5"
      },
      "execution_count": null,
      "outputs": []
    },
    {
      "cell_type": "code",
      "source": [
        "sub.to_csv(sub_filename, index=False)"
      ],
      "metadata": {
        "id": "T7zZo-T4TODb"
      },
      "execution_count": null,
      "outputs": []
    },
    {
      "cell_type": "code",
      "source": [
        "!cp {sub_filename} {EXPERIMENT_DIR}"
      ],
      "metadata": {
        "id": "PXKToxK6TRc1"
      },
      "execution_count": null,
      "outputs": []
    },
    {
      "cell_type": "markdown",
      "source": [
        "# AVG2 LB 0.79558 m1 * m2"
      ],
      "metadata": {
        "id": "uURhUa43t36j"
      }
    },
    {
      "cell_type": "code",
      "source": [
        "!kaggle competitions submit -c hse-nlp-bootcamp  -f {EXPERIMENT_DIR+'/sub_new_test_[sn_51476]_[sd_12536271][avegared2].csv'} -m \"Submission via API\""
      ],
      "metadata": {
        "colab": {
          "base_uri": "https://localhost:8080/"
        },
        "id": "GI5Jmb_-sroL",
        "outputId": "9a05766a-8368-479b-dd7b-62e7e5ee5670"
      },
      "execution_count": null,
      "outputs": [
        {
          "output_type": "stream",
          "name": "stdout",
          "text": [
            "100% 124k/124k [00:02<00:00, 50.4kB/s] \n",
            "Successfully submitted to HSE | NLP Bootcamp | Sentiment Analysis"
          ]
        }
      ]
    }
  ]
}