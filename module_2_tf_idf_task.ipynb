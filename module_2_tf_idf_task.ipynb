{
  "cells": [
    {
      "cell_type": "markdown",
      "metadata": {
        "id": "view-in-github",
        "colab_type": "text"
      },
      "source": [
        "<a href=\"https://colab.research.google.com/github/diwert-ai/First-step-in-NLP-HSE-bootcamp-/blob/main/module_2_tf_idf_task.ipynb\" target=\"_parent\"><img src=\"https://colab.research.google.com/assets/colab-badge.svg\" alt=\"Open In Colab\"/></a>"
      ]
    },
    {
      "cell_type": "code",
      "execution_count": 205,
      "metadata": {
        "id": "6FWeD_Wdq6dJ"
      },
      "outputs": [],
      "source": [
        "import pandas as pd\n",
        "import json\n",
        "import numpy as np\n",
        "import matplotlib.pyplot as plt\n",
        "\n",
        "from sklearn.linear_model import LogisticRegression, LogisticRegressionCV\n",
        "from sklearn.linear_model import LinearRegression\n",
        "from sklearn.model_selection import train_test_split, GridSearchCV\n",
        "from sklearn.metrics import accuracy_score, r2_score\n",
        "from sklearn.metrics import classification_report\n",
        "from sklearn.feature_extraction.text import TfidfVectorizer\n",
        "\n",
        "%config IPCompleter.greedy = True\n",
        "%matplotlib inline"
      ]
    },
    {
      "cell_type": "code",
      "source": [
        "# зафиксируем random state для воспроизводимости результатов\n",
        "RANDOM_STATE = 42"
      ],
      "metadata": {
        "id": "TTzFXT-B0HRR"
      },
      "execution_count": 206,
      "outputs": []
    },
    {
      "cell_type": "markdown",
      "metadata": {
        "id": "t04KowQPQxwT"
      },
      "source": [
        "Будем предсказывать зарплату по описанию вакансии - это задача регрессии!"
      ]
    },
    {
      "cell_type": "code",
      "execution_count": 207,
      "metadata": {
        "id": "jt_-J8ONq6dV"
      },
      "outputs": [],
      "source": [
        "df = pd.read_csv(\"https://raw.githubusercontent.com/evgpat/edu_stepik_first_step_in_nlp/main/datasets/salary_data_cleaned.csv\")"
      ]
    },
    {
      "cell_type": "code",
      "execution_count": 208,
      "metadata": {
        "colab": {
          "base_uri": "https://localhost:8080/",
          "height": 327
        },
        "id": "bTx7h0vUq6df",
        "outputId": "84d83431-92b3-495d-eb1c-140ef22d645e"
      },
      "outputs": [
        {
          "output_type": "execute_result",
          "data": {
            "text/plain": [
              "                   Job Title              Salary Estimate  \\\n",
              "0             Data Scientist   $53K-$91K (Glassdoor est.)   \n",
              "1  Healthcare Data Scientist  $63K-$112K (Glassdoor est.)   \n",
              "\n",
              "                                     Job Description  Rating  \\\n",
              "0  Data Scientist\\nLocation: Albuquerque, NM\\nEdu...     3.8   \n",
              "1  What You Will Do:\\n\\nI. General Summary\\n\\nThe...     3.4   \n",
              "\n",
              "                                 Company Name         Location   Headquarters  \\\n",
              "0                      Tecolote Research\\n3.8  Albuquerque, NM     Goleta, CA   \n",
              "1  University of Maryland Medical System\\n3.4    Linthicum, MD  Baltimore, MD   \n",
              "\n",
              "                    Size  Founded   Type of ownership  ... avg_salary  \\\n",
              "0  501 to 1000 employees     1973   Company - Private  ...       72.0   \n",
              "1       10000+ employees     1984  Other Organization  ...       87.5   \n",
              "\n",
              "                               company_txt job_state same_state  age  \\\n",
              "0                      Tecolote Research\\n        NM          0   47   \n",
              "1  University of Maryland Medical System\\n        MD          0   36   \n",
              "\n",
              "   python_yn  R_yn  spark  aws excel  \n",
              "0          1     0      0    0     1  \n",
              "1          1     0      0    0     0  \n",
              "\n",
              "[2 rows x 28 columns]"
            ],
            "text/html": [
              "\n",
              "  <div id=\"df-54ab2571-2f88-4913-b59f-e95b228f342b\">\n",
              "    <div class=\"colab-df-container\">\n",
              "      <div>\n",
              "<style scoped>\n",
              "    .dataframe tbody tr th:only-of-type {\n",
              "        vertical-align: middle;\n",
              "    }\n",
              "\n",
              "    .dataframe tbody tr th {\n",
              "        vertical-align: top;\n",
              "    }\n",
              "\n",
              "    .dataframe thead th {\n",
              "        text-align: right;\n",
              "    }\n",
              "</style>\n",
              "<table border=\"1\" class=\"dataframe\">\n",
              "  <thead>\n",
              "    <tr style=\"text-align: right;\">\n",
              "      <th></th>\n",
              "      <th>Job Title</th>\n",
              "      <th>Salary Estimate</th>\n",
              "      <th>Job Description</th>\n",
              "      <th>Rating</th>\n",
              "      <th>Company Name</th>\n",
              "      <th>Location</th>\n",
              "      <th>Headquarters</th>\n",
              "      <th>Size</th>\n",
              "      <th>Founded</th>\n",
              "      <th>Type of ownership</th>\n",
              "      <th>...</th>\n",
              "      <th>avg_salary</th>\n",
              "      <th>company_txt</th>\n",
              "      <th>job_state</th>\n",
              "      <th>same_state</th>\n",
              "      <th>age</th>\n",
              "      <th>python_yn</th>\n",
              "      <th>R_yn</th>\n",
              "      <th>spark</th>\n",
              "      <th>aws</th>\n",
              "      <th>excel</th>\n",
              "    </tr>\n",
              "  </thead>\n",
              "  <tbody>\n",
              "    <tr>\n",
              "      <th>0</th>\n",
              "      <td>Data Scientist</td>\n",
              "      <td>$53K-$91K (Glassdoor est.)</td>\n",
              "      <td>Data Scientist\\nLocation: Albuquerque, NM\\nEdu...</td>\n",
              "      <td>3.8</td>\n",
              "      <td>Tecolote Research\\n3.8</td>\n",
              "      <td>Albuquerque, NM</td>\n",
              "      <td>Goleta, CA</td>\n",
              "      <td>501 to 1000 employees</td>\n",
              "      <td>1973</td>\n",
              "      <td>Company - Private</td>\n",
              "      <td>...</td>\n",
              "      <td>72.0</td>\n",
              "      <td>Tecolote Research\\n</td>\n",
              "      <td>NM</td>\n",
              "      <td>0</td>\n",
              "      <td>47</td>\n",
              "      <td>1</td>\n",
              "      <td>0</td>\n",
              "      <td>0</td>\n",
              "      <td>0</td>\n",
              "      <td>1</td>\n",
              "    </tr>\n",
              "    <tr>\n",
              "      <th>1</th>\n",
              "      <td>Healthcare Data Scientist</td>\n",
              "      <td>$63K-$112K (Glassdoor est.)</td>\n",
              "      <td>What You Will Do:\\n\\nI. General Summary\\n\\nThe...</td>\n",
              "      <td>3.4</td>\n",
              "      <td>University of Maryland Medical System\\n3.4</td>\n",
              "      <td>Linthicum, MD</td>\n",
              "      <td>Baltimore, MD</td>\n",
              "      <td>10000+ employees</td>\n",
              "      <td>1984</td>\n",
              "      <td>Other Organization</td>\n",
              "      <td>...</td>\n",
              "      <td>87.5</td>\n",
              "      <td>University of Maryland Medical System\\n</td>\n",
              "      <td>MD</td>\n",
              "      <td>0</td>\n",
              "      <td>36</td>\n",
              "      <td>1</td>\n",
              "      <td>0</td>\n",
              "      <td>0</td>\n",
              "      <td>0</td>\n",
              "      <td>0</td>\n",
              "    </tr>\n",
              "  </tbody>\n",
              "</table>\n",
              "<p>2 rows × 28 columns</p>\n",
              "</div>\n",
              "      <button class=\"colab-df-convert\" onclick=\"convertToInteractive('df-54ab2571-2f88-4913-b59f-e95b228f342b')\"\n",
              "              title=\"Convert this dataframe to an interactive table.\"\n",
              "              style=\"display:none;\">\n",
              "        \n",
              "  <svg xmlns=\"http://www.w3.org/2000/svg\" height=\"24px\"viewBox=\"0 0 24 24\"\n",
              "       width=\"24px\">\n",
              "    <path d=\"M0 0h24v24H0V0z\" fill=\"none\"/>\n",
              "    <path d=\"M18.56 5.44l.94 2.06.94-2.06 2.06-.94-2.06-.94-.94-2.06-.94 2.06-2.06.94zm-11 1L8.5 8.5l.94-2.06 2.06-.94-2.06-.94L8.5 2.5l-.94 2.06-2.06.94zm10 10l.94 2.06.94-2.06 2.06-.94-2.06-.94-.94-2.06-.94 2.06-2.06.94z\"/><path d=\"M17.41 7.96l-1.37-1.37c-.4-.4-.92-.59-1.43-.59-.52 0-1.04.2-1.43.59L10.3 9.45l-7.72 7.72c-.78.78-.78 2.05 0 2.83L4 21.41c.39.39.9.59 1.41.59.51 0 1.02-.2 1.41-.59l7.78-7.78 2.81-2.81c.8-.78.8-2.07 0-2.86zM5.41 20L4 18.59l7.72-7.72 1.47 1.35L5.41 20z\"/>\n",
              "  </svg>\n",
              "      </button>\n",
              "      \n",
              "  <style>\n",
              "    .colab-df-container {\n",
              "      display:flex;\n",
              "      flex-wrap:wrap;\n",
              "      gap: 12px;\n",
              "    }\n",
              "\n",
              "    .colab-df-convert {\n",
              "      background-color: #E8F0FE;\n",
              "      border: none;\n",
              "      border-radius: 50%;\n",
              "      cursor: pointer;\n",
              "      display: none;\n",
              "      fill: #1967D2;\n",
              "      height: 32px;\n",
              "      padding: 0 0 0 0;\n",
              "      width: 32px;\n",
              "    }\n",
              "\n",
              "    .colab-df-convert:hover {\n",
              "      background-color: #E2EBFA;\n",
              "      box-shadow: 0px 1px 2px rgba(60, 64, 67, 0.3), 0px 1px 3px 1px rgba(60, 64, 67, 0.15);\n",
              "      fill: #174EA6;\n",
              "    }\n",
              "\n",
              "    [theme=dark] .colab-df-convert {\n",
              "      background-color: #3B4455;\n",
              "      fill: #D2E3FC;\n",
              "    }\n",
              "\n",
              "    [theme=dark] .colab-df-convert:hover {\n",
              "      background-color: #434B5C;\n",
              "      box-shadow: 0px 1px 3px 1px rgba(0, 0, 0, 0.15);\n",
              "      filter: drop-shadow(0px 1px 2px rgba(0, 0, 0, 0.3));\n",
              "      fill: #FFFFFF;\n",
              "    }\n",
              "  </style>\n",
              "\n",
              "      <script>\n",
              "        const buttonEl =\n",
              "          document.querySelector('#df-54ab2571-2f88-4913-b59f-e95b228f342b button.colab-df-convert');\n",
              "        buttonEl.style.display =\n",
              "          google.colab.kernel.accessAllowed ? 'block' : 'none';\n",
              "\n",
              "        async function convertToInteractive(key) {\n",
              "          const element = document.querySelector('#df-54ab2571-2f88-4913-b59f-e95b228f342b');\n",
              "          const dataTable =\n",
              "            await google.colab.kernel.invokeFunction('convertToInteractive',\n",
              "                                                     [key], {});\n",
              "          if (!dataTable) return;\n",
              "\n",
              "          const docLinkHtml = 'Like what you see? Visit the ' +\n",
              "            '<a target=\"_blank\" href=https://colab.research.google.com/notebooks/data_table.ipynb>data table notebook</a>'\n",
              "            + ' to learn more about interactive tables.';\n",
              "          element.innerHTML = '';\n",
              "          dataTable['output_type'] = 'display_data';\n",
              "          await google.colab.output.renderOutput(dataTable, element);\n",
              "          const docLink = document.createElement('div');\n",
              "          docLink.innerHTML = docLinkHtml;\n",
              "          element.appendChild(docLink);\n",
              "        }\n",
              "      </script>\n",
              "    </div>\n",
              "  </div>\n",
              "  "
            ]
          },
          "metadata": {},
          "execution_count": 208
        }
      ],
      "source": [
        "df.head(2)"
      ]
    },
    {
      "cell_type": "markdown",
      "metadata": {
        "id": "t7bIGPM-Q3HE"
      },
      "source": [
        "Посмотрим на распределение целевой переменной"
      ]
    },
    {
      "cell_type": "code",
      "execution_count": 209,
      "metadata": {
        "colab": {
          "base_uri": "https://localhost:8080/",
          "height": 265
        },
        "id": "GL2x03rPq6dp",
        "outputId": "c4bcbd25-80fe-45c8-89e0-c0eef2e27574"
      },
      "outputs": [
        {
          "output_type": "display_data",
          "data": {
            "text/plain": [
              "<Figure size 432x288 with 1 Axes>"
            ],
            "image/png": "[encoded data removed]"
          },
          "metadata": {
            "needs_background": "light"
          }
        }
      ],
      "source": [
        "plt.hist(df.avg_salary, bins=70)\n",
        "plt.show()"
      ]
    },
    {
      "cell_type": "markdown",
      "metadata": {
        "id": "Hjy98RUZQ5-n"
      },
      "source": [
        "Похоже на нормальное. Лучший вариант для линейной регрессии :)"
      ]
    },
    {
      "cell_type": "markdown",
      "metadata": {
        "id": "LYwSQxnHQ9iT"
      },
      "source": [
        "Закодируйте колонку `Job Description` при помощи **tf-idf**\n",
        "\n",
        "*  попробуйте подобрать гиперпараметры `min_df`, `max_df`, `ngram_range` у метода для достижения наилучшего качества модели"
      ]
    },
    {
      "cell_type": "code",
      "source": [
        "tfidf = TfidfVectorizer(ngram_range=(1, 2), min_df=4, max_df=0.95)\n",
        "trX, teX, trY, teY = train_test_split(df['Job Description'], df[\"avg_salary\"], test_size=0.2, random_state=RANDOM_STATE)\n",
        "bow = tfidf.fit_transform(trX)\n",
        "clf = Ridge(alpha=1.1)\n",
        "clf.fit(bow, trY)\n",
        "pred = clf.predict(tfidf.transform(teX))\n",
        "print(r2_score(teY, pred))"
      ],
      "metadata": {
        "id": "7Ws3lZiJ9T86",
        "outputId": "cecade72-7c13-489d-e843-d22b68e2cabc",
        "colab": {
          "base_uri": "https://localhost:8080/"
        }
      },
      "execution_count": 250,
      "outputs": [
        {
          "output_type": "stream",
          "name": "stdout",
          "text": [
            "0.6628627382427623\n"
          ]
        }
      ]
    },
    {
      "cell_type": "markdown",
      "metadata": {
        "id": "s8uSZxuRRa60"
      },
      "source": [
        "**Вопрос:** если использовать `min_df = 5`, `max_df=1.0`, `ngram_range=(1,1)`, то сколько столбцов получится в матрице после применения кодировки?"
      ]
    },
    {
      "cell_type": "code",
      "execution_count": 251,
      "metadata": {
        "id": "9JWQoeQ4q6d9",
        "outputId": "c551b7f9-7522-4192-f5df-59f3a1c54dbc",
        "colab": {
          "base_uri": "https://localhost:8080/"
        }
      },
      "outputs": [
        {
          "output_type": "execute_result",
          "data": {
            "text/plain": [
              "4640"
            ]
          },
          "metadata": {},
          "execution_count": 251
        }
      ],
      "source": [
        "tfidf = TfidfVectorizer(ngram_range=(1, 1), min_df=5, max_df=1.0)\n",
        "f = tfidf.fit_transform(df['Job Description'])\n",
        "f.shape[1]"
      ]
    },
    {
      "cell_type": "markdown",
      "metadata": {
        "id": "3bnHV8oNR3KG"
      },
      "source": [
        "Разобъем данные на тренировочные и тестовые. \n",
        "\n",
        "Здесь f - это матрица, полученная в результате кодирования столбца `Job Description`."
      ]
    },
    {
      "cell_type": "code",
      "execution_count": 252,
      "metadata": {
        "id": "zdvN9Lzrq6eK"
      },
      "outputs": [],
      "source": [
        "trX, teX, trY, teY = train_test_split(df['Job Description'], df[\"avg_salary\"], test_size=0.2, random_state=RANDOM_STATE)"
      ]
    },
    {
      "cell_type": "markdown",
      "metadata": {
        "id": "4_h1QKhjSBuC"
      },
      "source": [
        "Обучите линейную регрессию под названием Ridge на тренировочных данных и сделайте предсказания на тренировочных и тестовых данных.\n",
        "\n",
        "**model = Ridge(alpha=1.1)**"
      ]
    },
    {
      "cell_type": "code",
      "source": [
        "from sklearn.linear_model import Ridge"
      ],
      "metadata": {
        "id": "Sn0C0kNbyg-j"
      },
      "execution_count": 253,
      "outputs": []
    },
    {
      "cell_type": "code",
      "execution_count": 254,
      "metadata": {
        "id": "dGflmUM4SHf2",
        "outputId": "90d08148-12ef-4213-c71a-263b9ab4b921",
        "colab": {
          "base_uri": "https://localhost:8080/"
        }
      },
      "outputs": [
        {
          "output_type": "execute_result",
          "data": {
            "text/plain": [
              "Ridge(alpha=1.1)"
            ]
          },
          "metadata": {},
          "execution_count": 254
        }
      ],
      "source": [
        "tfidf = TfidfVectorizer(ngram_range=(1, 1), min_df=5, max_df=1.0)\n",
        "bow = tfidf.fit_transform(trX)\n",
        "clf = Ridge(alpha=1.1)\n",
        "clf.fit(bow, trY)"
      ]
    },
    {
      "cell_type": "markdown",
      "metadata": {
        "id": "7JYrHMlUSJmr"
      },
      "source": [
        "Посчитаем метрику качества предсказания $R^2$. Чем ближе она к 1, тем лучше качество модели.\n",
        "\n",
        "Посчитайте значение $R^2$ на тренировочных и на тестовых данных.\n",
        "\n",
        "**Вопрос:** чему равен $R^2$ на тесте? "
      ]
    },
    {
      "cell_type": "code",
      "execution_count": 255,
      "metadata": {
        "id": "SfJqYav-q6eN",
        "outputId": "c9c4dede-c1ed-45e0-b90d-9e125ef9f550",
        "colab": {
          "base_uri": "https://localhost:8080/"
        }
      },
      "outputs": [
        {
          "output_type": "stream",
          "name": "stdout",
          "text": [
            "0.6194641845147406\n"
          ]
        }
      ],
      "source": [
        "pred = clf.predict(tfidf.transform(teX))\n",
        "print(r2_score(teY, pred))"
      ]
    },
    {
      "cell_type": "markdown",
      "metadata": {
        "id": "fF_UnQY8SgaW"
      },
      "source": [
        "Потестируем нашу модель. Посмотрим. как она оценивает зарплаты :)"
      ]
    },
    {
      "cell_type": "code",
      "execution_count": 256,
      "metadata": {
        "id": "aKFK0-jcq6eS",
        "outputId": "ac1cfc73-3839-4f2a-9959-be2201ae4814",
        "colab": {
          "base_uri": "https://localhost:8080/"
        }
      },
      "outputs": [
        {
          "output_type": "execute_result",
          "data": {
            "text/plain": [
              "array([94.60577841])"
            ]
          },
          "metadata": {},
          "execution_count": 256
        }
      ],
      "source": [
        "clf.predict(tfidf.transform([u\"director\"]))"
      ]
    },
    {
      "cell_type": "code",
      "execution_count": 257,
      "metadata": {
        "id": "4FSKQlcfq6eV",
        "outputId": "adee5525-c510-41c3-f98d-0335cdf152ea",
        "colab": {
          "base_uri": "https://localhost:8080/"
        }
      },
      "outputs": [
        {
          "output_type": "execute_result",
          "data": {
            "text/plain": [
              "array([84.65346484])"
            ]
          },
          "metadata": {},
          "execution_count": 257
        }
      ],
      "source": [
        "clf.predict(tfidf.transform([u\"manager\"]))"
      ]
    },
    {
      "cell_type": "markdown",
      "metadata": {
        "id": "53i6MfuhSmwQ"
      },
      "source": [
        "**Вопрос:** посчитайте зарплату \"data scientist\" при помощи модели."
      ]
    },
    {
      "cell_type": "code",
      "execution_count": 258,
      "metadata": {
        "id": "Hs_S0-byq6eY",
        "outputId": "dfa3a04f-8a73-4865-e30f-e6d643e4fbff",
        "colab": {
          "base_uri": "https://localhost:8080/"
        }
      },
      "outputs": [
        {
          "output_type": "execute_result",
          "data": {
            "text/plain": [
              "array([115.90779458])"
            ]
          },
          "metadata": {},
          "execution_count": 258
        }
      ],
      "source": [
        "clf.predict(tfidf.transform([u\"data scientist\"]))"
      ]
    },
    {
      "cell_type": "markdown",
      "metadata": {
        "id": "xofYdviHTSZK"
      },
      "source": [
        "Посмотрим на веса модели\n",
        "\n",
        "**Вопрос:** какой признак имеет наибольший положительный вес?\n"
      ]
    },
    {
      "cell_type": "code",
      "execution_count": 259,
      "metadata": {
        "id": "NYI_RLZmq6eo",
        "outputId": "3301c19b-851b-42ef-f7da-7c666cd0f982",
        "colab": {
          "base_uri": "https://localhost:8080/"
        }
      },
      "outputs": [
        {
          "output_type": "stream",
          "name": "stdout",
          "text": [
            "CPU times: user 16.5 ms, sys: 0 ns, total: 16.5 ms\n",
            "Wall time: 17.8 ms\n"
          ]
        },
        {
          "output_type": "stream",
          "name": "stderr",
          "text": [
            "/usr/local/lib/python3.8/dist-packages/sklearn/utils/deprecation.py:87: FutureWarning: Function get_feature_names is deprecated; get_feature_names is deprecated in 1.0 and will be removed in 1.2. Please use get_feature_names_out instead.\n",
            "  warnings.warn(msg, category=FutureWarning)\n"
          ]
        }
      ],
      "source": [
        "%%time\n",
        "coefs = sorted(zip(list(np.array(tfidf.get_feature_names())[clf.coef_ != 0]), clf.coef_[clf.coef_ != 0]),\n",
        "               key=lambda x: -x[1])\n",
        "coefs = pd.DataFrame(coefs, columns=[\"ngram\", \"weight\"])"
      ]
    },
    {
      "cell_type": "code",
      "source": [
        "coefs.sort_values(by='weight')[-1:]"
      ],
      "metadata": {
        "id": "MeB3X9q55vjx",
        "outputId": "2e0da430-153e-41a3-fe23-20dd8305ab20",
        "colab": {
          "base_uri": "https://localhost:8080/",
          "height": 81
        }
      },
      "execution_count": 263,
      "outputs": [
        {
          "output_type": "execute_result",
          "data": {
            "text/plain": [
              "       ngram     weight\n",
              "0  actuarial  37.239903"
            ],
            "text/html": [
              "\n",
              "  <div id=\"df-fa4e3698-47c1-45b7-884d-3804a334e69c\">\n",
              "    <div class=\"colab-df-container\">\n",
              "      <div>\n",
              "<style scoped>\n",
              "    .dataframe tbody tr th:only-of-type {\n",
              "        vertical-align: middle;\n",
              "    }\n",
              "\n",
              "    .dataframe tbody tr th {\n",
              "        vertical-align: top;\n",
              "    }\n",
              "\n",
              "    .dataframe thead th {\n",
              "        text-align: right;\n",
              "    }\n",
              "</style>\n",
              "<table border=\"1\" class=\"dataframe\">\n",
              "  <thead>\n",
              "    <tr style=\"text-align: right;\">\n",
              "      <th></th>\n",
              "      <th>ngram</th>\n",
              "      <th>weight</th>\n",
              "    </tr>\n",
              "  </thead>\n",
              "  <tbody>\n",
              "    <tr>\n",
              "      <th>0</th>\n",
              "      <td>actuarial</td>\n",
              "      <td>37.239903</td>\n",
              "    </tr>\n",
              "  </tbody>\n",
              "</table>\n",
              "</div>\n",
              "      <button class=\"colab-df-convert\" onclick=\"convertToInteractive('df-fa4e3698-47c1-45b7-884d-3804a334e69c')\"\n",
              "              title=\"Convert this dataframe to an interactive table.\"\n",
              "              style=\"display:none;\">\n",
              "        \n",
              "  <svg xmlns=\"http://www.w3.org/2000/svg\" height=\"24px\"viewBox=\"0 0 24 24\"\n",
              "       width=\"24px\">\n",
              "    <path d=\"M0 0h24v24H0V0z\" fill=\"none\"/>\n",
              "    <path d=\"M18.56 5.44l.94 2.06.94-2.06 2.06-.94-2.06-.94-.94-2.06-.94 2.06-2.06.94zm-11 1L8.5 8.5l.94-2.06 2.06-.94-2.06-.94L8.5 2.5l-.94 2.06-2.06.94zm10 10l.94 2.06.94-2.06 2.06-.94-2.06-.94-.94-2.06-.94 2.06-2.06.94z\"/><path d=\"M17.41 7.96l-1.37-1.37c-.4-.4-.92-.59-1.43-.59-.52 0-1.04.2-1.43.59L10.3 9.45l-7.72 7.72c-.78.78-.78 2.05 0 2.83L4 21.41c.39.39.9.59 1.41.59.51 0 1.02-.2 1.41-.59l7.78-7.78 2.81-2.81c.8-.78.8-2.07 0-2.86zM5.41 20L4 18.59l7.72-7.72 1.47 1.35L5.41 20z\"/>\n",
              "  </svg>\n",
              "      </button>\n",
              "      \n",
              "  <style>\n",
              "    .colab-df-container {\n",
              "      display:flex;\n",
              "      flex-wrap:wrap;\n",
              "      gap: 12px;\n",
              "    }\n",
              "\n",
              "    .colab-df-convert {\n",
              "      background-color: #E8F0FE;\n",
              "      border: none;\n",
              "      border-radius: 50%;\n",
              "      cursor: pointer;\n",
              "      display: none;\n",
              "      fill: #1967D2;\n",
              "      height: 32px;\n",
              "      padding: 0 0 0 0;\n",
              "      width: 32px;\n",
              "    }\n",
              "\n",
              "    .colab-df-convert:hover {\n",
              "      background-color: #E2EBFA;\n",
              "      box-shadow: 0px 1px 2px rgba(60, 64, 67, 0.3), 0px 1px 3px 1px rgba(60, 64, 67, 0.15);\n",
              "      fill: #174EA6;\n",
              "    }\n",
              "\n",
              "    [theme=dark] .colab-df-convert {\n",
              "      background-color: #3B4455;\n",
              "      fill: #D2E3FC;\n",
              "    }\n",
              "\n",
              "    [theme=dark] .colab-df-convert:hover {\n",
              "      background-color: #434B5C;\n",
              "      box-shadow: 0px 1px 3px 1px rgba(0, 0, 0, 0.15);\n",
              "      filter: drop-shadow(0px 1px 2px rgba(0, 0, 0, 0.3));\n",
              "      fill: #FFFFFF;\n",
              "    }\n",
              "  </style>\n",
              "\n",
              "      <script>\n",
              "        const buttonEl =\n",
              "          document.querySelector('#df-fa4e3698-47c1-45b7-884d-3804a334e69c button.colab-df-convert');\n",
              "        buttonEl.style.display =\n",
              "          google.colab.kernel.accessAllowed ? 'block' : 'none';\n",
              "\n",
              "        async function convertToInteractive(key) {\n",
              "          const element = document.querySelector('#df-fa4e3698-47c1-45b7-884d-3804a334e69c');\n",
              "          const dataTable =\n",
              "            await google.colab.kernel.invokeFunction('convertToInteractive',\n",
              "                                                     [key], {});\n",
              "          if (!dataTable) return;\n",
              "\n",
              "          const docLinkHtml = 'Like what you see? Visit the ' +\n",
              "            '<a target=\"_blank\" href=https://colab.research.google.com/notebooks/data_table.ipynb>data table notebook</a>'\n",
              "            + ' to learn more about interactive tables.';\n",
              "          element.innerHTML = '';\n",
              "          dataTable['output_type'] = 'display_data';\n",
              "          await google.colab.output.renderOutput(dataTable, element);\n",
              "          const docLink = document.createElement('div');\n",
              "          docLink.innerHTML = docLinkHtml;\n",
              "          element.appendChild(docLink);\n",
              "        }\n",
              "      </script>\n",
              "    </div>\n",
              "  </div>\n",
              "  "
            ]
          },
          "metadata": {},
          "execution_count": 263
        }
      ]
    },
    {
      "cell_type": "code",
      "source": [],
      "metadata": {
        "id": "qmV7a1BnBHE2"
      },
      "execution_count": null,
      "outputs": []
    }
  ],
  "metadata": {
    "colab": {
      "provenance": [],
      "include_colab_link": true
    },
    "kernelspec": {
      "display_name": "Python 3 (ipykernel)",
      "language": "python",
      "name": "python3"
    },
    "language_info": {
      "codemirror_mode": {
        "name": "ipython",
        "version": 3
      },
      "file_extension": ".py",
      "mimetype": "text/x-python",
      "name": "python",
      "nbconvert_exporter": "python",
      "pygments_lexer": "ipython3",
      "version": "3.10.6"
    }
  },
  "nbformat": 4,
  "nbformat_minor": 0
}